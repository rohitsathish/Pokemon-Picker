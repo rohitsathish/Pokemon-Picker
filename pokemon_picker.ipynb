{
 "cells": [
  {
   "cell_type": "code",
   "execution_count": 26,
   "metadata": {},
   "outputs": [],
   "source": [
    "import pandas as pd\r\n",
    "from IPython.display import display as dis\r\n",
    "import requests as req\r\n",
    "from bs4 import BeautifulSoup as bs\r\n",
    "import re\r\n",
    "import numpy as np\r\n",
    "from itertools import combinations\r\n",
    "from tqdm import tqdm_notebook"
   ]
  },
  {
   "cell_type": "code",
   "execution_count": 40,
   "metadata": {},
   "outputs": [],
   "source": [
    "legs = pd.read_excel(r\"C:\\Users\\user\\Documents\\Coding\\My Files\\pokemon project\\legendary and mythical pokemon.xlsx\")\r\n",
    "legs = [x for list in legs.values.tolist() for x in list if x != False]\r\n",
    "\r\n",
    "type_chart = pd.read_excel(r\"C:\\Users\\user\\Documents\\Coding\\My Files\\pokemon project\\type_chart.xlsx\")\r\n",
    "type_chart = type_chart.set_index('attack_type')\r\n",
    "\r\n",
    "pok_df = pd.read_excel(r\"C:\\Users\\user\\Documents\\Coding\\My Files\\pokemon project\\gen 4 pokemon psypokes.xlsx\")"
   ]
  },
  {
   "cell_type": "code",
   "execution_count": 41,
   "metadata": {},
   "outputs": [
    {
     "data": {
      "text/html": "<div>\n<style scoped>\n    .dataframe tbody tr th:only-of-type {\n        vertical-align: middle;\n    }\n\n    .dataframe tbody tr th {\n        vertical-align: top;\n    }\n\n    .dataframe thead th {\n        text-align: right;\n    }\n</style>\n<table border=\"1\" class=\"dataframe\">\n  <thead>\n    <tr style=\"text-align: right;\">\n      <th></th>\n      <th>rank</th>\n      <th>pokemon</th>\n      <th>hp</th>\n      <th>atk</th>\n      <th>def</th>\n      <th>satk</th>\n      <th>sdef</th>\n      <th>spd</th>\n      <th>type1</th>\n      <th>type2</th>\n      <th>total</th>\n      <th>alttotal</th>\n      <th>type</th>\n    </tr>\n  </thead>\n  <tbody>\n    <tr>\n      <th>0</th>\n      <td>13</td>\n      <td>Slaking</td>\n      <td>150</td>\n      <td>160</td>\n      <td>100</td>\n      <td>95</td>\n      <td>65</td>\n      <td>100</td>\n      <td>normal</td>\n      <td>0</td>\n      <td>670</td>\n      <td>575</td>\n      <td>normal</td>\n    </tr>\n    <tr>\n      <th>1</th>\n      <td>21</td>\n      <td>Dragonite</td>\n      <td>91</td>\n      <td>134</td>\n      <td>95</td>\n      <td>100</td>\n      <td>100</td>\n      <td>80</td>\n      <td>dragon</td>\n      <td>flying</td>\n      <td>600</td>\n      <td>500</td>\n      <td>(flying, dragon)</td>\n    </tr>\n    <tr>\n      <th>2</th>\n      <td>22</td>\n      <td>Garchomp</td>\n      <td>108</td>\n      <td>130</td>\n      <td>95</td>\n      <td>80</td>\n      <td>85</td>\n      <td>102</td>\n      <td>dragon</td>\n      <td>ground</td>\n      <td>600</td>\n      <td>520</td>\n      <td>(ground, dragon)</td>\n    </tr>\n    <tr>\n      <th>3</th>\n      <td>28</td>\n      <td>Metagross</td>\n      <td>80</td>\n      <td>135</td>\n      <td>130</td>\n      <td>95</td>\n      <td>90</td>\n      <td>70</td>\n      <td>steel</td>\n      <td>psychic</td>\n      <td>600</td>\n      <td>505</td>\n      <td>(steel, psychic)</td>\n    </tr>\n    <tr>\n      <th>4</th>\n      <td>30</td>\n      <td>Salamence</td>\n      <td>95</td>\n      <td>135</td>\n      <td>80</td>\n      <td>110</td>\n      <td>80</td>\n      <td>100</td>\n      <td>dragon</td>\n      <td>flying</td>\n      <td>600</td>\n      <td>490</td>\n      <td>(flying, dragon)</td>\n    </tr>\n    <tr>\n      <th>...</th>\n      <td>...</td>\n      <td>...</td>\n      <td>...</td>\n      <td>...</td>\n      <td>...</td>\n      <td>...</td>\n      <td>...</td>\n      <td>...</td>\n      <td>...</td>\n      <td>...</td>\n      <td>...</td>\n      <td>...</td>\n      <td>...</td>\n    </tr>\n    <tr>\n      <th>463</th>\n      <td>504</td>\n      <td>Weedle</td>\n      <td>40</td>\n      <td>35</td>\n      <td>30</td>\n      <td>20</td>\n      <td>20</td>\n      <td>50</td>\n      <td>bug</td>\n      <td>poison</td>\n      <td>195</td>\n      <td>175</td>\n      <td>(bug, poison)</td>\n    </tr>\n    <tr>\n      <th>464</th>\n      <td>505</td>\n      <td>Wurmple</td>\n      <td>45</td>\n      <td>45</td>\n      <td>35</td>\n      <td>20</td>\n      <td>30</td>\n      <td>20</td>\n      <td>bug</td>\n      <td>0</td>\n      <td>195</td>\n      <td>175</td>\n      <td>bug</td>\n    </tr>\n    <tr>\n      <th>465</th>\n      <td>506</td>\n      <td>Kricketot</td>\n      <td>37</td>\n      <td>25</td>\n      <td>41</td>\n      <td>25</td>\n      <td>41</td>\n      <td>25</td>\n      <td>bug</td>\n      <td>0</td>\n      <td>194</td>\n      <td>169</td>\n      <td>bug</td>\n    </tr>\n    <tr>\n      <th>466</th>\n      <td>507</td>\n      <td>Azurill</td>\n      <td>50</td>\n      <td>20</td>\n      <td>40</td>\n      <td>20</td>\n      <td>40</td>\n      <td>20</td>\n      <td>normal</td>\n      <td>0</td>\n      <td>190</td>\n      <td>170</td>\n      <td>normal</td>\n    </tr>\n    <tr>\n      <th>467</th>\n      <td>508</td>\n      <td>Sunkern</td>\n      <td>30</td>\n      <td>30</td>\n      <td>30</td>\n      <td>30</td>\n      <td>30</td>\n      <td>30</td>\n      <td>grass</td>\n      <td>0</td>\n      <td>180</td>\n      <td>150</td>\n      <td>grass</td>\n    </tr>\n  </tbody>\n</table>\n<p>468 rows × 13 columns</p>\n</div>",
      "text/plain": "     rank    pokemon   hp  atk  def  satk  sdef  spd   type1    type2  total  \\\n0      13    Slaking  150  160  100    95    65  100  normal        0    670   \n1      21  Dragonite   91  134   95   100   100   80  dragon   flying    600   \n2      22   Garchomp  108  130   95    80    85  102  dragon   ground    600   \n3      28  Metagross   80  135  130    95    90   70   steel  psychic    600   \n4      30  Salamence   95  135   80   110    80  100  dragon   flying    600   \n..    ...        ...  ...  ...  ...   ...   ...  ...     ...      ...    ...   \n463   504     Weedle   40   35   30    20    20   50     bug   poison    195   \n464   505    Wurmple   45   45   35    20    30   20     bug        0    195   \n465   506  Kricketot   37   25   41    25    41   25     bug        0    194   \n466   507    Azurill   50   20   40    20    40   20  normal        0    190   \n467   508    Sunkern   30   30   30    30    30   30   grass        0    180   \n\n     alttotal              type  \n0         575            normal  \n1         500  (flying, dragon)  \n2         520  (ground, dragon)  \n3         505  (steel, psychic)  \n4         490  (flying, dragon)  \n..        ...               ...  \n463       175     (bug, poison)  \n464       175               bug  \n465       169               bug  \n466       170            normal  \n467       150             grass  \n\n[468 rows x 13 columns]"
     },
     "execution_count": 41,
     "metadata": {},
     "output_type": "execute_result"
    }
   ],
   "source": [
    "pok_df['type'] = np.nan\r\n",
    "pok_df['type'], pok_df['type1'], pok_df['type2'] = pok_df['type'].astype(str), pok_df['type1'].astype(str), pok_df['type2'].astype(str)\r\n",
    "\r\n",
    "for i, pok in enumerate(pok_df.itertuples()):\r\n",
    "    if pok.type2 == str(0):\r\n",
    "         pok_df.at[i, 'type'] = pok.type1\r\n",
    "    else:\r\n",
    "        pok_df.at[i, 'type'] = frozenset([pok.type1, pok.type2])\r\n",
    "\r\n",
    "pok_df\r\n"
   ]
  },
  {
   "cell_type": "code",
   "execution_count": 42,
   "metadata": {},
   "outputs": [
    {
     "data": {
      "text/html": "<div>\n<style scoped>\n    .dataframe tbody tr th:only-of-type {\n        vertical-align: middle;\n    }\n\n    .dataframe tbody tr th {\n        vertical-align: top;\n    }\n\n    .dataframe thead th {\n        text-align: right;\n    }\n</style>\n<table border=\"1\" class=\"dataframe\">\n  <thead>\n    <tr style=\"text-align: right;\">\n      <th></th>\n      <th>rank</th>\n      <th>pokemon</th>\n      <th>hp</th>\n      <th>atk</th>\n      <th>def</th>\n      <th>satk</th>\n      <th>sdef</th>\n      <th>spd</th>\n      <th>type1</th>\n      <th>type2</th>\n      <th>total</th>\n      <th>alttotal</th>\n      <th>type</th>\n    </tr>\n  </thead>\n  <tbody>\n    <tr>\n      <th>0</th>\n      <td>13</td>\n      <td>Slaking</td>\n      <td>150</td>\n      <td>160</td>\n      <td>100</td>\n      <td>95</td>\n      <td>65</td>\n      <td>100</td>\n      <td>normal</td>\n      <td>0</td>\n      <td>670</td>\n      <td>575</td>\n      <td>normal</td>\n    </tr>\n    <tr>\n      <th>1</th>\n      <td>21</td>\n      <td>Dragonite</td>\n      <td>91</td>\n      <td>134</td>\n      <td>95</td>\n      <td>100</td>\n      <td>100</td>\n      <td>80</td>\n      <td>dragon</td>\n      <td>flying</td>\n      <td>600</td>\n      <td>500</td>\n      <td>(flying, dragon)</td>\n    </tr>\n    <tr>\n      <th>2</th>\n      <td>22</td>\n      <td>Garchomp</td>\n      <td>108</td>\n      <td>130</td>\n      <td>95</td>\n      <td>80</td>\n      <td>85</td>\n      <td>102</td>\n      <td>dragon</td>\n      <td>ground</td>\n      <td>600</td>\n      <td>520</td>\n      <td>(ground, dragon)</td>\n    </tr>\n    <tr>\n      <th>3</th>\n      <td>28</td>\n      <td>Metagross</td>\n      <td>80</td>\n      <td>135</td>\n      <td>130</td>\n      <td>95</td>\n      <td>90</td>\n      <td>70</td>\n      <td>steel</td>\n      <td>psychic</td>\n      <td>600</td>\n      <td>505</td>\n      <td>(steel, psychic)</td>\n    </tr>\n    <tr>\n      <th>4</th>\n      <td>30</td>\n      <td>Salamence</td>\n      <td>95</td>\n      <td>135</td>\n      <td>80</td>\n      <td>110</td>\n      <td>80</td>\n      <td>100</td>\n      <td>dragon</td>\n      <td>flying</td>\n      <td>600</td>\n      <td>490</td>\n      <td>(flying, dragon)</td>\n    </tr>\n    <tr>\n      <th>...</th>\n      <td>...</td>\n      <td>...</td>\n      <td>...</td>\n      <td>...</td>\n      <td>...</td>\n      <td>...</td>\n      <td>...</td>\n      <td>...</td>\n      <td>...</td>\n      <td>...</td>\n      <td>...</td>\n      <td>...</td>\n      <td>...</td>\n    </tr>\n    <tr>\n      <th>463</th>\n      <td>504</td>\n      <td>Weedle</td>\n      <td>40</td>\n      <td>35</td>\n      <td>30</td>\n      <td>20</td>\n      <td>20</td>\n      <td>50</td>\n      <td>bug</td>\n      <td>poison</td>\n      <td>195</td>\n      <td>175</td>\n      <td>(bug, poison)</td>\n    </tr>\n    <tr>\n      <th>464</th>\n      <td>505</td>\n      <td>Wurmple</td>\n      <td>45</td>\n      <td>45</td>\n      <td>35</td>\n      <td>20</td>\n      <td>30</td>\n      <td>20</td>\n      <td>bug</td>\n      <td>0</td>\n      <td>195</td>\n      <td>175</td>\n      <td>bug</td>\n    </tr>\n    <tr>\n      <th>465</th>\n      <td>506</td>\n      <td>Kricketot</td>\n      <td>37</td>\n      <td>25</td>\n      <td>41</td>\n      <td>25</td>\n      <td>41</td>\n      <td>25</td>\n      <td>bug</td>\n      <td>0</td>\n      <td>194</td>\n      <td>169</td>\n      <td>bug</td>\n    </tr>\n    <tr>\n      <th>466</th>\n      <td>507</td>\n      <td>Azurill</td>\n      <td>50</td>\n      <td>20</td>\n      <td>40</td>\n      <td>20</td>\n      <td>40</td>\n      <td>20</td>\n      <td>normal</td>\n      <td>0</td>\n      <td>190</td>\n      <td>170</td>\n      <td>normal</td>\n    </tr>\n    <tr>\n      <th>467</th>\n      <td>508</td>\n      <td>Sunkern</td>\n      <td>30</td>\n      <td>30</td>\n      <td>30</td>\n      <td>30</td>\n      <td>30</td>\n      <td>30</td>\n      <td>grass</td>\n      <td>0</td>\n      <td>180</td>\n      <td>150</td>\n      <td>grass</td>\n    </tr>\n  </tbody>\n</table>\n<p>464 rows × 13 columns</p>\n</div>",
      "text/plain": "     rank    pokemon   hp  atk  def  satk  sdef  spd   type1    type2  total  \\\n0      13    Slaking  150  160  100    95    65  100  normal        0    670   \n1      21  Dragonite   91  134   95   100   100   80  dragon   flying    600   \n2      22   Garchomp  108  130   95    80    85  102  dragon   ground    600   \n3      28  Metagross   80  135  130    95    90   70   steel  psychic    600   \n4      30  Salamence   95  135   80   110    80  100  dragon   flying    600   \n..    ...        ...  ...  ...  ...   ...   ...  ...     ...      ...    ...   \n463   504     Weedle   40   35   30    20    20   50     bug   poison    195   \n464   505    Wurmple   45   45   35    20    30   20     bug        0    195   \n465   506  Kricketot   37   25   41    25    41   25     bug        0    194   \n466   507    Azurill   50   20   40    20    40   20  normal        0    190   \n467   508    Sunkern   30   30   30    30    30   30   grass        0    180   \n\n     alttotal              type  \n0         575            normal  \n1         500  (flying, dragon)  \n2         520  (ground, dragon)  \n3         505  (steel, psychic)  \n4         490  (flying, dragon)  \n..        ...               ...  \n463       175     (bug, poison)  \n464       175               bug  \n465       169               bug  \n466       170            normal  \n467       150             grass  \n\n[464 rows x 13 columns]"
     },
     "execution_count": 42,
     "metadata": {},
     "output_type": "execute_result"
    }
   ],
   "source": [
    "pok_df = pok_df[~pok_df['pokemon'].isin([\"Swampert\",\"Charizard\",\"Gardevoir\",\"Clefable\"])]\r\n",
    "pok_df"
   ]
  },
  {
   "cell_type": "code",
   "execution_count": 43,
   "metadata": {},
   "outputs": [
    {
     "data": {
      "text/html": "<div>\n<style scoped>\n    .dataframe tbody tr th:only-of-type {\n        vertical-align: middle;\n    }\n\n    .dataframe tbody tr th {\n        vertical-align: top;\n    }\n\n    .dataframe thead th {\n        text-align: right;\n    }\n</style>\n<table border=\"1\" class=\"dataframe\">\n  <thead>\n    <tr style=\"text-align: right;\">\n      <th></th>\n      <th>normal</th>\n      <th>fire</th>\n      <th>water</th>\n      <th>electric</th>\n      <th>grass</th>\n      <th>ice</th>\n      <th>fighting</th>\n      <th>poison</th>\n      <th>ground</th>\n      <th>flying</th>\n      <th>psychic</th>\n      <th>bug</th>\n      <th>rock</th>\n      <th>ghost</th>\n      <th>dragon</th>\n      <th>dark</th>\n      <th>steel</th>\n    </tr>\n    <tr>\n      <th>attack_type</th>\n      <th></th>\n      <th></th>\n      <th></th>\n      <th></th>\n      <th></th>\n      <th></th>\n      <th></th>\n      <th></th>\n      <th></th>\n      <th></th>\n      <th></th>\n      <th></th>\n      <th></th>\n      <th></th>\n      <th></th>\n      <th></th>\n      <th></th>\n    </tr>\n  </thead>\n  <tbody>\n    <tr>\n      <th>normal</th>\n      <td>1</td>\n      <td>1.0</td>\n      <td>1.0</td>\n      <td>1.0</td>\n      <td>1.0</td>\n      <td>1.0</td>\n      <td>1.0</td>\n      <td>1.0</td>\n      <td>1.0</td>\n      <td>1.0</td>\n      <td>1.0</td>\n      <td>1.0</td>\n      <td>0.5</td>\n      <td>0.0</td>\n      <td>1.0</td>\n      <td>1.0</td>\n      <td>0.5</td>\n    </tr>\n    <tr>\n      <th>fire</th>\n      <td>1</td>\n      <td>0.5</td>\n      <td>0.5</td>\n      <td>1.0</td>\n      <td>2.0</td>\n      <td>2.0</td>\n      <td>1.0</td>\n      <td>1.0</td>\n      <td>1.0</td>\n      <td>1.0</td>\n      <td>1.0</td>\n      <td>2.0</td>\n      <td>0.5</td>\n      <td>1.0</td>\n      <td>0.5</td>\n      <td>1.0</td>\n      <td>2.0</td>\n    </tr>\n    <tr>\n      <th>water</th>\n      <td>1</td>\n      <td>2.0</td>\n      <td>0.5</td>\n      <td>1.0</td>\n      <td>0.5</td>\n      <td>1.0</td>\n      <td>1.0</td>\n      <td>1.0</td>\n      <td>2.0</td>\n      <td>1.0</td>\n      <td>1.0</td>\n      <td>1.0</td>\n      <td>2.0</td>\n      <td>1.0</td>\n      <td>0.5</td>\n      <td>1.0</td>\n      <td>1.0</td>\n    </tr>\n    <tr>\n      <th>electric</th>\n      <td>1</td>\n      <td>1.0</td>\n      <td>2.0</td>\n      <td>0.5</td>\n      <td>0.5</td>\n      <td>1.0</td>\n      <td>1.0</td>\n      <td>1.0</td>\n      <td>0.0</td>\n      <td>2.0</td>\n      <td>1.0</td>\n      <td>1.0</td>\n      <td>1.0</td>\n      <td>1.0</td>\n      <td>0.5</td>\n      <td>1.0</td>\n      <td>1.0</td>\n    </tr>\n    <tr>\n      <th>grass</th>\n      <td>1</td>\n      <td>0.5</td>\n      <td>2.0</td>\n      <td>1.0</td>\n      <td>0.5</td>\n      <td>1.0</td>\n      <td>1.0</td>\n      <td>0.5</td>\n      <td>2.0</td>\n      <td>0.5</td>\n      <td>1.0</td>\n      <td>0.5</td>\n      <td>2.0</td>\n      <td>1.0</td>\n      <td>0.5</td>\n      <td>1.0</td>\n      <td>0.5</td>\n    </tr>\n    <tr>\n      <th>ice</th>\n      <td>1</td>\n      <td>0.5</td>\n      <td>0.5</td>\n      <td>1.0</td>\n      <td>2.0</td>\n      <td>0.5</td>\n      <td>1.0</td>\n      <td>1.0</td>\n      <td>2.0</td>\n      <td>2.0</td>\n      <td>1.0</td>\n      <td>1.0</td>\n      <td>1.0</td>\n      <td>1.0</td>\n      <td>2.0</td>\n      <td>1.0</td>\n      <td>0.5</td>\n    </tr>\n    <tr>\n      <th>fighting</th>\n      <td>2</td>\n      <td>1.0</td>\n      <td>1.0</td>\n      <td>1.0</td>\n      <td>1.0</td>\n      <td>2.0</td>\n      <td>1.0</td>\n      <td>0.5</td>\n      <td>1.0</td>\n      <td>0.5</td>\n      <td>0.5</td>\n      <td>0.5</td>\n      <td>2.0</td>\n      <td>0.0</td>\n      <td>1.0</td>\n      <td>2.0</td>\n      <td>2.0</td>\n    </tr>\n    <tr>\n      <th>poison</th>\n      <td>1</td>\n      <td>1.0</td>\n      <td>1.0</td>\n      <td>1.0</td>\n      <td>2.0</td>\n      <td>1.0</td>\n      <td>1.0</td>\n      <td>0.5</td>\n      <td>0.5</td>\n      <td>1.0</td>\n      <td>1.0</td>\n      <td>1.0</td>\n      <td>0.5</td>\n      <td>0.5</td>\n      <td>1.0</td>\n      <td>1.0</td>\n      <td>0.0</td>\n    </tr>\n    <tr>\n      <th>ground</th>\n      <td>1</td>\n      <td>2.0</td>\n      <td>1.0</td>\n      <td>2.0</td>\n      <td>0.5</td>\n      <td>1.0</td>\n      <td>1.0</td>\n      <td>2.0</td>\n      <td>1.0</td>\n      <td>0.0</td>\n      <td>1.0</td>\n      <td>0.5</td>\n      <td>2.0</td>\n      <td>1.0</td>\n      <td>1.0</td>\n      <td>1.0</td>\n      <td>2.0</td>\n    </tr>\n    <tr>\n      <th>flying</th>\n      <td>1</td>\n      <td>1.0</td>\n      <td>1.0</td>\n      <td>0.5</td>\n      <td>2.0</td>\n      <td>1.0</td>\n      <td>2.0</td>\n      <td>1.0</td>\n      <td>1.0</td>\n      <td>1.0</td>\n      <td>1.0</td>\n      <td>2.0</td>\n      <td>0.5</td>\n      <td>1.0</td>\n      <td>1.0</td>\n      <td>1.0</td>\n      <td>0.5</td>\n    </tr>\n    <tr>\n      <th>psychic</th>\n      <td>1</td>\n      <td>1.0</td>\n      <td>1.0</td>\n      <td>1.0</td>\n      <td>1.0</td>\n      <td>1.0</td>\n      <td>2.0</td>\n      <td>2.0</td>\n      <td>1.0</td>\n      <td>1.0</td>\n      <td>0.5</td>\n      <td>1.0</td>\n      <td>1.0</td>\n      <td>1.0</td>\n      <td>1.0</td>\n      <td>0.0</td>\n      <td>0.5</td>\n    </tr>\n    <tr>\n      <th>bug</th>\n      <td>1</td>\n      <td>0.5</td>\n      <td>1.0</td>\n      <td>1.0</td>\n      <td>2.0</td>\n      <td>1.0</td>\n      <td>0.5</td>\n      <td>0.5</td>\n      <td>1.0</td>\n      <td>0.5</td>\n      <td>2.0</td>\n      <td>1.0</td>\n      <td>1.0</td>\n      <td>0.5</td>\n      <td>1.0</td>\n      <td>2.0</td>\n      <td>0.5</td>\n    </tr>\n    <tr>\n      <th>rock</th>\n      <td>1</td>\n      <td>2.0</td>\n      <td>1.0</td>\n      <td>1.0</td>\n      <td>1.0</td>\n      <td>2.0</td>\n      <td>0.5</td>\n      <td>1.0</td>\n      <td>0.5</td>\n      <td>2.0</td>\n      <td>1.0</td>\n      <td>2.0</td>\n      <td>1.0</td>\n      <td>1.0</td>\n      <td>1.0</td>\n      <td>1.0</td>\n      <td>0.5</td>\n    </tr>\n    <tr>\n      <th>ghost</th>\n      <td>0</td>\n      <td>1.0</td>\n      <td>1.0</td>\n      <td>1.0</td>\n      <td>1.0</td>\n      <td>1.0</td>\n      <td>1.0</td>\n      <td>1.0</td>\n      <td>1.0</td>\n      <td>1.0</td>\n      <td>2.0</td>\n      <td>1.0</td>\n      <td>1.0</td>\n      <td>2.0</td>\n      <td>1.0</td>\n      <td>0.5</td>\n      <td>0.5</td>\n    </tr>\n    <tr>\n      <th>dragon</th>\n      <td>1</td>\n      <td>1.0</td>\n      <td>1.0</td>\n      <td>1.0</td>\n      <td>1.0</td>\n      <td>1.0</td>\n      <td>1.0</td>\n      <td>1.0</td>\n      <td>1.0</td>\n      <td>1.0</td>\n      <td>1.0</td>\n      <td>1.0</td>\n      <td>1.0</td>\n      <td>1.0</td>\n      <td>2.0</td>\n      <td>1.0</td>\n      <td>0.5</td>\n    </tr>\n    <tr>\n      <th>dark</th>\n      <td>1</td>\n      <td>1.0</td>\n      <td>1.0</td>\n      <td>1.0</td>\n      <td>1.0</td>\n      <td>1.0</td>\n      <td>0.5</td>\n      <td>1.0</td>\n      <td>1.0</td>\n      <td>1.0</td>\n      <td>2.0</td>\n      <td>1.0</td>\n      <td>1.0</td>\n      <td>2.0</td>\n      <td>1.0</td>\n      <td>0.5</td>\n      <td>0.5</td>\n    </tr>\n    <tr>\n      <th>steel</th>\n      <td>1</td>\n      <td>0.5</td>\n      <td>0.5</td>\n      <td>0.5</td>\n      <td>1.0</td>\n      <td>2.0</td>\n      <td>1.0</td>\n      <td>1.0</td>\n      <td>1.0</td>\n      <td>1.0</td>\n      <td>1.0</td>\n      <td>1.0</td>\n      <td>2.0</td>\n      <td>1.0</td>\n      <td>1.0</td>\n      <td>1.0</td>\n      <td>0.5</td>\n    </tr>\n  </tbody>\n</table>\n</div>",
      "text/plain": "             normal  fire  water  electric  grass  ice  fighting  poison  \\\nattack_type                                                                \nnormal            1   1.0    1.0       1.0    1.0  1.0       1.0     1.0   \nfire              1   0.5    0.5       1.0    2.0  2.0       1.0     1.0   \nwater             1   2.0    0.5       1.0    0.5  1.0       1.0     1.0   \nelectric          1   1.0    2.0       0.5    0.5  1.0       1.0     1.0   \ngrass             1   0.5    2.0       1.0    0.5  1.0       1.0     0.5   \nice               1   0.5    0.5       1.0    2.0  0.5       1.0     1.0   \nfighting          2   1.0    1.0       1.0    1.0  2.0       1.0     0.5   \npoison            1   1.0    1.0       1.0    2.0  1.0       1.0     0.5   \nground            1   2.0    1.0       2.0    0.5  1.0       1.0     2.0   \nflying            1   1.0    1.0       0.5    2.0  1.0       2.0     1.0   \npsychic           1   1.0    1.0       1.0    1.0  1.0       2.0     2.0   \nbug               1   0.5    1.0       1.0    2.0  1.0       0.5     0.5   \nrock              1   2.0    1.0       1.0    1.0  2.0       0.5     1.0   \nghost             0   1.0    1.0       1.0    1.0  1.0       1.0     1.0   \ndragon            1   1.0    1.0       1.0    1.0  1.0       1.0     1.0   \ndark              1   1.0    1.0       1.0    1.0  1.0       0.5     1.0   \nsteel             1   0.5    0.5       0.5    1.0  2.0       1.0     1.0   \n\n             ground  flying  psychic  bug  rock  ghost  dragon  dark  steel  \nattack_type                                                                  \nnormal          1.0     1.0      1.0  1.0   0.5    0.0     1.0   1.0    0.5  \nfire            1.0     1.0      1.0  2.0   0.5    1.0     0.5   1.0    2.0  \nwater           2.0     1.0      1.0  1.0   2.0    1.0     0.5   1.0    1.0  \nelectric        0.0     2.0      1.0  1.0   1.0    1.0     0.5   1.0    1.0  \ngrass           2.0     0.5      1.0  0.5   2.0    1.0     0.5   1.0    0.5  \nice             2.0     2.0      1.0  1.0   1.0    1.0     2.0   1.0    0.5  \nfighting        1.0     0.5      0.5  0.5   2.0    0.0     1.0   2.0    2.0  \npoison          0.5     1.0      1.0  1.0   0.5    0.5     1.0   1.0    0.0  \nground          1.0     0.0      1.0  0.5   2.0    1.0     1.0   1.0    2.0  \nflying          1.0     1.0      1.0  2.0   0.5    1.0     1.0   1.0    0.5  \npsychic         1.0     1.0      0.5  1.0   1.0    1.0     1.0   0.0    0.5  \nbug             1.0     0.5      2.0  1.0   1.0    0.5     1.0   2.0    0.5  \nrock            0.5     2.0      1.0  2.0   1.0    1.0     1.0   1.0    0.5  \nghost           1.0     1.0      2.0  1.0   1.0    2.0     1.0   0.5    0.5  \ndragon          1.0     1.0      1.0  1.0   1.0    1.0     2.0   1.0    0.5  \ndark            1.0     1.0      2.0  1.0   1.0    2.0     1.0   0.5    0.5  \nsteel           1.0     1.0      1.0  1.0   2.0    1.0     1.0   1.0    0.5  "
     },
     "execution_count": 43,
     "metadata": {},
     "output_type": "execute_result"
    }
   ],
   "source": [
    "type_chart = type_chart.drop('fairy').drop('fairy',axis=1)\r\n",
    "type_chart"
   ]
  },
  {
   "cell_type": "code",
   "execution_count": 44,
   "metadata": {},
   "outputs": [
    {
     "data": {
      "text/html": "<div>\n<style scoped>\n    .dataframe tbody tr th:only-of-type {\n        vertical-align: middle;\n    }\n\n    .dataframe tbody tr th {\n        vertical-align: top;\n    }\n\n    .dataframe thead th {\n        text-align: right;\n    }\n</style>\n<table border=\"1\" class=\"dataframe\">\n  <thead>\n    <tr style=\"text-align: right;\">\n      <th>type</th>\n      <th>(flying, dragon)</th>\n      <th>(ground, dragon)</th>\n      <th>(steel, psychic)</th>\n      <th>(rock, dark)</th>\n      <th>(flying, normal)</th>\n      <th>(flying, water)</th>\n      <th>(dragon, water)</th>\n      <th>(poison, flying)</th>\n      <th>(ice, water)</th>\n      <th>(steel, electric)</th>\n      <th>...</th>\n      <th>(psychic, ice)</th>\n      <th>(bug, poison)</th>\n      <th>(psychic, rock)</th>\n      <th>(bug, grass)</th>\n      <th>(normal, water)</th>\n      <th>(fire, rock)</th>\n      <th>(flying, ice)</th>\n      <th>(bug, water)</th>\n      <th>(bug, ground)</th>\n      <th>(bug, ghost)</th>\n    </tr>\n    <tr>\n      <th>type</th>\n      <th></th>\n      <th></th>\n      <th></th>\n      <th></th>\n      <th></th>\n      <th></th>\n      <th></th>\n      <th></th>\n      <th></th>\n      <th></th>\n      <th></th>\n      <th></th>\n      <th></th>\n      <th></th>\n      <th></th>\n      <th></th>\n      <th></th>\n      <th></th>\n      <th></th>\n      <th></th>\n      <th></th>\n    </tr>\n  </thead>\n  <tbody>\n    <tr>\n      <th>(flying, dragon)</th>\n      <td>NaN</td>\n      <td>NaN</td>\n      <td>NaN</td>\n      <td>NaN</td>\n      <td>NaN</td>\n      <td>NaN</td>\n      <td>NaN</td>\n      <td>NaN</td>\n      <td>NaN</td>\n      <td>NaN</td>\n      <td>...</td>\n      <td>NaN</td>\n      <td>NaN</td>\n      <td>NaN</td>\n      <td>NaN</td>\n      <td>NaN</td>\n      <td>NaN</td>\n      <td>NaN</td>\n      <td>NaN</td>\n      <td>NaN</td>\n      <td>NaN</td>\n    </tr>\n    <tr>\n      <th>(ground, dragon)</th>\n      <td>NaN</td>\n      <td>NaN</td>\n      <td>NaN</td>\n      <td>NaN</td>\n      <td>NaN</td>\n      <td>NaN</td>\n      <td>NaN</td>\n      <td>NaN</td>\n      <td>NaN</td>\n      <td>NaN</td>\n      <td>...</td>\n      <td>NaN</td>\n      <td>NaN</td>\n      <td>NaN</td>\n      <td>NaN</td>\n      <td>NaN</td>\n      <td>NaN</td>\n      <td>NaN</td>\n      <td>NaN</td>\n      <td>NaN</td>\n      <td>NaN</td>\n    </tr>\n    <tr>\n      <th>(steel, psychic)</th>\n      <td>NaN</td>\n      <td>NaN</td>\n      <td>NaN</td>\n      <td>NaN</td>\n      <td>NaN</td>\n      <td>NaN</td>\n      <td>NaN</td>\n      <td>NaN</td>\n      <td>NaN</td>\n      <td>NaN</td>\n      <td>...</td>\n      <td>NaN</td>\n      <td>NaN</td>\n      <td>NaN</td>\n      <td>NaN</td>\n      <td>NaN</td>\n      <td>NaN</td>\n      <td>NaN</td>\n      <td>NaN</td>\n      <td>NaN</td>\n      <td>NaN</td>\n    </tr>\n    <tr>\n      <th>(rock, dark)</th>\n      <td>NaN</td>\n      <td>NaN</td>\n      <td>NaN</td>\n      <td>NaN</td>\n      <td>NaN</td>\n      <td>NaN</td>\n      <td>NaN</td>\n      <td>NaN</td>\n      <td>NaN</td>\n      <td>NaN</td>\n      <td>...</td>\n      <td>NaN</td>\n      <td>NaN</td>\n      <td>NaN</td>\n      <td>NaN</td>\n      <td>NaN</td>\n      <td>NaN</td>\n      <td>NaN</td>\n      <td>NaN</td>\n      <td>NaN</td>\n      <td>NaN</td>\n    </tr>\n    <tr>\n      <th>(flying, normal)</th>\n      <td>NaN</td>\n      <td>NaN</td>\n      <td>NaN</td>\n      <td>NaN</td>\n      <td>NaN</td>\n      <td>NaN</td>\n      <td>NaN</td>\n      <td>NaN</td>\n      <td>NaN</td>\n      <td>NaN</td>\n      <td>...</td>\n      <td>NaN</td>\n      <td>NaN</td>\n      <td>NaN</td>\n      <td>NaN</td>\n      <td>NaN</td>\n      <td>NaN</td>\n      <td>NaN</td>\n      <td>NaN</td>\n      <td>NaN</td>\n      <td>NaN</td>\n    </tr>\n    <tr>\n      <th>...</th>\n      <td>...</td>\n      <td>...</td>\n      <td>...</td>\n      <td>...</td>\n      <td>...</td>\n      <td>...</td>\n      <td>...</td>\n      <td>...</td>\n      <td>...</td>\n      <td>...</td>\n      <td>...</td>\n      <td>...</td>\n      <td>...</td>\n      <td>...</td>\n      <td>...</td>\n      <td>...</td>\n      <td>...</td>\n      <td>...</td>\n      <td>...</td>\n      <td>...</td>\n      <td>...</td>\n    </tr>\n    <tr>\n      <th>(fire, rock)</th>\n      <td>NaN</td>\n      <td>NaN</td>\n      <td>NaN</td>\n      <td>NaN</td>\n      <td>NaN</td>\n      <td>NaN</td>\n      <td>NaN</td>\n      <td>NaN</td>\n      <td>NaN</td>\n      <td>NaN</td>\n      <td>...</td>\n      <td>NaN</td>\n      <td>NaN</td>\n      <td>NaN</td>\n      <td>NaN</td>\n      <td>NaN</td>\n      <td>NaN</td>\n      <td>NaN</td>\n      <td>NaN</td>\n      <td>NaN</td>\n      <td>NaN</td>\n    </tr>\n    <tr>\n      <th>(flying, ice)</th>\n      <td>NaN</td>\n      <td>NaN</td>\n      <td>NaN</td>\n      <td>NaN</td>\n      <td>NaN</td>\n      <td>NaN</td>\n      <td>NaN</td>\n      <td>NaN</td>\n      <td>NaN</td>\n      <td>NaN</td>\n      <td>...</td>\n      <td>NaN</td>\n      <td>NaN</td>\n      <td>NaN</td>\n      <td>NaN</td>\n      <td>NaN</td>\n      <td>NaN</td>\n      <td>NaN</td>\n      <td>NaN</td>\n      <td>NaN</td>\n      <td>NaN</td>\n    </tr>\n    <tr>\n      <th>(bug, water)</th>\n      <td>NaN</td>\n      <td>NaN</td>\n      <td>NaN</td>\n      <td>NaN</td>\n      <td>NaN</td>\n      <td>NaN</td>\n      <td>NaN</td>\n      <td>NaN</td>\n      <td>NaN</td>\n      <td>NaN</td>\n      <td>...</td>\n      <td>NaN</td>\n      <td>NaN</td>\n      <td>NaN</td>\n      <td>NaN</td>\n      <td>NaN</td>\n      <td>NaN</td>\n      <td>NaN</td>\n      <td>NaN</td>\n      <td>NaN</td>\n      <td>NaN</td>\n    </tr>\n    <tr>\n      <th>(bug, ground)</th>\n      <td>NaN</td>\n      <td>NaN</td>\n      <td>NaN</td>\n      <td>NaN</td>\n      <td>NaN</td>\n      <td>NaN</td>\n      <td>NaN</td>\n      <td>NaN</td>\n      <td>NaN</td>\n      <td>NaN</td>\n      <td>...</td>\n      <td>NaN</td>\n      <td>NaN</td>\n      <td>NaN</td>\n      <td>NaN</td>\n      <td>NaN</td>\n      <td>NaN</td>\n      <td>NaN</td>\n      <td>NaN</td>\n      <td>NaN</td>\n      <td>NaN</td>\n    </tr>\n    <tr>\n      <th>(bug, ghost)</th>\n      <td>NaN</td>\n      <td>NaN</td>\n      <td>NaN</td>\n      <td>NaN</td>\n      <td>NaN</td>\n      <td>NaN</td>\n      <td>NaN</td>\n      <td>NaN</td>\n      <td>NaN</td>\n      <td>NaN</td>\n      <td>...</td>\n      <td>NaN</td>\n      <td>NaN</td>\n      <td>NaN</td>\n      <td>NaN</td>\n      <td>NaN</td>\n      <td>NaN</td>\n      <td>NaN</td>\n      <td>NaN</td>\n      <td>NaN</td>\n      <td>NaN</td>\n    </tr>\n  </tbody>\n</table>\n<p>66 rows × 66 columns</p>\n</div>",
      "text/plain": "type              (flying, dragon)  (ground, dragon)  (steel, psychic)  \\\ntype                                                                     \n(flying, dragon)               NaN               NaN               NaN   \n(ground, dragon)               NaN               NaN               NaN   \n(steel, psychic)               NaN               NaN               NaN   \n(rock, dark)                   NaN               NaN               NaN   \n(flying, normal)               NaN               NaN               NaN   \n...                            ...               ...               ...   \n(fire, rock)                   NaN               NaN               NaN   \n(flying, ice)                  NaN               NaN               NaN   \n(bug, water)                   NaN               NaN               NaN   \n(bug, ground)                  NaN               NaN               NaN   \n(bug, ghost)                   NaN               NaN               NaN   \n\ntype              (rock, dark)  (flying, normal)  (flying, water)  \\\ntype                                                                \n(flying, dragon)           NaN               NaN              NaN   \n(ground, dragon)           NaN               NaN              NaN   \n(steel, psychic)           NaN               NaN              NaN   \n(rock, dark)               NaN               NaN              NaN   \n(flying, normal)           NaN               NaN              NaN   \n...                        ...               ...              ...   \n(fire, rock)               NaN               NaN              NaN   \n(flying, ice)              NaN               NaN              NaN   \n(bug, water)               NaN               NaN              NaN   \n(bug, ground)              NaN               NaN              NaN   \n(bug, ghost)               NaN               NaN              NaN   \n\ntype              (dragon, water)  (poison, flying)  (ice, water)  \\\ntype                                                                \n(flying, dragon)              NaN               NaN           NaN   \n(ground, dragon)              NaN               NaN           NaN   \n(steel, psychic)              NaN               NaN           NaN   \n(rock, dark)                  NaN               NaN           NaN   \n(flying, normal)              NaN               NaN           NaN   \n...                           ...               ...           ...   \n(fire, rock)                  NaN               NaN           NaN   \n(flying, ice)                 NaN               NaN           NaN   \n(bug, water)                  NaN               NaN           NaN   \n(bug, ground)                 NaN               NaN           NaN   \n(bug, ghost)                  NaN               NaN           NaN   \n\ntype              (steel, electric)  ...  (psychic, ice)  (bug, poison)  \\\ntype                                 ...                                  \n(flying, dragon)                NaN  ...             NaN            NaN   \n(ground, dragon)                NaN  ...             NaN            NaN   \n(steel, psychic)                NaN  ...             NaN            NaN   \n(rock, dark)                    NaN  ...             NaN            NaN   \n(flying, normal)                NaN  ...             NaN            NaN   \n...                             ...  ...             ...            ...   \n(fire, rock)                    NaN  ...             NaN            NaN   \n(flying, ice)                   NaN  ...             NaN            NaN   \n(bug, water)                    NaN  ...             NaN            NaN   \n(bug, ground)                   NaN  ...             NaN            NaN   \n(bug, ghost)                    NaN  ...             NaN            NaN   \n\ntype              (psychic, rock)  (bug, grass)  (normal, water)  \\\ntype                                                               \n(flying, dragon)              NaN           NaN              NaN   \n(ground, dragon)              NaN           NaN              NaN   \n(steel, psychic)              NaN           NaN              NaN   \n(rock, dark)                  NaN           NaN              NaN   \n(flying, normal)              NaN           NaN              NaN   \n...                           ...           ...              ...   \n(fire, rock)                  NaN           NaN              NaN   \n(flying, ice)                 NaN           NaN              NaN   \n(bug, water)                  NaN           NaN              NaN   \n(bug, ground)                 NaN           NaN              NaN   \n(bug, ghost)                  NaN           NaN              NaN   \n\ntype              (fire, rock)  (flying, ice)  (bug, water)  (bug, ground)  \\\ntype                                                                         \n(flying, dragon)           NaN            NaN           NaN            NaN   \n(ground, dragon)           NaN            NaN           NaN            NaN   \n(steel, psychic)           NaN            NaN           NaN            NaN   \n(rock, dark)               NaN            NaN           NaN            NaN   \n(flying, normal)           NaN            NaN           NaN            NaN   \n...                        ...            ...           ...            ...   \n(fire, rock)               NaN            NaN           NaN            NaN   \n(flying, ice)              NaN            NaN           NaN            NaN   \n(bug, water)               NaN            NaN           NaN            NaN   \n(bug, ground)              NaN            NaN           NaN            NaN   \n(bug, ghost)               NaN            NaN           NaN            NaN   \n\ntype              (bug, ghost)  \ntype                            \n(flying, dragon)           NaN  \n(ground, dragon)           NaN  \n(steel, psychic)           NaN  \n(rock, dark)               NaN  \n(flying, normal)           NaN  \n...                        ...  \n(fire, rock)               NaN  \n(flying, ice)              NaN  \n(bug, water)               NaN  \n(bug, ground)              NaN  \n(bug, ghost)               NaN  \n\n[66 rows x 66 columns]"
     },
     "execution_count": 44,
     "metadata": {},
     "output_type": "execute_result"
    }
   ],
   "source": [
    "two_types = pok_df['type'][pok_df['type'].apply(lambda x: isinstance(x, frozenset))]\r\n",
    "two_types = pd.DataFrame(two_types).set_index(['type'])\r\n",
    "two_types = two_types[~two_types.index.duplicated(keep='first')]\r\n",
    "two_types*two_types.T"
   ]
  },
  {
   "cell_type": "code",
   "execution_count": 45,
   "metadata": {},
   "outputs": [],
   "source": [
    "type_chart_joined = pd.concat([type_chart, two_types], axis=0, join='outer')\r\n",
    "type_chart_joined = pd.concat([type_chart_joined.T, two_types], axis=1, join='outer')\r\n",
    "type_chart_joined = type_chart_joined.T\r\n"
   ]
  },
  {
   "cell_type": "code",
   "execution_count": 46,
   "metadata": {},
   "outputs": [
    {
     "data": {
      "text/html": "<div>\n<style scoped>\n    .dataframe tbody tr th:only-of-type {\n        vertical-align: middle;\n    }\n\n    .dataframe tbody tr th {\n        vertical-align: top;\n    }\n\n    .dataframe thead th {\n        text-align: right;\n    }\n</style>\n<table border=\"1\" class=\"dataframe\">\n  <thead>\n    <tr style=\"text-align: right;\">\n      <th></th>\n      <th>normal</th>\n      <th>fire</th>\n      <th>water</th>\n      <th>electric</th>\n      <th>grass</th>\n      <th>ice</th>\n      <th>fighting</th>\n      <th>poison</th>\n      <th>ground</th>\n      <th>flying</th>\n      <th>...</th>\n      <th>(psychic, ice)</th>\n      <th>(bug, poison)</th>\n      <th>(psychic, rock)</th>\n      <th>(bug, grass)</th>\n      <th>(normal, water)</th>\n      <th>(fire, rock)</th>\n      <th>(flying, ice)</th>\n      <th>(bug, water)</th>\n      <th>(bug, ground)</th>\n      <th>(bug, ghost)</th>\n    </tr>\n  </thead>\n  <tbody>\n    <tr>\n      <th>normal</th>\n      <td>1.0</td>\n      <td>1.0</td>\n      <td>1.0</td>\n      <td>1.0</td>\n      <td>1.0</td>\n      <td>1.0</td>\n      <td>1.0</td>\n      <td>1.0</td>\n      <td>1.0</td>\n      <td>1.0</td>\n      <td>...</td>\n      <td>NaN</td>\n      <td>NaN</td>\n      <td>NaN</td>\n      <td>NaN</td>\n      <td>NaN</td>\n      <td>NaN</td>\n      <td>NaN</td>\n      <td>NaN</td>\n      <td>NaN</td>\n      <td>NaN</td>\n    </tr>\n    <tr>\n      <th>fire</th>\n      <td>1.0</td>\n      <td>0.5</td>\n      <td>0.5</td>\n      <td>1.0</td>\n      <td>2.0</td>\n      <td>2.0</td>\n      <td>1.0</td>\n      <td>1.0</td>\n      <td>1.0</td>\n      <td>1.0</td>\n      <td>...</td>\n      <td>NaN</td>\n      <td>NaN</td>\n      <td>NaN</td>\n      <td>NaN</td>\n      <td>NaN</td>\n      <td>NaN</td>\n      <td>NaN</td>\n      <td>NaN</td>\n      <td>NaN</td>\n      <td>NaN</td>\n    </tr>\n    <tr>\n      <th>water</th>\n      <td>1.0</td>\n      <td>2.0</td>\n      <td>0.5</td>\n      <td>1.0</td>\n      <td>0.5</td>\n      <td>1.0</td>\n      <td>1.0</td>\n      <td>1.0</td>\n      <td>2.0</td>\n      <td>1.0</td>\n      <td>...</td>\n      <td>NaN</td>\n      <td>NaN</td>\n      <td>NaN</td>\n      <td>NaN</td>\n      <td>NaN</td>\n      <td>NaN</td>\n      <td>NaN</td>\n      <td>NaN</td>\n      <td>NaN</td>\n      <td>NaN</td>\n    </tr>\n    <tr>\n      <th>electric</th>\n      <td>1.0</td>\n      <td>1.0</td>\n      <td>2.0</td>\n      <td>0.5</td>\n      <td>0.5</td>\n      <td>1.0</td>\n      <td>1.0</td>\n      <td>1.0</td>\n      <td>0.0</td>\n      <td>2.0</td>\n      <td>...</td>\n      <td>NaN</td>\n      <td>NaN</td>\n      <td>NaN</td>\n      <td>NaN</td>\n      <td>NaN</td>\n      <td>NaN</td>\n      <td>NaN</td>\n      <td>NaN</td>\n      <td>NaN</td>\n      <td>NaN</td>\n    </tr>\n    <tr>\n      <th>grass</th>\n      <td>1.0</td>\n      <td>0.5</td>\n      <td>2.0</td>\n      <td>1.0</td>\n      <td>0.5</td>\n      <td>1.0</td>\n      <td>1.0</td>\n      <td>0.5</td>\n      <td>2.0</td>\n      <td>0.5</td>\n      <td>...</td>\n      <td>NaN</td>\n      <td>NaN</td>\n      <td>NaN</td>\n      <td>NaN</td>\n      <td>NaN</td>\n      <td>NaN</td>\n      <td>NaN</td>\n      <td>NaN</td>\n      <td>NaN</td>\n      <td>NaN</td>\n    </tr>\n    <tr>\n      <th>...</th>\n      <td>...</td>\n      <td>...</td>\n      <td>...</td>\n      <td>...</td>\n      <td>...</td>\n      <td>...</td>\n      <td>...</td>\n      <td>...</td>\n      <td>...</td>\n      <td>...</td>\n      <td>...</td>\n      <td>...</td>\n      <td>...</td>\n      <td>...</td>\n      <td>...</td>\n      <td>...</td>\n      <td>...</td>\n      <td>...</td>\n      <td>...</td>\n      <td>...</td>\n      <td>...</td>\n    </tr>\n    <tr>\n      <th>(fire, rock)</th>\n      <td>1.0</td>\n      <td>2.0</td>\n      <td>1.0</td>\n      <td>1.0</td>\n      <td>2.0</td>\n      <td>2.0</td>\n      <td>1.0</td>\n      <td>1.0</td>\n      <td>1.0</td>\n      <td>2.0</td>\n      <td>...</td>\n      <td>NaN</td>\n      <td>NaN</td>\n      <td>NaN</td>\n      <td>NaN</td>\n      <td>NaN</td>\n      <td>NaN</td>\n      <td>NaN</td>\n      <td>NaN</td>\n      <td>NaN</td>\n      <td>NaN</td>\n    </tr>\n    <tr>\n      <th>(flying, ice)</th>\n      <td>1.0</td>\n      <td>1.0</td>\n      <td>1.0</td>\n      <td>1.0</td>\n      <td>2.0</td>\n      <td>1.0</td>\n      <td>2.0</td>\n      <td>1.0</td>\n      <td>2.0</td>\n      <td>2.0</td>\n      <td>...</td>\n      <td>NaN</td>\n      <td>NaN</td>\n      <td>NaN</td>\n      <td>NaN</td>\n      <td>NaN</td>\n      <td>NaN</td>\n      <td>NaN</td>\n      <td>NaN</td>\n      <td>NaN</td>\n      <td>NaN</td>\n    </tr>\n    <tr>\n      <th>(bug, water)</th>\n      <td>1.0</td>\n      <td>2.0</td>\n      <td>1.0</td>\n      <td>1.0</td>\n      <td>2.0</td>\n      <td>1.0</td>\n      <td>1.0</td>\n      <td>1.0</td>\n      <td>2.0</td>\n      <td>1.0</td>\n      <td>...</td>\n      <td>NaN</td>\n      <td>NaN</td>\n      <td>NaN</td>\n      <td>NaN</td>\n      <td>NaN</td>\n      <td>NaN</td>\n      <td>NaN</td>\n      <td>NaN</td>\n      <td>NaN</td>\n      <td>NaN</td>\n    </tr>\n    <tr>\n      <th>(bug, ground)</th>\n      <td>1.0</td>\n      <td>2.0</td>\n      <td>1.0</td>\n      <td>2.0</td>\n      <td>2.0</td>\n      <td>1.0</td>\n      <td>1.0</td>\n      <td>2.0</td>\n      <td>1.0</td>\n      <td>0.5</td>\n      <td>...</td>\n      <td>NaN</td>\n      <td>NaN</td>\n      <td>NaN</td>\n      <td>NaN</td>\n      <td>NaN</td>\n      <td>NaN</td>\n      <td>NaN</td>\n      <td>NaN</td>\n      <td>NaN</td>\n      <td>NaN</td>\n    </tr>\n    <tr>\n      <th>(bug, ghost)</th>\n      <td>1.0</td>\n      <td>1.0</td>\n      <td>1.0</td>\n      <td>1.0</td>\n      <td>2.0</td>\n      <td>1.0</td>\n      <td>1.0</td>\n      <td>1.0</td>\n      <td>1.0</td>\n      <td>1.0</td>\n      <td>...</td>\n      <td>NaN</td>\n      <td>NaN</td>\n      <td>NaN</td>\n      <td>NaN</td>\n      <td>NaN</td>\n      <td>NaN</td>\n      <td>NaN</td>\n      <td>NaN</td>\n      <td>NaN</td>\n      <td>NaN</td>\n    </tr>\n  </tbody>\n</table>\n<p>83 rows × 83 columns</p>\n</div>",
      "text/plain": "               normal  fire  water  electric  grass  ice  fighting  poison  \\\nnormal            1.0   1.0    1.0       1.0    1.0  1.0       1.0     1.0   \nfire              1.0   0.5    0.5       1.0    2.0  2.0       1.0     1.0   \nwater             1.0   2.0    0.5       1.0    0.5  1.0       1.0     1.0   \nelectric          1.0   1.0    2.0       0.5    0.5  1.0       1.0     1.0   \ngrass             1.0   0.5    2.0       1.0    0.5  1.0       1.0     0.5   \n...               ...   ...    ...       ...    ...  ...       ...     ...   \n(fire, rock)      1.0   2.0    1.0       1.0    2.0  2.0       1.0     1.0   \n(flying, ice)     1.0   1.0    1.0       1.0    2.0  1.0       2.0     1.0   \n(bug, water)      1.0   2.0    1.0       1.0    2.0  1.0       1.0     1.0   \n(bug, ground)     1.0   2.0    1.0       2.0    2.0  1.0       1.0     2.0   \n(bug, ghost)      1.0   1.0    1.0       1.0    2.0  1.0       1.0     1.0   \n\n               ground  flying  ...  (psychic, ice)  (bug, poison)  \\\nnormal            1.0     1.0  ...             NaN            NaN   \nfire              1.0     1.0  ...             NaN            NaN   \nwater             2.0     1.0  ...             NaN            NaN   \nelectric          0.0     2.0  ...             NaN            NaN   \ngrass             2.0     0.5  ...             NaN            NaN   \n...               ...     ...  ...             ...            ...   \n(fire, rock)      1.0     2.0  ...             NaN            NaN   \n(flying, ice)     2.0     2.0  ...             NaN            NaN   \n(bug, water)      2.0     1.0  ...             NaN            NaN   \n(bug, ground)     1.0     0.5  ...             NaN            NaN   \n(bug, ghost)      1.0     1.0  ...             NaN            NaN   \n\n               (psychic, rock)  (bug, grass)  (normal, water)  (fire, rock)  \\\nnormal                     NaN           NaN              NaN           NaN   \nfire                       NaN           NaN              NaN           NaN   \nwater                      NaN           NaN              NaN           NaN   \nelectric                   NaN           NaN              NaN           NaN   \ngrass                      NaN           NaN              NaN           NaN   \n...                        ...           ...              ...           ...   \n(fire, rock)               NaN           NaN              NaN           NaN   \n(flying, ice)              NaN           NaN              NaN           NaN   \n(bug, water)               NaN           NaN              NaN           NaN   \n(bug, ground)              NaN           NaN              NaN           NaN   \n(bug, ghost)               NaN           NaN              NaN           NaN   \n\n               (flying, ice)  (bug, water)  (bug, ground)  (bug, ghost)  \nnormal                   NaN           NaN            NaN           NaN  \nfire                     NaN           NaN            NaN           NaN  \nwater                    NaN           NaN            NaN           NaN  \nelectric                 NaN           NaN            NaN           NaN  \ngrass                    NaN           NaN            NaN           NaN  \n...                      ...           ...            ...           ...  \n(fire, rock)             NaN           NaN            NaN           NaN  \n(flying, ice)            NaN           NaN            NaN           NaN  \n(bug, water)             NaN           NaN            NaN           NaN  \n(bug, ground)            NaN           NaN            NaN           NaN  \n(bug, ghost)             NaN           NaN            NaN           NaN  \n\n[83 rows x 83 columns]"
     },
     "execution_count": 46,
     "metadata": {},
     "output_type": "execute_result"
    }
   ],
   "source": [
    "for type, row in type_chart_joined.T.iterrows():\r\n",
    "    types = [list(x) for x in row.index if isinstance(x, frozenset)]\r\n",
    "    for line in types:\r\n",
    "        value = max(row[line[0]], row[line[1]])\r\n",
    "        type_chart_joined.at[frozenset(line), type] = value\r\n",
    "\r\n",
    "type_chart_joined"
   ]
  },
  {
   "cell_type": "code",
   "execution_count": 47,
   "metadata": {},
   "outputs": [
    {
     "data": {
      "text/html": "<div>\n<style scoped>\n    .dataframe tbody tr th:only-of-type {\n        vertical-align: middle;\n    }\n\n    .dataframe tbody tr th {\n        vertical-align: top;\n    }\n\n    .dataframe thead th {\n        text-align: right;\n    }\n</style>\n<table border=\"1\" class=\"dataframe\">\n  <thead>\n    <tr style=\"text-align: right;\">\n      <th></th>\n      <th>normal</th>\n      <th>fire</th>\n      <th>water</th>\n      <th>electric</th>\n      <th>grass</th>\n      <th>ice</th>\n      <th>fighting</th>\n      <th>poison</th>\n      <th>ground</th>\n      <th>flying</th>\n      <th>...</th>\n      <th>(psychic, ice)</th>\n      <th>(bug, poison)</th>\n      <th>(psychic, rock)</th>\n      <th>(bug, grass)</th>\n      <th>(normal, water)</th>\n      <th>(fire, rock)</th>\n      <th>(flying, ice)</th>\n      <th>(bug, water)</th>\n      <th>(bug, ground)</th>\n      <th>(bug, ghost)</th>\n    </tr>\n  </thead>\n  <tbody>\n    <tr>\n      <th>normal</th>\n      <td>1.0</td>\n      <td>1.0</td>\n      <td>1.0</td>\n      <td>1.0</td>\n      <td>1.0</td>\n      <td>1.0</td>\n      <td>1.0</td>\n      <td>1.0</td>\n      <td>1.0</td>\n      <td>1.0</td>\n      <td>...</td>\n      <td>1.0</td>\n      <td>1.00</td>\n      <td>0.5</td>\n      <td>1.00</td>\n      <td>1.0</td>\n      <td>0.50</td>\n      <td>1.0</td>\n      <td>1.0</td>\n      <td>1.0</td>\n      <td>0.0</td>\n    </tr>\n    <tr>\n      <th>fire</th>\n      <td>1.0</td>\n      <td>0.5</td>\n      <td>0.5</td>\n      <td>1.0</td>\n      <td>2.0</td>\n      <td>2.0</td>\n      <td>1.0</td>\n      <td>1.0</td>\n      <td>1.0</td>\n      <td>1.0</td>\n      <td>...</td>\n      <td>2.0</td>\n      <td>2.00</td>\n      <td>0.5</td>\n      <td>4.00</td>\n      <td>0.5</td>\n      <td>0.25</td>\n      <td>2.0</td>\n      <td>1.0</td>\n      <td>2.0</td>\n      <td>2.0</td>\n    </tr>\n    <tr>\n      <th>water</th>\n      <td>1.0</td>\n      <td>2.0</td>\n      <td>0.5</td>\n      <td>1.0</td>\n      <td>0.5</td>\n      <td>1.0</td>\n      <td>1.0</td>\n      <td>1.0</td>\n      <td>2.0</td>\n      <td>1.0</td>\n      <td>...</td>\n      <td>1.0</td>\n      <td>1.00</td>\n      <td>2.0</td>\n      <td>0.50</td>\n      <td>0.5</td>\n      <td>4.00</td>\n      <td>1.0</td>\n      <td>0.5</td>\n      <td>2.0</td>\n      <td>1.0</td>\n    </tr>\n    <tr>\n      <th>electric</th>\n      <td>1.0</td>\n      <td>1.0</td>\n      <td>2.0</td>\n      <td>0.5</td>\n      <td>0.5</td>\n      <td>1.0</td>\n      <td>1.0</td>\n      <td>1.0</td>\n      <td>0.0</td>\n      <td>2.0</td>\n      <td>...</td>\n      <td>1.0</td>\n      <td>1.00</td>\n      <td>1.0</td>\n      <td>0.50</td>\n      <td>2.0</td>\n      <td>1.00</td>\n      <td>2.0</td>\n      <td>2.0</td>\n      <td>0.0</td>\n      <td>1.0</td>\n    </tr>\n    <tr>\n      <th>grass</th>\n      <td>1.0</td>\n      <td>0.5</td>\n      <td>2.0</td>\n      <td>1.0</td>\n      <td>0.5</td>\n      <td>1.0</td>\n      <td>1.0</td>\n      <td>0.5</td>\n      <td>2.0</td>\n      <td>0.5</td>\n      <td>...</td>\n      <td>1.0</td>\n      <td>0.25</td>\n      <td>2.0</td>\n      <td>0.25</td>\n      <td>2.0</td>\n      <td>1.00</td>\n      <td>0.5</td>\n      <td>1.0</td>\n      <td>1.0</td>\n      <td>0.5</td>\n    </tr>\n    <tr>\n      <th>...</th>\n      <td>...</td>\n      <td>...</td>\n      <td>...</td>\n      <td>...</td>\n      <td>...</td>\n      <td>...</td>\n      <td>...</td>\n      <td>...</td>\n      <td>...</td>\n      <td>...</td>\n      <td>...</td>\n      <td>...</td>\n      <td>...</td>\n      <td>...</td>\n      <td>...</td>\n      <td>...</td>\n      <td>...</td>\n      <td>...</td>\n      <td>...</td>\n      <td>...</td>\n      <td>...</td>\n    </tr>\n    <tr>\n      <th>(fire, rock)</th>\n      <td>1.0</td>\n      <td>2.0</td>\n      <td>1.0</td>\n      <td>1.0</td>\n      <td>2.0</td>\n      <td>2.0</td>\n      <td>1.0</td>\n      <td>1.0</td>\n      <td>1.0</td>\n      <td>2.0</td>\n      <td>...</td>\n      <td>2.0</td>\n      <td>2.00</td>\n      <td>1.0</td>\n      <td>4.00</td>\n      <td>1.0</td>\n      <td>2.00</td>\n      <td>4.0</td>\n      <td>2.0</td>\n      <td>2.0</td>\n      <td>2.0</td>\n    </tr>\n    <tr>\n      <th>(flying, ice)</th>\n      <td>1.0</td>\n      <td>1.0</td>\n      <td>1.0</td>\n      <td>1.0</td>\n      <td>2.0</td>\n      <td>1.0</td>\n      <td>2.0</td>\n      <td>1.0</td>\n      <td>2.0</td>\n      <td>2.0</td>\n      <td>...</td>\n      <td>1.0</td>\n      <td>2.00</td>\n      <td>1.0</td>\n      <td>4.00</td>\n      <td>1.0</td>\n      <td>0.50</td>\n      <td>1.0</td>\n      <td>2.0</td>\n      <td>2.0</td>\n      <td>2.0</td>\n    </tr>\n    <tr>\n      <th>(bug, water)</th>\n      <td>1.0</td>\n      <td>2.0</td>\n      <td>1.0</td>\n      <td>1.0</td>\n      <td>2.0</td>\n      <td>1.0</td>\n      <td>1.0</td>\n      <td>1.0</td>\n      <td>2.0</td>\n      <td>1.0</td>\n      <td>...</td>\n      <td>2.0</td>\n      <td>1.00</td>\n      <td>2.0</td>\n      <td>2.00</td>\n      <td>1.0</td>\n      <td>4.00</td>\n      <td>1.0</td>\n      <td>1.0</td>\n      <td>2.0</td>\n      <td>1.0</td>\n    </tr>\n    <tr>\n      <th>(bug, ground)</th>\n      <td>1.0</td>\n      <td>2.0</td>\n      <td>1.0</td>\n      <td>2.0</td>\n      <td>2.0</td>\n      <td>1.0</td>\n      <td>1.0</td>\n      <td>2.0</td>\n      <td>1.0</td>\n      <td>0.5</td>\n      <td>...</td>\n      <td>2.0</td>\n      <td>1.00</td>\n      <td>2.0</td>\n      <td>2.00</td>\n      <td>1.0</td>\n      <td>4.00</td>\n      <td>0.5</td>\n      <td>1.0</td>\n      <td>1.0</td>\n      <td>0.5</td>\n    </tr>\n    <tr>\n      <th>(bug, ghost)</th>\n      <td>1.0</td>\n      <td>1.0</td>\n      <td>1.0</td>\n      <td>1.0</td>\n      <td>2.0</td>\n      <td>1.0</td>\n      <td>1.0</td>\n      <td>1.0</td>\n      <td>1.0</td>\n      <td>1.0</td>\n      <td>...</td>\n      <td>2.0</td>\n      <td>1.00</td>\n      <td>2.0</td>\n      <td>2.00</td>\n      <td>1.0</td>\n      <td>1.00</td>\n      <td>1.0</td>\n      <td>1.0</td>\n      <td>1.0</td>\n      <td>2.0</td>\n    </tr>\n  </tbody>\n</table>\n<p>83 rows × 83 columns</p>\n</div>",
      "text/plain": "               normal  fire  water  electric  grass  ice  fighting  poison  \\\nnormal            1.0   1.0    1.0       1.0    1.0  1.0       1.0     1.0   \nfire              1.0   0.5    0.5       1.0    2.0  2.0       1.0     1.0   \nwater             1.0   2.0    0.5       1.0    0.5  1.0       1.0     1.0   \nelectric          1.0   1.0    2.0       0.5    0.5  1.0       1.0     1.0   \ngrass             1.0   0.5    2.0       1.0    0.5  1.0       1.0     0.5   \n...               ...   ...    ...       ...    ...  ...       ...     ...   \n(fire, rock)      1.0   2.0    1.0       1.0    2.0  2.0       1.0     1.0   \n(flying, ice)     1.0   1.0    1.0       1.0    2.0  1.0       2.0     1.0   \n(bug, water)      1.0   2.0    1.0       1.0    2.0  1.0       1.0     1.0   \n(bug, ground)     1.0   2.0    1.0       2.0    2.0  1.0       1.0     2.0   \n(bug, ghost)      1.0   1.0    1.0       1.0    2.0  1.0       1.0     1.0   \n\n               ground  flying  ...  (psychic, ice)  (bug, poison)  \\\nnormal            1.0     1.0  ...             1.0           1.00   \nfire              1.0     1.0  ...             2.0           2.00   \nwater             2.0     1.0  ...             1.0           1.00   \nelectric          0.0     2.0  ...             1.0           1.00   \ngrass             2.0     0.5  ...             1.0           0.25   \n...               ...     ...  ...             ...            ...   \n(fire, rock)      1.0     2.0  ...             2.0           2.00   \n(flying, ice)     2.0     2.0  ...             1.0           2.00   \n(bug, water)      2.0     1.0  ...             2.0           1.00   \n(bug, ground)     1.0     0.5  ...             2.0           1.00   \n(bug, ghost)      1.0     1.0  ...             2.0           1.00   \n\n               (psychic, rock)  (bug, grass)  (normal, water)  (fire, rock)  \\\nnormal                     0.5          1.00              1.0          0.50   \nfire                       0.5          4.00              0.5          0.25   \nwater                      2.0          0.50              0.5          4.00   \nelectric                   1.0          0.50              2.0          1.00   \ngrass                      2.0          0.25              2.0          1.00   \n...                        ...           ...              ...           ...   \n(fire, rock)               1.0          4.00              1.0          2.00   \n(flying, ice)              1.0          4.00              1.0          0.50   \n(bug, water)               2.0          2.00              1.0          4.00   \n(bug, ground)              2.0          2.00              1.0          4.00   \n(bug, ghost)               2.0          2.00              1.0          1.00   \n\n               (flying, ice)  (bug, water)  (bug, ground)  (bug, ghost)  \nnormal                   1.0           1.0            1.0           0.0  \nfire                     2.0           1.0            2.0           2.0  \nwater                    1.0           0.5            2.0           1.0  \nelectric                 2.0           2.0            0.0           1.0  \ngrass                    0.5           1.0            1.0           0.5  \n...                      ...           ...            ...           ...  \n(fire, rock)             4.0           2.0            2.0           2.0  \n(flying, ice)            1.0           2.0            2.0           2.0  \n(bug, water)             1.0           1.0            2.0           1.0  \n(bug, ground)            0.5           1.0            1.0           0.5  \n(bug, ghost)             1.0           1.0            1.0           2.0  \n\n[83 rows x 83 columns]"
     },
     "execution_count": 47,
     "metadata": {},
     "output_type": "execute_result"
    }
   ],
   "source": [
    "for type, row in type_chart_joined.iterrows():\r\n",
    "    d_types = [list(x) for x in row.index if isinstance(x, frozenset)]\r\n",
    "    if not isinstance(type, frozenset):\r\n",
    "        for c_type in d_types:\r\n",
    "            type_chart_joined.at[type, frozenset(c_type)] = row[c_type[0]]*row[c_type[1]]\r\n",
    "    else:\r\n",
    "        for c_type in d_types:\r\n",
    "            r_type = list(type)\r\n",
    "            type_chart_joined.at[type, frozenset(c_type)] = max(type_chart_joined.loc[r_type[0], c_type[0]]*type_chart_joined.loc[r_type[0], c_type[1]], \r\n",
    "            type_chart_joined.loc[r_type[1], c_type[0]]*type_chart_joined.loc[r_type[1], c_type[1]])\r\n",
    "\r\n",
    "type_chart_joined"
   ]
  },
  {
   "cell_type": "code",
   "execution_count": 48,
   "metadata": {},
   "outputs": [],
   "source": [
    "def func(a,b):\r\n",
    "    if a <= 1 and b < 1:\r\n",
    "        return a\r\n",
    "    elif b == 0:\r\n",
    "        return 4\r\n",
    "    else:\r\n",
    "        return a/b\r\n",
    "\r\n",
    "vfunc = np.vectorize(func)\r\n",
    "\r\n",
    "scores = {}\r\n",
    "for index, row in type_chart_joined.iterrows():\r\n",
    "    attack = row.values\r\n",
    "    defense = type_chart_joined[index].values\r\n",
    "    score = vfunc(attack, defense)\r\n",
    "    #score = np.where(attack <= 1 and defense < 1, attack, attack/defense)\r\n",
    "    scores[index] = score\r\n",
    "\r\n",
    "#     n_a = df['final_score'].values\r\n",
    "\r\n",
    "# Vectorize your function\r\n",
    "\r\n",
    "# vfunc = np.vectorize(my_function)\r\n",
    "\r\n",
    "# Calculate the result array using vectorized function:\r\n",
    "\r\n",
    "# res_array = vfunc(n_a)\r\n",
    "\r\n",
    "# df['final_score'] = res_array"
   ]
  },
  {
   "cell_type": "code",
   "execution_count": 49,
   "metadata": {},
   "outputs": [
    {
     "data": {
      "text/html": "<div>\n<style scoped>\n    .dataframe tbody tr th:only-of-type {\n        vertical-align: middle;\n    }\n\n    .dataframe tbody tr th {\n        vertical-align: top;\n    }\n\n    .dataframe thead th {\n        text-align: right;\n    }\n</style>\n<table border=\"1\" class=\"dataframe\">\n  <thead>\n    <tr style=\"text-align: right;\">\n      <th></th>\n      <th>normal</th>\n      <th>fire</th>\n      <th>water</th>\n      <th>electric</th>\n      <th>grass</th>\n      <th>ice</th>\n      <th>fighting</th>\n      <th>poison</th>\n      <th>ground</th>\n      <th>flying</th>\n      <th>...</th>\n      <th>(psychic, ice)</th>\n      <th>(bug, poison)</th>\n      <th>(psychic, rock)</th>\n      <th>(bug, grass)</th>\n      <th>(normal, water)</th>\n      <th>(fire, rock)</th>\n      <th>(flying, ice)</th>\n      <th>(bug, water)</th>\n      <th>(bug, ground)</th>\n      <th>(bug, ghost)</th>\n    </tr>\n  </thead>\n  <tbody>\n    <tr>\n      <th>normal</th>\n      <td>1.0</td>\n      <td>1.00</td>\n      <td>1.00</td>\n      <td>1.0</td>\n      <td>1.00</td>\n      <td>1.0</td>\n      <td>0.5</td>\n      <td>1.00</td>\n      <td>1.00</td>\n      <td>1.00</td>\n      <td>...</td>\n      <td>1.0</td>\n      <td>1.000</td>\n      <td>0.50</td>\n      <td>1.000</td>\n      <td>1.00</td>\n      <td>0.500</td>\n      <td>1.00</td>\n      <td>1.0</td>\n      <td>1.0</td>\n      <td>0.00</td>\n    </tr>\n    <tr>\n      <th>fire</th>\n      <td>1.0</td>\n      <td>0.50</td>\n      <td>0.25</td>\n      <td>1.0</td>\n      <td>4.00</td>\n      <td>4.0</td>\n      <td>1.0</td>\n      <td>1.00</td>\n      <td>0.50</td>\n      <td>1.00</td>\n      <td>...</td>\n      <td>2.0</td>\n      <td>2.000</td>\n      <td>0.25</td>\n      <td>8.000</td>\n      <td>0.25</td>\n      <td>0.125</td>\n      <td>2.00</td>\n      <td>0.5</td>\n      <td>1.0</td>\n      <td>2.00</td>\n    </tr>\n    <tr>\n      <th>water</th>\n      <td>1.0</td>\n      <td>4.00</td>\n      <td>0.50</td>\n      <td>0.5</td>\n      <td>0.25</td>\n      <td>1.0</td>\n      <td>1.0</td>\n      <td>1.00</td>\n      <td>2.00</td>\n      <td>1.00</td>\n      <td>...</td>\n      <td>1.0</td>\n      <td>1.000</td>\n      <td>2.00</td>\n      <td>0.250</td>\n      <td>0.50</td>\n      <td>4.000</td>\n      <td>1.00</td>\n      <td>0.5</td>\n      <td>2.0</td>\n      <td>1.00</td>\n    </tr>\n    <tr>\n      <th>electric</th>\n      <td>1.0</td>\n      <td>1.00</td>\n      <td>2.00</td>\n      <td>0.5</td>\n      <td>0.50</td>\n      <td>1.0</td>\n      <td>1.0</td>\n      <td>1.00</td>\n      <td>0.00</td>\n      <td>4.00</td>\n      <td>...</td>\n      <td>1.0</td>\n      <td>1.000</td>\n      <td>1.00</td>\n      <td>0.500</td>\n      <td>2.00</td>\n      <td>1.000</td>\n      <td>2.00</td>\n      <td>2.0</td>\n      <td>0.0</td>\n      <td>1.00</td>\n    </tr>\n    <tr>\n      <th>grass</th>\n      <td>1.0</td>\n      <td>0.25</td>\n      <td>4.00</td>\n      <td>1.0</td>\n      <td>0.50</td>\n      <td>0.5</td>\n      <td>1.0</td>\n      <td>0.25</td>\n      <td>4.00</td>\n      <td>0.25</td>\n      <td>...</td>\n      <td>0.5</td>\n      <td>0.125</td>\n      <td>2.00</td>\n      <td>0.125</td>\n      <td>2.00</td>\n      <td>0.500</td>\n      <td>0.25</td>\n      <td>0.5</td>\n      <td>0.5</td>\n      <td>0.25</td>\n    </tr>\n    <tr>\n      <th>...</th>\n      <td>...</td>\n      <td>...</td>\n      <td>...</td>\n      <td>...</td>\n      <td>...</td>\n      <td>...</td>\n      <td>...</td>\n      <td>...</td>\n      <td>...</td>\n      <td>...</td>\n      <td>...</td>\n      <td>...</td>\n      <td>...</td>\n      <td>...</td>\n      <td>...</td>\n      <td>...</td>\n      <td>...</td>\n      <td>...</td>\n      <td>...</td>\n      <td>...</td>\n      <td>...</td>\n    </tr>\n    <tr>\n      <th>(fire, rock)</th>\n      <td>1.0</td>\n      <td>8.00</td>\n      <td>0.25</td>\n      <td>1.0</td>\n      <td>2.00</td>\n      <td>4.0</td>\n      <td>0.5</td>\n      <td>1.00</td>\n      <td>0.25</td>\n      <td>4.00</td>\n      <td>...</td>\n      <td>2.0</td>\n      <td>4.000</td>\n      <td>0.50</td>\n      <td>4.000</td>\n      <td>0.25</td>\n      <td>1.000</td>\n      <td>8.00</td>\n      <td>0.5</td>\n      <td>0.5</td>\n      <td>2.00</td>\n    </tr>\n    <tr>\n      <th>(flying, ice)</th>\n      <td>1.0</td>\n      <td>0.50</td>\n      <td>1.00</td>\n      <td>0.5</td>\n      <td>4.00</td>\n      <td>1.0</td>\n      <td>2.0</td>\n      <td>1.00</td>\n      <td>4.00</td>\n      <td>2.00</td>\n      <td>...</td>\n      <td>1.0</td>\n      <td>2.000</td>\n      <td>0.25</td>\n      <td>8.000</td>\n      <td>1.00</td>\n      <td>0.125</td>\n      <td>1.00</td>\n      <td>2.0</td>\n      <td>4.0</td>\n      <td>2.00</td>\n    </tr>\n    <tr>\n      <th>(bug, water)</th>\n      <td>1.0</td>\n      <td>2.00</td>\n      <td>1.00</td>\n      <td>0.5</td>\n      <td>2.00</td>\n      <td>1.0</td>\n      <td>1.0</td>\n      <td>1.00</td>\n      <td>4.00</td>\n      <td>0.50</td>\n      <td>...</td>\n      <td>2.0</td>\n      <td>1.000</td>\n      <td>1.00</td>\n      <td>2.000</td>\n      <td>1.00</td>\n      <td>2.000</td>\n      <td>0.50</td>\n      <td>1.0</td>\n      <td>2.0</td>\n      <td>1.00</td>\n    </tr>\n    <tr>\n      <th>(bug, ground)</th>\n      <td>1.0</td>\n      <td>1.00</td>\n      <td>0.50</td>\n      <td>4.0</td>\n      <td>2.00</td>\n      <td>0.5</td>\n      <td>1.0</td>\n      <td>4.00</td>\n      <td>1.00</td>\n      <td>0.25</td>\n      <td>...</td>\n      <td>1.0</td>\n      <td>1.000</td>\n      <td>2.00</td>\n      <td>2.000</td>\n      <td>0.50</td>\n      <td>2.000</td>\n      <td>0.25</td>\n      <td>0.5</td>\n      <td>1.0</td>\n      <td>0.50</td>\n    </tr>\n    <tr>\n      <th>(bug, ghost)</th>\n      <td>1.0</td>\n      <td>0.50</td>\n      <td>1.00</td>\n      <td>1.0</td>\n      <td>4.00</td>\n      <td>1.0</td>\n      <td>1.0</td>\n      <td>1.00</td>\n      <td>1.00</td>\n      <td>0.50</td>\n      <td>...</td>\n      <td>2.0</td>\n      <td>1.000</td>\n      <td>1.00</td>\n      <td>4.000</td>\n      <td>1.00</td>\n      <td>0.500</td>\n      <td>0.50</td>\n      <td>1.0</td>\n      <td>1.0</td>\n      <td>1.00</td>\n    </tr>\n  </tbody>\n</table>\n<p>83 rows × 83 columns</p>\n</div>",
      "text/plain": "               normal  fire  water  electric  grass  ice  fighting  poison  \\\nnormal            1.0  1.00   1.00       1.0   1.00  1.0       0.5    1.00   \nfire              1.0  0.50   0.25       1.0   4.00  4.0       1.0    1.00   \nwater             1.0  4.00   0.50       0.5   0.25  1.0       1.0    1.00   \nelectric          1.0  1.00   2.00       0.5   0.50  1.0       1.0    1.00   \ngrass             1.0  0.25   4.00       1.0   0.50  0.5       1.0    0.25   \n...               ...   ...    ...       ...    ...  ...       ...     ...   \n(fire, rock)      1.0  8.00   0.25       1.0   2.00  4.0       0.5    1.00   \n(flying, ice)     1.0  0.50   1.00       0.5   4.00  1.0       2.0    1.00   \n(bug, water)      1.0  2.00   1.00       0.5   2.00  1.0       1.0    1.00   \n(bug, ground)     1.0  1.00   0.50       4.0   2.00  0.5       1.0    4.00   \n(bug, ghost)      1.0  0.50   1.00       1.0   4.00  1.0       1.0    1.00   \n\n               ground  flying  ...  (psychic, ice)  (bug, poison)  \\\nnormal           1.00    1.00  ...             1.0          1.000   \nfire             0.50    1.00  ...             2.0          2.000   \nwater            2.00    1.00  ...             1.0          1.000   \nelectric         0.00    4.00  ...             1.0          1.000   \ngrass            4.00    0.25  ...             0.5          0.125   \n...               ...     ...  ...             ...            ...   \n(fire, rock)     0.25    4.00  ...             2.0          4.000   \n(flying, ice)    4.00    2.00  ...             1.0          2.000   \n(bug, water)     4.00    0.50  ...             2.0          1.000   \n(bug, ground)    1.00    0.25  ...             1.0          1.000   \n(bug, ghost)     1.00    0.50  ...             2.0          1.000   \n\n               (psychic, rock)  (bug, grass)  (normal, water)  (fire, rock)  \\\nnormal                    0.50         1.000             1.00         0.500   \nfire                      0.25         8.000             0.25         0.125   \nwater                     2.00         0.250             0.50         4.000   \nelectric                  1.00         0.500             2.00         1.000   \ngrass                     2.00         0.125             2.00         0.500   \n...                        ...           ...              ...           ...   \n(fire, rock)              0.50         4.000             0.25         1.000   \n(flying, ice)             0.25         8.000             1.00         0.125   \n(bug, water)              1.00         2.000             1.00         2.000   \n(bug, ground)             2.00         2.000             0.50         2.000   \n(bug, ghost)              1.00         4.000             1.00         0.500   \n\n               (flying, ice)  (bug, water)  (bug, ground)  (bug, ghost)  \nnormal                  1.00           1.0            1.0          0.00  \nfire                    2.00           0.5            1.0          2.00  \nwater                   1.00           0.5            2.0          1.00  \nelectric                2.00           2.0            0.0          1.00  \ngrass                   0.25           0.5            0.5          0.25  \n...                      ...           ...            ...           ...  \n(fire, rock)            8.00           0.5            0.5          2.00  \n(flying, ice)           1.00           2.0            4.0          2.00  \n(bug, water)            0.50           1.0            2.0          1.00  \n(bug, ground)           0.25           0.5            1.0          0.50  \n(bug, ghost)            0.50           1.0            1.0          1.00  \n\n[83 rows x 83 columns]"
     },
     "execution_count": 49,
     "metadata": {},
     "output_type": "execute_result"
    }
   ],
   "source": [
    "scores_df = pd.DataFrame.from_dict(scores).T\r\n",
    "scores_df.columns = scores_df.index\r\n",
    "scores_df"
   ]
  },
  {
   "cell_type": "code",
   "execution_count": 50,
   "metadata": {},
   "outputs": [
    {
     "data": {
      "text/html": "<div>\n<style scoped>\n    .dataframe tbody tr th:only-of-type {\n        vertical-align: middle;\n    }\n\n    .dataframe tbody tr th {\n        vertical-align: top;\n    }\n\n    .dataframe thead th {\n        text-align: right;\n    }\n</style>\n<table border=\"1\" class=\"dataframe\">\n  <thead>\n    <tr style=\"text-align: right;\">\n      <th></th>\n      <th>normal</th>\n      <th>fire</th>\n      <th>water</th>\n      <th>electric</th>\n      <th>grass</th>\n      <th>ice</th>\n      <th>fighting</th>\n      <th>poison</th>\n      <th>ground</th>\n      <th>flying</th>\n      <th>...</th>\n      <th>(psychic, ice)</th>\n      <th>(bug, poison)</th>\n      <th>(psychic, rock)</th>\n      <th>(bug, grass)</th>\n      <th>(normal, water)</th>\n      <th>(fire, rock)</th>\n      <th>(flying, ice)</th>\n      <th>(bug, water)</th>\n      <th>(bug, ground)</th>\n      <th>(bug, ghost)</th>\n    </tr>\n  </thead>\n  <tbody>\n    <tr>\n      <th>normal</th>\n      <td>1.0</td>\n      <td>1.00</td>\n      <td>1.00</td>\n      <td>1.0</td>\n      <td>1.00</td>\n      <td>1.0</td>\n      <td>0.5</td>\n      <td>1.00</td>\n      <td>1.00</td>\n      <td>1.00</td>\n      <td>...</td>\n      <td>1.0</td>\n      <td>1.000</td>\n      <td>0.50</td>\n      <td>1.000</td>\n      <td>1.00</td>\n      <td>0.500</td>\n      <td>1.00</td>\n      <td>1.0</td>\n      <td>1.0</td>\n      <td>0.00</td>\n    </tr>\n    <tr>\n      <th>fire</th>\n      <td>1.0</td>\n      <td>0.50</td>\n      <td>0.25</td>\n      <td>1.0</td>\n      <td>4.00</td>\n      <td>4.0</td>\n      <td>1.0</td>\n      <td>1.00</td>\n      <td>0.50</td>\n      <td>1.00</td>\n      <td>...</td>\n      <td>2.0</td>\n      <td>2.000</td>\n      <td>0.25</td>\n      <td>8.000</td>\n      <td>0.25</td>\n      <td>0.125</td>\n      <td>2.00</td>\n      <td>0.5</td>\n      <td>1.0</td>\n      <td>2.00</td>\n    </tr>\n    <tr>\n      <th>water</th>\n      <td>1.0</td>\n      <td>4.00</td>\n      <td>0.50</td>\n      <td>0.5</td>\n      <td>0.25</td>\n      <td>1.0</td>\n      <td>1.0</td>\n      <td>1.00</td>\n      <td>2.00</td>\n      <td>1.00</td>\n      <td>...</td>\n      <td>1.0</td>\n      <td>1.000</td>\n      <td>2.00</td>\n      <td>0.250</td>\n      <td>0.50</td>\n      <td>4.000</td>\n      <td>1.00</td>\n      <td>0.5</td>\n      <td>2.0</td>\n      <td>1.00</td>\n    </tr>\n    <tr>\n      <th>electric</th>\n      <td>1.0</td>\n      <td>1.00</td>\n      <td>2.00</td>\n      <td>0.5</td>\n      <td>0.50</td>\n      <td>1.0</td>\n      <td>1.0</td>\n      <td>1.00</td>\n      <td>0.00</td>\n      <td>4.00</td>\n      <td>...</td>\n      <td>1.0</td>\n      <td>1.000</td>\n      <td>1.00</td>\n      <td>0.500</td>\n      <td>2.00</td>\n      <td>1.000</td>\n      <td>2.00</td>\n      <td>2.0</td>\n      <td>0.0</td>\n      <td>1.00</td>\n    </tr>\n    <tr>\n      <th>grass</th>\n      <td>1.0</td>\n      <td>0.25</td>\n      <td>4.00</td>\n      <td>1.0</td>\n      <td>0.50</td>\n      <td>0.5</td>\n      <td>1.0</td>\n      <td>0.25</td>\n      <td>4.00</td>\n      <td>0.25</td>\n      <td>...</td>\n      <td>0.5</td>\n      <td>0.125</td>\n      <td>2.00</td>\n      <td>0.125</td>\n      <td>2.00</td>\n      <td>0.500</td>\n      <td>0.25</td>\n      <td>0.5</td>\n      <td>0.5</td>\n      <td>0.25</td>\n    </tr>\n    <tr>\n      <th>...</th>\n      <td>...</td>\n      <td>...</td>\n      <td>...</td>\n      <td>...</td>\n      <td>...</td>\n      <td>...</td>\n      <td>...</td>\n      <td>...</td>\n      <td>...</td>\n      <td>...</td>\n      <td>...</td>\n      <td>...</td>\n      <td>...</td>\n      <td>...</td>\n      <td>...</td>\n      <td>...</td>\n      <td>...</td>\n      <td>...</td>\n      <td>...</td>\n      <td>...</td>\n      <td>...</td>\n    </tr>\n    <tr>\n      <th>(fire, rock)</th>\n      <td>1.0</td>\n      <td>8.00</td>\n      <td>0.25</td>\n      <td>1.0</td>\n      <td>2.00</td>\n      <td>4.0</td>\n      <td>0.5</td>\n      <td>1.00</td>\n      <td>0.25</td>\n      <td>4.00</td>\n      <td>...</td>\n      <td>2.0</td>\n      <td>4.000</td>\n      <td>0.50</td>\n      <td>4.000</td>\n      <td>0.25</td>\n      <td>1.000</td>\n      <td>8.00</td>\n      <td>0.5</td>\n      <td>0.5</td>\n      <td>2.00</td>\n    </tr>\n    <tr>\n      <th>(flying, ice)</th>\n      <td>1.0</td>\n      <td>0.50</td>\n      <td>1.00</td>\n      <td>0.5</td>\n      <td>4.00</td>\n      <td>1.0</td>\n      <td>2.0</td>\n      <td>1.00</td>\n      <td>4.00</td>\n      <td>2.00</td>\n      <td>...</td>\n      <td>1.0</td>\n      <td>2.000</td>\n      <td>0.25</td>\n      <td>8.000</td>\n      <td>1.00</td>\n      <td>0.125</td>\n      <td>1.00</td>\n      <td>2.0</td>\n      <td>4.0</td>\n      <td>2.00</td>\n    </tr>\n    <tr>\n      <th>(bug, water)</th>\n      <td>1.0</td>\n      <td>2.00</td>\n      <td>1.00</td>\n      <td>0.5</td>\n      <td>2.00</td>\n      <td>1.0</td>\n      <td>1.0</td>\n      <td>1.00</td>\n      <td>4.00</td>\n      <td>0.50</td>\n      <td>...</td>\n      <td>2.0</td>\n      <td>1.000</td>\n      <td>1.00</td>\n      <td>2.000</td>\n      <td>1.00</td>\n      <td>2.000</td>\n      <td>0.50</td>\n      <td>1.0</td>\n      <td>2.0</td>\n      <td>1.00</td>\n    </tr>\n    <tr>\n      <th>(bug, ground)</th>\n      <td>1.0</td>\n      <td>1.00</td>\n      <td>0.50</td>\n      <td>4.0</td>\n      <td>2.00</td>\n      <td>0.5</td>\n      <td>1.0</td>\n      <td>4.00</td>\n      <td>1.00</td>\n      <td>0.25</td>\n      <td>...</td>\n      <td>1.0</td>\n      <td>1.000</td>\n      <td>2.00</td>\n      <td>2.000</td>\n      <td>0.50</td>\n      <td>2.000</td>\n      <td>0.25</td>\n      <td>0.5</td>\n      <td>1.0</td>\n      <td>0.50</td>\n    </tr>\n    <tr>\n      <th>(bug, ghost)</th>\n      <td>1.0</td>\n      <td>0.50</td>\n      <td>1.00</td>\n      <td>1.0</td>\n      <td>4.00</td>\n      <td>1.0</td>\n      <td>1.0</td>\n      <td>1.00</td>\n      <td>1.00</td>\n      <td>0.50</td>\n      <td>...</td>\n      <td>2.0</td>\n      <td>1.000</td>\n      <td>1.00</td>\n      <td>4.000</td>\n      <td>1.00</td>\n      <td>0.500</td>\n      <td>0.50</td>\n      <td>1.0</td>\n      <td>1.0</td>\n      <td>1.00</td>\n    </tr>\n  </tbody>\n</table>\n<p>83 rows × 83 columns</p>\n</div>",
      "text/plain": "               normal  fire  water  electric  grass  ice  fighting  poison  \\\nnormal            1.0  1.00   1.00       1.0   1.00  1.0       0.5    1.00   \nfire              1.0  0.50   0.25       1.0   4.00  4.0       1.0    1.00   \nwater             1.0  4.00   0.50       0.5   0.25  1.0       1.0    1.00   \nelectric          1.0  1.00   2.00       0.5   0.50  1.0       1.0    1.00   \ngrass             1.0  0.25   4.00       1.0   0.50  0.5       1.0    0.25   \n...               ...   ...    ...       ...    ...  ...       ...     ...   \n(fire, rock)      1.0  8.00   0.25       1.0   2.00  4.0       0.5    1.00   \n(flying, ice)     1.0  0.50   1.00       0.5   4.00  1.0       2.0    1.00   \n(bug, water)      1.0  2.00   1.00       0.5   2.00  1.0       1.0    1.00   \n(bug, ground)     1.0  1.00   0.50       4.0   2.00  0.5       1.0    4.00   \n(bug, ghost)      1.0  0.50   1.00       1.0   4.00  1.0       1.0    1.00   \n\n               ground  flying  ...  (psychic, ice)  (bug, poison)  \\\nnormal           1.00    1.00  ...             1.0          1.000   \nfire             0.50    1.00  ...             2.0          2.000   \nwater            2.00    1.00  ...             1.0          1.000   \nelectric         0.00    4.00  ...             1.0          1.000   \ngrass            4.00    0.25  ...             0.5          0.125   \n...               ...     ...  ...             ...            ...   \n(fire, rock)     0.25    4.00  ...             2.0          4.000   \n(flying, ice)    4.00    2.00  ...             1.0          2.000   \n(bug, water)     4.00    0.50  ...             2.0          1.000   \n(bug, ground)    1.00    0.25  ...             1.0          1.000   \n(bug, ghost)     1.00    0.50  ...             2.0          1.000   \n\n               (psychic, rock)  (bug, grass)  (normal, water)  (fire, rock)  \\\nnormal                    0.50         1.000             1.00         0.500   \nfire                      0.25         8.000             0.25         0.125   \nwater                     2.00         0.250             0.50         4.000   \nelectric                  1.00         0.500             2.00         1.000   \ngrass                     2.00         0.125             2.00         0.500   \n...                        ...           ...              ...           ...   \n(fire, rock)              0.50         4.000             0.25         1.000   \n(flying, ice)             0.25         8.000             1.00         0.125   \n(bug, water)              1.00         2.000             1.00         2.000   \n(bug, ground)             2.00         2.000             0.50         2.000   \n(bug, ghost)              1.00         4.000             1.00         0.500   \n\n               (flying, ice)  (bug, water)  (bug, ground)  (bug, ghost)  \nnormal                  1.00           1.0            1.0          0.00  \nfire                    2.00           0.5            1.0          2.00  \nwater                   1.00           0.5            2.0          1.00  \nelectric                2.00           2.0            0.0          1.00  \ngrass                   0.25           0.5            0.5          0.25  \n...                      ...           ...            ...           ...  \n(fire, rock)            8.00           0.5            0.5          2.00  \n(flying, ice)           1.00           2.0            4.0          2.00  \n(bug, water)            0.50           1.0            2.0          1.00  \n(bug, ground)           0.25           0.5            1.0          0.50  \n(bug, ghost)            0.50           1.0            1.0          1.00  \n\n[83 rows x 83 columns]"
     },
     "execution_count": 50,
     "metadata": {},
     "output_type": "execute_result"
    }
   ],
   "source": [
    "scores_df = scores_df.fillna(0)\r\n",
    "scores_df = scores_df.replace(np.inf, 4)\r\n",
    "scores_df\r\n"
   ]
  },
  {
   "cell_type": "code",
   "execution_count": 51,
   "metadata": {},
   "outputs": [
    {
     "data": {
      "text/html": "<div>\n<style scoped>\n    .dataframe tbody tr th:only-of-type {\n        vertical-align: middle;\n    }\n\n    .dataframe tbody tr th {\n        vertical-align: top;\n    }\n\n    .dataframe thead th {\n        text-align: right;\n    }\n</style>\n<table border=\"1\" class=\"dataframe\">\n  <thead>\n    <tr style=\"text-align: right;\">\n      <th></th>\n      <th>normal</th>\n      <th>fire</th>\n      <th>water</th>\n      <th>electric</th>\n      <th>grass</th>\n      <th>ice</th>\n      <th>fighting</th>\n      <th>poison</th>\n      <th>ground</th>\n      <th>flying</th>\n      <th>...</th>\n      <th>(psychic, ice)</th>\n      <th>(bug, poison)</th>\n      <th>(psychic, rock)</th>\n      <th>(bug, grass)</th>\n      <th>(normal, water)</th>\n      <th>(fire, rock)</th>\n      <th>(flying, ice)</th>\n      <th>(bug, water)</th>\n      <th>(bug, ground)</th>\n      <th>(bug, ghost)</th>\n    </tr>\n  </thead>\n  <tbody>\n    <tr>\n      <th>normal</th>\n      <td>0.0</td>\n      <td>0.0</td>\n      <td>0.0</td>\n      <td>0.0</td>\n      <td>0.0</td>\n      <td>0.0</td>\n      <td>0.0</td>\n      <td>0.0</td>\n      <td>0.0</td>\n      <td>0.0</td>\n      <td>...</td>\n      <td>0.0</td>\n      <td>0.0</td>\n      <td>0.0</td>\n      <td>0.0</td>\n      <td>0.0</td>\n      <td>0.0</td>\n      <td>0.0</td>\n      <td>0.0</td>\n      <td>0.0</td>\n      <td>0.0</td>\n    </tr>\n    <tr>\n      <th>fire</th>\n      <td>0.0</td>\n      <td>0.0</td>\n      <td>0.0</td>\n      <td>0.0</td>\n      <td>4.0</td>\n      <td>4.0</td>\n      <td>0.0</td>\n      <td>0.0</td>\n      <td>0.0</td>\n      <td>0.0</td>\n      <td>...</td>\n      <td>2.0</td>\n      <td>2.0</td>\n      <td>0.0</td>\n      <td>8.0</td>\n      <td>0.0</td>\n      <td>0.0</td>\n      <td>2.0</td>\n      <td>0.0</td>\n      <td>0.0</td>\n      <td>2.0</td>\n    </tr>\n    <tr>\n      <th>water</th>\n      <td>0.0</td>\n      <td>4.0</td>\n      <td>0.0</td>\n      <td>0.0</td>\n      <td>0.0</td>\n      <td>0.0</td>\n      <td>0.0</td>\n      <td>0.0</td>\n      <td>2.0</td>\n      <td>0.0</td>\n      <td>...</td>\n      <td>0.0</td>\n      <td>0.0</td>\n      <td>2.0</td>\n      <td>0.0</td>\n      <td>0.0</td>\n      <td>4.0</td>\n      <td>0.0</td>\n      <td>0.0</td>\n      <td>2.0</td>\n      <td>0.0</td>\n    </tr>\n    <tr>\n      <th>electric</th>\n      <td>0.0</td>\n      <td>0.0</td>\n      <td>2.0</td>\n      <td>0.0</td>\n      <td>0.0</td>\n      <td>0.0</td>\n      <td>0.0</td>\n      <td>0.0</td>\n      <td>0.0</td>\n      <td>4.0</td>\n      <td>...</td>\n      <td>0.0</td>\n      <td>0.0</td>\n      <td>0.0</td>\n      <td>0.0</td>\n      <td>2.0</td>\n      <td>0.0</td>\n      <td>2.0</td>\n      <td>2.0</td>\n      <td>0.0</td>\n      <td>0.0</td>\n    </tr>\n    <tr>\n      <th>grass</th>\n      <td>0.0</td>\n      <td>0.0</td>\n      <td>4.0</td>\n      <td>0.0</td>\n      <td>0.0</td>\n      <td>0.0</td>\n      <td>0.0</td>\n      <td>0.0</td>\n      <td>4.0</td>\n      <td>0.0</td>\n      <td>...</td>\n      <td>0.0</td>\n      <td>0.0</td>\n      <td>2.0</td>\n      <td>0.0</td>\n      <td>2.0</td>\n      <td>0.0</td>\n      <td>0.0</td>\n      <td>0.0</td>\n      <td>0.0</td>\n      <td>0.0</td>\n    </tr>\n    <tr>\n      <th>...</th>\n      <td>...</td>\n      <td>...</td>\n      <td>...</td>\n      <td>...</td>\n      <td>...</td>\n      <td>...</td>\n      <td>...</td>\n      <td>...</td>\n      <td>...</td>\n      <td>...</td>\n      <td>...</td>\n      <td>...</td>\n      <td>...</td>\n      <td>...</td>\n      <td>...</td>\n      <td>...</td>\n      <td>...</td>\n      <td>...</td>\n      <td>...</td>\n      <td>...</td>\n      <td>...</td>\n    </tr>\n    <tr>\n      <th>(fire, rock)</th>\n      <td>0.0</td>\n      <td>8.0</td>\n      <td>0.0</td>\n      <td>0.0</td>\n      <td>2.0</td>\n      <td>4.0</td>\n      <td>0.0</td>\n      <td>0.0</td>\n      <td>0.0</td>\n      <td>4.0</td>\n      <td>...</td>\n      <td>2.0</td>\n      <td>4.0</td>\n      <td>0.0</td>\n      <td>4.0</td>\n      <td>0.0</td>\n      <td>0.0</td>\n      <td>8.0</td>\n      <td>0.0</td>\n      <td>0.0</td>\n      <td>2.0</td>\n    </tr>\n    <tr>\n      <th>(flying, ice)</th>\n      <td>0.0</td>\n      <td>0.0</td>\n      <td>0.0</td>\n      <td>0.0</td>\n      <td>4.0</td>\n      <td>0.0</td>\n      <td>2.0</td>\n      <td>0.0</td>\n      <td>4.0</td>\n      <td>2.0</td>\n      <td>...</td>\n      <td>0.0</td>\n      <td>2.0</td>\n      <td>0.0</td>\n      <td>8.0</td>\n      <td>0.0</td>\n      <td>0.0</td>\n      <td>0.0</td>\n      <td>2.0</td>\n      <td>4.0</td>\n      <td>2.0</td>\n    </tr>\n    <tr>\n      <th>(bug, water)</th>\n      <td>0.0</td>\n      <td>2.0</td>\n      <td>0.0</td>\n      <td>0.0</td>\n      <td>2.0</td>\n      <td>0.0</td>\n      <td>0.0</td>\n      <td>0.0</td>\n      <td>4.0</td>\n      <td>0.0</td>\n      <td>...</td>\n      <td>2.0</td>\n      <td>0.0</td>\n      <td>0.0</td>\n      <td>2.0</td>\n      <td>0.0</td>\n      <td>2.0</td>\n      <td>0.0</td>\n      <td>0.0</td>\n      <td>2.0</td>\n      <td>0.0</td>\n    </tr>\n    <tr>\n      <th>(bug, ground)</th>\n      <td>0.0</td>\n      <td>0.0</td>\n      <td>0.0</td>\n      <td>4.0</td>\n      <td>2.0</td>\n      <td>0.0</td>\n      <td>0.0</td>\n      <td>4.0</td>\n      <td>0.0</td>\n      <td>0.0</td>\n      <td>...</td>\n      <td>0.0</td>\n      <td>0.0</td>\n      <td>2.0</td>\n      <td>2.0</td>\n      <td>0.0</td>\n      <td>2.0</td>\n      <td>0.0</td>\n      <td>0.0</td>\n      <td>0.0</td>\n      <td>0.0</td>\n    </tr>\n    <tr>\n      <th>(bug, ghost)</th>\n      <td>0.0</td>\n      <td>0.0</td>\n      <td>0.0</td>\n      <td>0.0</td>\n      <td>4.0</td>\n      <td>0.0</td>\n      <td>0.0</td>\n      <td>0.0</td>\n      <td>0.0</td>\n      <td>0.0</td>\n      <td>...</td>\n      <td>2.0</td>\n      <td>0.0</td>\n      <td>0.0</td>\n      <td>4.0</td>\n      <td>0.0</td>\n      <td>0.0</td>\n      <td>0.0</td>\n      <td>0.0</td>\n      <td>0.0</td>\n      <td>0.0</td>\n    </tr>\n  </tbody>\n</table>\n<p>83 rows × 83 columns</p>\n</div>",
      "text/plain": "               normal  fire  water  electric  grass  ice  fighting  poison  \\\nnormal            0.0   0.0    0.0       0.0    0.0  0.0       0.0     0.0   \nfire              0.0   0.0    0.0       0.0    4.0  4.0       0.0     0.0   \nwater             0.0   4.0    0.0       0.0    0.0  0.0       0.0     0.0   \nelectric          0.0   0.0    2.0       0.0    0.0  0.0       0.0     0.0   \ngrass             0.0   0.0    4.0       0.0    0.0  0.0       0.0     0.0   \n...               ...   ...    ...       ...    ...  ...       ...     ...   \n(fire, rock)      0.0   8.0    0.0       0.0    2.0  4.0       0.0     0.0   \n(flying, ice)     0.0   0.0    0.0       0.0    4.0  0.0       2.0     0.0   \n(bug, water)      0.0   2.0    0.0       0.0    2.0  0.0       0.0     0.0   \n(bug, ground)     0.0   0.0    0.0       4.0    2.0  0.0       0.0     4.0   \n(bug, ghost)      0.0   0.0    0.0       0.0    4.0  0.0       0.0     0.0   \n\n               ground  flying  ...  (psychic, ice)  (bug, poison)  \\\nnormal            0.0     0.0  ...             0.0            0.0   \nfire              0.0     0.0  ...             2.0            2.0   \nwater             2.0     0.0  ...             0.0            0.0   \nelectric          0.0     4.0  ...             0.0            0.0   \ngrass             4.0     0.0  ...             0.0            0.0   \n...               ...     ...  ...             ...            ...   \n(fire, rock)      0.0     4.0  ...             2.0            4.0   \n(flying, ice)     4.0     2.0  ...             0.0            2.0   \n(bug, water)      4.0     0.0  ...             2.0            0.0   \n(bug, ground)     0.0     0.0  ...             0.0            0.0   \n(bug, ghost)      0.0     0.0  ...             2.0            0.0   \n\n               (psychic, rock)  (bug, grass)  (normal, water)  (fire, rock)  \\\nnormal                     0.0           0.0              0.0           0.0   \nfire                       0.0           8.0              0.0           0.0   \nwater                      2.0           0.0              0.0           4.0   \nelectric                   0.0           0.0              2.0           0.0   \ngrass                      2.0           0.0              2.0           0.0   \n...                        ...           ...              ...           ...   \n(fire, rock)               0.0           4.0              0.0           0.0   \n(flying, ice)              0.0           8.0              0.0           0.0   \n(bug, water)               0.0           2.0              0.0           2.0   \n(bug, ground)              2.0           2.0              0.0           2.0   \n(bug, ghost)               0.0           4.0              0.0           0.0   \n\n               (flying, ice)  (bug, water)  (bug, ground)  (bug, ghost)  \nnormal                   0.0           0.0            0.0           0.0  \nfire                     2.0           0.0            0.0           2.0  \nwater                    0.0           0.0            2.0           0.0  \nelectric                 2.0           2.0            0.0           0.0  \ngrass                    0.0           0.0            0.0           0.0  \n...                      ...           ...            ...           ...  \n(fire, rock)             8.0           0.0            0.0           2.0  \n(flying, ice)            0.0           2.0            4.0           2.0  \n(bug, water)             0.0           0.0            2.0           0.0  \n(bug, ground)            0.0           0.0            0.0           0.0  \n(bug, ghost)             0.0           0.0            0.0           0.0  \n\n[83 rows x 83 columns]"
     },
     "execution_count": 51,
     "metadata": {},
     "output_type": "execute_result"
    }
   ],
   "source": [
    "scores_df[scores_df < 2] = 0\r\n",
    "scores_df"
   ]
  },
  {
   "cell_type": "code",
   "execution_count": 52,
   "metadata": {},
   "outputs": [
    {
     "data": {
      "text/html": "<div>\n<style scoped>\n    .dataframe tbody tr th:only-of-type {\n        vertical-align: middle;\n    }\n\n    .dataframe tbody tr th {\n        vertical-align: top;\n    }\n\n    .dataframe thead th {\n        text-align: right;\n    }\n</style>\n<table border=\"1\" class=\"dataframe\">\n  <thead>\n    <tr style=\"text-align: right;\">\n      <th></th>\n      <th>rank</th>\n      <th>pokemon</th>\n      <th>hp</th>\n      <th>atk</th>\n      <th>def</th>\n      <th>satk</th>\n      <th>sdef</th>\n      <th>spd</th>\n      <th>type1</th>\n      <th>type2</th>\n      <th>total</th>\n      <th>alttotal</th>\n      <th>type</th>\n    </tr>\n  </thead>\n  <tbody>\n    <tr>\n      <th>0</th>\n      <td>13</td>\n      <td>Slaking</td>\n      <td>150</td>\n      <td>160</td>\n      <td>100</td>\n      <td>95</td>\n      <td>65</td>\n      <td>100</td>\n      <td>normal</td>\n      <td>0</td>\n      <td>670</td>\n      <td>575</td>\n      <td>normal</td>\n    </tr>\n    <tr>\n      <th>1</th>\n      <td>21</td>\n      <td>Dragonite</td>\n      <td>91</td>\n      <td>134</td>\n      <td>95</td>\n      <td>100</td>\n      <td>100</td>\n      <td>80</td>\n      <td>dragon</td>\n      <td>flying</td>\n      <td>600</td>\n      <td>500</td>\n      <td>(flying, dragon)</td>\n    </tr>\n    <tr>\n      <th>2</th>\n      <td>22</td>\n      <td>Garchomp</td>\n      <td>108</td>\n      <td>130</td>\n      <td>95</td>\n      <td>80</td>\n      <td>85</td>\n      <td>102</td>\n      <td>dragon</td>\n      <td>ground</td>\n      <td>600</td>\n      <td>520</td>\n      <td>(ground, dragon)</td>\n    </tr>\n    <tr>\n      <th>3</th>\n      <td>28</td>\n      <td>Metagross</td>\n      <td>80</td>\n      <td>135</td>\n      <td>130</td>\n      <td>95</td>\n      <td>90</td>\n      <td>70</td>\n      <td>steel</td>\n      <td>psychic</td>\n      <td>600</td>\n      <td>505</td>\n      <td>(steel, psychic)</td>\n    </tr>\n    <tr>\n      <th>4</th>\n      <td>33</td>\n      <td>Tyranitar</td>\n      <td>100</td>\n      <td>134</td>\n      <td>110</td>\n      <td>95</td>\n      <td>100</td>\n      <td>61</td>\n      <td>rock</td>\n      <td>dark</td>\n      <td>600</td>\n      <td>505</td>\n      <td>(rock, dark)</td>\n    </tr>\n    <tr>\n      <th>5</th>\n      <td>46</td>\n      <td>Arcanine</td>\n      <td>90</td>\n      <td>110</td>\n      <td>80</td>\n      <td>100</td>\n      <td>80</td>\n      <td>95</td>\n      <td>fire</td>\n      <td>0</td>\n      <td>555</td>\n      <td>455</td>\n      <td>fire</td>\n    </tr>\n    <tr>\n      <th>6</th>\n      <td>47</td>\n      <td>Togekiss</td>\n      <td>85</td>\n      <td>50</td>\n      <td>95</td>\n      <td>120</td>\n      <td>115</td>\n      <td>80</td>\n      <td>normal</td>\n      <td>flying</td>\n      <td>545</td>\n      <td>495</td>\n      <td>(flying, normal)</td>\n    </tr>\n    <tr>\n      <th>7</th>\n      <td>49</td>\n      <td>Electivire</td>\n      <td>75</td>\n      <td>123</td>\n      <td>67</td>\n      <td>95</td>\n      <td>85</td>\n      <td>95</td>\n      <td>electric</td>\n      <td>0</td>\n      <td>540</td>\n      <td>445</td>\n      <td>electric</td>\n    </tr>\n    <tr>\n      <th>8</th>\n      <td>50</td>\n      <td>Gyarados</td>\n      <td>95</td>\n      <td>125</td>\n      <td>79</td>\n      <td>60</td>\n      <td>100</td>\n      <td>81</td>\n      <td>water</td>\n      <td>flying</td>\n      <td>540</td>\n      <td>480</td>\n      <td>(flying, water)</td>\n    </tr>\n    <tr>\n      <th>9</th>\n      <td>51</td>\n      <td>Kingdra</td>\n      <td>75</td>\n      <td>95</td>\n      <td>95</td>\n      <td>95</td>\n      <td>95</td>\n      <td>85</td>\n      <td>water</td>\n      <td>dragon</td>\n      <td>540</td>\n      <td>445</td>\n      <td>(dragon, water)</td>\n    </tr>\n    <tr>\n      <th>10</th>\n      <td>53</td>\n      <td>Milotic</td>\n      <td>95</td>\n      <td>60</td>\n      <td>79</td>\n      <td>100</td>\n      <td>125</td>\n      <td>81</td>\n      <td>water</td>\n      <td>0</td>\n      <td>540</td>\n      <td>480</td>\n      <td>water</td>\n    </tr>\n    <tr>\n      <th>11</th>\n      <td>55</td>\n      <td>Crobat</td>\n      <td>85</td>\n      <td>90</td>\n      <td>80</td>\n      <td>70</td>\n      <td>80</td>\n      <td>130</td>\n      <td>poison</td>\n      <td>flying</td>\n      <td>535</td>\n      <td>465</td>\n      <td>(poison, flying)</td>\n    </tr>\n    <tr>\n      <th>12</th>\n      <td>56</td>\n      <td>Lapras</td>\n      <td>130</td>\n      <td>85</td>\n      <td>80</td>\n      <td>85</td>\n      <td>95</td>\n      <td>60</td>\n      <td>water</td>\n      <td>ice</td>\n      <td>535</td>\n      <td>450</td>\n      <td>(ice, water)</td>\n    </tr>\n    <tr>\n      <th>13</th>\n      <td>57</td>\n      <td>Magnezone</td>\n      <td>70</td>\n      <td>70</td>\n      <td>115</td>\n      <td>130</td>\n      <td>90</td>\n      <td>60</td>\n      <td>electric</td>\n      <td>steel</td>\n      <td>535</td>\n      <td>465</td>\n      <td>(steel, electric)</td>\n    </tr>\n    <tr>\n      <th>14</th>\n      <td>59</td>\n      <td>Rhyperior</td>\n      <td>115</td>\n      <td>140</td>\n      <td>130</td>\n      <td>55</td>\n      <td>55</td>\n      <td>40</td>\n      <td>ground</td>\n      <td>rock</td>\n      <td>535</td>\n      <td>480</td>\n      <td>(ground, rock)</td>\n    </tr>\n    <tr>\n      <th>15</th>\n      <td>61</td>\n      <td>Tangrowth</td>\n      <td>100</td>\n      <td>100</td>\n      <td>125</td>\n      <td>110</td>\n      <td>50</td>\n      <td>50</td>\n      <td>grass</td>\n      <td>0</td>\n      <td>535</td>\n      <td>435</td>\n      <td>grass</td>\n    </tr>\n    <tr>\n      <th>16</th>\n      <td>63</td>\n      <td>Infernape</td>\n      <td>76</td>\n      <td>104</td>\n      <td>71</td>\n      <td>104</td>\n      <td>71</td>\n      <td>108</td>\n      <td>fire</td>\n      <td>fighting</td>\n      <td>534</td>\n      <td>430</td>\n      <td>(fighting, fire)</td>\n    </tr>\n    <tr>\n      <th>17</th>\n      <td>65</td>\n      <td>Aggron</td>\n      <td>70</td>\n      <td>110</td>\n      <td>180</td>\n      <td>60</td>\n      <td>60</td>\n      <td>50</td>\n      <td>steel</td>\n      <td>rock</td>\n      <td>530</td>\n      <td>470</td>\n      <td>(steel, rock)</td>\n    </tr>\n    <tr>\n      <th>18</th>\n      <td>68</td>\n      <td>Empoleon</td>\n      <td>84</td>\n      <td>86</td>\n      <td>88</td>\n      <td>111</td>\n      <td>101</td>\n      <td>60</td>\n      <td>water</td>\n      <td>steel</td>\n      <td>530</td>\n      <td>444</td>\n      <td>(steel, water)</td>\n    </tr>\n    <tr>\n      <th>19</th>\n      <td>70</td>\n      <td>Mamoswine</td>\n      <td>110</td>\n      <td>130</td>\n      <td>80</td>\n      <td>70</td>\n      <td>60</td>\n      <td>80</td>\n      <td>ice</td>\n      <td>ground</td>\n      <td>530</td>\n      <td>460</td>\n      <td>(ground, ice)</td>\n    </tr>\n    <tr>\n      <th>20</th>\n      <td>74</td>\n      <td>Dusknoir</td>\n      <td>45</td>\n      <td>100</td>\n      <td>135</td>\n      <td>65</td>\n      <td>135</td>\n      <td>45</td>\n      <td>ghost</td>\n      <td>0</td>\n      <td>525</td>\n      <td>460</td>\n      <td>ghost</td>\n    </tr>\n    <tr>\n      <th>21</th>\n      <td>75</td>\n      <td>Espeon</td>\n      <td>65</td>\n      <td>65</td>\n      <td>60</td>\n      <td>130</td>\n      <td>95</td>\n      <td>110</td>\n      <td>psychic</td>\n      <td>0</td>\n      <td>525</td>\n      <td>460</td>\n      <td>psychic</td>\n    </tr>\n    <tr>\n      <th>22</th>\n      <td>77</td>\n      <td>Glaceon</td>\n      <td>65</td>\n      <td>60</td>\n      <td>110</td>\n      <td>130</td>\n      <td>95</td>\n      <td>65</td>\n      <td>ice</td>\n      <td>0</td>\n      <td>525</td>\n      <td>465</td>\n      <td>ice</td>\n    </tr>\n    <tr>\n      <th>23</th>\n      <td>78</td>\n      <td>Hippowdon</td>\n      <td>108</td>\n      <td>112</td>\n      <td>118</td>\n      <td>68</td>\n      <td>72</td>\n      <td>47</td>\n      <td>ground</td>\n      <td>0</td>\n      <td>525</td>\n      <td>457</td>\n      <td>ground</td>\n    </tr>\n    <tr>\n      <th>24</th>\n      <td>81</td>\n      <td>Lucario</td>\n      <td>70</td>\n      <td>110</td>\n      <td>70</td>\n      <td>115</td>\n      <td>70</td>\n      <td>90</td>\n      <td>fighting</td>\n      <td>steel</td>\n      <td>525</td>\n      <td>415</td>\n      <td>(fighting, steel)</td>\n    </tr>\n    <tr>\n      <th>25</th>\n      <td>84</td>\n      <td>Torterra</td>\n      <td>95</td>\n      <td>109</td>\n      <td>105</td>\n      <td>75</td>\n      <td>85</td>\n      <td>56</td>\n      <td>grass</td>\n      <td>ground</td>\n      <td>525</td>\n      <td>450</td>\n      <td>(ground, grass)</td>\n    </tr>\n    <tr>\n      <th>26</th>\n      <td>85</td>\n      <td>Umbreon</td>\n      <td>95</td>\n      <td>65</td>\n      <td>110</td>\n      <td>60</td>\n      <td>130</td>\n      <td>65</td>\n      <td>dark</td>\n      <td>0</td>\n      <td>525</td>\n      <td>465</td>\n      <td>dark</td>\n    </tr>\n    <tr>\n      <th>27</th>\n      <td>87</td>\n      <td>Venusaur</td>\n      <td>80</td>\n      <td>82</td>\n      <td>83</td>\n      <td>100</td>\n      <td>100</td>\n      <td>80</td>\n      <td>grass</td>\n      <td>poison</td>\n      <td>525</td>\n      <td>443</td>\n      <td>(poison, grass)</td>\n    </tr>\n    <tr>\n      <th>28</th>\n      <td>89</td>\n      <td>Exeggutor</td>\n      <td>95</td>\n      <td>95</td>\n      <td>85</td>\n      <td>125</td>\n      <td>65</td>\n      <td>55</td>\n      <td>grass</td>\n      <td>psychic</td>\n      <td>520</td>\n      <td>425</td>\n      <td>(grass, psychic)</td>\n    </tr>\n    <tr>\n      <th>29</th>\n      <td>91</td>\n      <td>Rotom</td>\n      <td>50</td>\n      <td>65</td>\n      <td>107</td>\n      <td>105</td>\n      <td>107</td>\n      <td>86</td>\n      <td>electric</td>\n      <td>ghost</td>\n      <td>520</td>\n      <td>455</td>\n      <td>(ghost, electric)</td>\n    </tr>\n    <tr>\n      <th>30</th>\n      <td>96</td>\n      <td>Starmie</td>\n      <td>60</td>\n      <td>75</td>\n      <td>85</td>\n      <td>100</td>\n      <td>85</td>\n      <td>115</td>\n      <td>water</td>\n      <td>psychic</td>\n      <td>520</td>\n      <td>445</td>\n      <td>(psychic, water)</td>\n    </tr>\n    <tr>\n      <th>31</th>\n      <td>97</td>\n      <td>Gallade</td>\n      <td>68</td>\n      <td>125</td>\n      <td>65</td>\n      <td>65</td>\n      <td>115</td>\n      <td>80</td>\n      <td>psychic</td>\n      <td>fighting</td>\n      <td>518</td>\n      <td>453</td>\n      <td>(fighting, psychic)</td>\n    </tr>\n    <tr>\n      <th>32</th>\n      <td>99</td>\n      <td>Aerodactyl</td>\n      <td>80</td>\n      <td>105</td>\n      <td>65</td>\n      <td>60</td>\n      <td>75</td>\n      <td>130</td>\n      <td>rock</td>\n      <td>flying</td>\n      <td>515</td>\n      <td>455</td>\n      <td>(rock, flying)</td>\n    </tr>\n    <tr>\n      <th>33</th>\n      <td>102</td>\n      <td>Tentacruel</td>\n      <td>80</td>\n      <td>70</td>\n      <td>65</td>\n      <td>80</td>\n      <td>120</td>\n      <td>100</td>\n      <td>water</td>\n      <td>poison</td>\n      <td>515</td>\n      <td>445</td>\n      <td>(poison, water)</td>\n    </tr>\n    <tr>\n      <th>34</th>\n      <td>103</td>\n      <td>Yanmega</td>\n      <td>86</td>\n      <td>76</td>\n      <td>86</td>\n      <td>116</td>\n      <td>56</td>\n      <td>95</td>\n      <td>bug</td>\n      <td>flying</td>\n      <td>515</td>\n      <td>439</td>\n      <td>(bug, flying)</td>\n    </tr>\n    <tr>\n      <th>35</th>\n      <td>104</td>\n      <td>Gliscor</td>\n      <td>75</td>\n      <td>95</td>\n      <td>125</td>\n      <td>45</td>\n      <td>75</td>\n      <td>95</td>\n      <td>ground</td>\n      <td>flying</td>\n      <td>510</td>\n      <td>465</td>\n      <td>(ground, flying)</td>\n    </tr>\n    <tr>\n      <th>36</th>\n      <td>105</td>\n      <td>Steelix</td>\n      <td>75</td>\n      <td>85</td>\n      <td>200</td>\n      <td>55</td>\n      <td>65</td>\n      <td>30</td>\n      <td>steel</td>\n      <td>ground</td>\n      <td>510</td>\n      <td>455</td>\n      <td>(steel, ground)</td>\n    </tr>\n    <tr>\n      <th>37</th>\n      <td>106</td>\n      <td>Weavile</td>\n      <td>70</td>\n      <td>120</td>\n      <td>65</td>\n      <td>45</td>\n      <td>85</td>\n      <td>125</td>\n      <td>dark</td>\n      <td>ice</td>\n      <td>510</td>\n      <td>465</td>\n      <td>(ice, dark)</td>\n    </tr>\n    <tr>\n      <th>38</th>\n      <td>107</td>\n      <td>Honchkrow</td>\n      <td>100</td>\n      <td>125</td>\n      <td>52</td>\n      <td>105</td>\n      <td>52</td>\n      <td>71</td>\n      <td>dark</td>\n      <td>flying</td>\n      <td>505</td>\n      <td>400</td>\n      <td>(flying, dark)</td>\n    </tr>\n    <tr>\n      <th>39</th>\n      <td>108</td>\n      <td>Machamp</td>\n      <td>90</td>\n      <td>130</td>\n      <td>80</td>\n      <td>65</td>\n      <td>85</td>\n      <td>55</td>\n      <td>fighting</td>\n      <td>0</td>\n      <td>505</td>\n      <td>440</td>\n      <td>fighting</td>\n    </tr>\n    <tr>\n      <th>40</th>\n      <td>111</td>\n      <td>Shuckle</td>\n      <td>20</td>\n      <td>10</td>\n      <td>230</td>\n      <td>10</td>\n      <td>230</td>\n      <td>5</td>\n      <td>bug</td>\n      <td>rock</td>\n      <td>505</td>\n      <td>495</td>\n      <td>(bug, rock)</td>\n    </tr>\n    <tr>\n      <th>41</th>\n      <td>114</td>\n      <td>Claydol</td>\n      <td>60</td>\n      <td>70</td>\n      <td>105</td>\n      <td>70</td>\n      <td>120</td>\n      <td>75</td>\n      <td>ground</td>\n      <td>psychic</td>\n      <td>500</td>\n      <td>430</td>\n      <td>(ground, psychic)</td>\n    </tr>\n    <tr>\n      <th>42</th>\n      <td>116</td>\n      <td>Drapion</td>\n      <td>70</td>\n      <td>90</td>\n      <td>110</td>\n      <td>60</td>\n      <td>75</td>\n      <td>95</td>\n      <td>poison</td>\n      <td>dark</td>\n      <td>500</td>\n      <td>440</td>\n      <td>(poison, dark)</td>\n    </tr>\n    <tr>\n      <th>43</th>\n      <td>117</td>\n      <td>Gengar</td>\n      <td>60</td>\n      <td>65</td>\n      <td>60</td>\n      <td>130</td>\n      <td>75</td>\n      <td>110</td>\n      <td>ghost</td>\n      <td>poison</td>\n      <td>500</td>\n      <td>435</td>\n      <td>(poison, ghost)</td>\n    </tr>\n    <tr>\n      <th>44</th>\n      <td>119</td>\n      <td>Heracross</td>\n      <td>80</td>\n      <td>125</td>\n      <td>75</td>\n      <td>40</td>\n      <td>95</td>\n      <td>85</td>\n      <td>bug</td>\n      <td>fighting</td>\n      <td>500</td>\n      <td>460</td>\n      <td>(bug, fighting)</td>\n    </tr>\n    <tr>\n      <th>45</th>\n      <td>120</td>\n      <td>Houndoom</td>\n      <td>75</td>\n      <td>90</td>\n      <td>50</td>\n      <td>110</td>\n      <td>80</td>\n      <td>95</td>\n      <td>dark</td>\n      <td>fire</td>\n      <td>500</td>\n      <td>410</td>\n      <td>(fire, dark)</td>\n    </tr>\n    <tr>\n      <th>46</th>\n      <td>121</td>\n      <td>Muk</td>\n      <td>105</td>\n      <td>105</td>\n      <td>75</td>\n      <td>65</td>\n      <td>100</td>\n      <td>50</td>\n      <td>poison</td>\n      <td>0</td>\n      <td>500</td>\n      <td>435</td>\n      <td>poison</td>\n    </tr>\n    <tr>\n      <th>47</th>\n      <td>122</td>\n      <td>Pinsir</td>\n      <td>65</td>\n      <td>125</td>\n      <td>100</td>\n      <td>55</td>\n      <td>70</td>\n      <td>85</td>\n      <td>bug</td>\n      <td>0</td>\n      <td>500</td>\n      <td>445</td>\n      <td>bug</td>\n    </tr>\n    <tr>\n      <th>48</th>\n      <td>124</td>\n      <td>Poliwrath</td>\n      <td>90</td>\n      <td>85</td>\n      <td>95</td>\n      <td>70</td>\n      <td>90</td>\n      <td>70</td>\n      <td>water</td>\n      <td>fighting</td>\n      <td>500</td>\n      <td>430</td>\n      <td>(fighting, water)</td>\n    </tr>\n    <tr>\n      <th>49</th>\n      <td>126</td>\n      <td>Scizor</td>\n      <td>70</td>\n      <td>130</td>\n      <td>100</td>\n      <td>55</td>\n      <td>80</td>\n      <td>65</td>\n      <td>bug</td>\n      <td>steel</td>\n      <td>500</td>\n      <td>445</td>\n      <td>(bug, steel)</td>\n    </tr>\n  </tbody>\n</table>\n</div>",
      "text/plain": "    rank     pokemon   hp  atk  def  satk  sdef  spd     type1     type2  \\\n0     13     Slaking  150  160  100    95    65  100    normal         0   \n1     21   Dragonite   91  134   95   100   100   80    dragon    flying   \n2     22    Garchomp  108  130   95    80    85  102    dragon    ground   \n3     28   Metagross   80  135  130    95    90   70     steel   psychic   \n4     33   Tyranitar  100  134  110    95   100   61      rock      dark   \n5     46    Arcanine   90  110   80   100    80   95      fire         0   \n6     47    Togekiss   85   50   95   120   115   80    normal    flying   \n7     49  Electivire   75  123   67    95    85   95  electric         0   \n8     50    Gyarados   95  125   79    60   100   81     water    flying   \n9     51     Kingdra   75   95   95    95    95   85     water    dragon   \n10    53     Milotic   95   60   79   100   125   81     water         0   \n11    55      Crobat   85   90   80    70    80  130    poison    flying   \n12    56      Lapras  130   85   80    85    95   60     water       ice   \n13    57   Magnezone   70   70  115   130    90   60  electric     steel   \n14    59   Rhyperior  115  140  130    55    55   40    ground      rock   \n15    61   Tangrowth  100  100  125   110    50   50     grass         0   \n16    63   Infernape   76  104   71   104    71  108      fire  fighting   \n17    65      Aggron   70  110  180    60    60   50     steel      rock   \n18    68    Empoleon   84   86   88   111   101   60     water     steel   \n19    70   Mamoswine  110  130   80    70    60   80       ice    ground   \n20    74    Dusknoir   45  100  135    65   135   45     ghost         0   \n21    75      Espeon   65   65   60   130    95  110   psychic         0   \n22    77     Glaceon   65   60  110   130    95   65       ice         0   \n23    78   Hippowdon  108  112  118    68    72   47    ground         0   \n24    81     Lucario   70  110   70   115    70   90  fighting     steel   \n25    84    Torterra   95  109  105    75    85   56     grass    ground   \n26    85     Umbreon   95   65  110    60   130   65      dark         0   \n27    87    Venusaur   80   82   83   100   100   80     grass    poison   \n28    89   Exeggutor   95   95   85   125    65   55     grass   psychic   \n29    91       Rotom   50   65  107   105   107   86  electric     ghost   \n30    96     Starmie   60   75   85   100    85  115     water   psychic   \n31    97     Gallade   68  125   65    65   115   80   psychic  fighting   \n32    99  Aerodactyl   80  105   65    60    75  130      rock    flying   \n33   102  Tentacruel   80   70   65    80   120  100     water    poison   \n34   103     Yanmega   86   76   86   116    56   95       bug    flying   \n35   104     Gliscor   75   95  125    45    75   95    ground    flying   \n36   105     Steelix   75   85  200    55    65   30     steel    ground   \n37   106     Weavile   70  120   65    45    85  125      dark       ice   \n38   107   Honchkrow  100  125   52   105    52   71      dark    flying   \n39   108     Machamp   90  130   80    65    85   55  fighting         0   \n40   111     Shuckle   20   10  230    10   230    5       bug      rock   \n41   114     Claydol   60   70  105    70   120   75    ground   psychic   \n42   116     Drapion   70   90  110    60    75   95    poison      dark   \n43   117      Gengar   60   65   60   130    75  110     ghost    poison   \n44   119   Heracross   80  125   75    40    95   85       bug  fighting   \n45   120    Houndoom   75   90   50   110    80   95      dark      fire   \n46   121         Muk  105  105   75    65   100   50    poison         0   \n47   122      Pinsir   65  125  100    55    70   85       bug         0   \n48   124   Poliwrath   90   85   95    70    90   70     water  fighting   \n49   126      Scizor   70  130  100    55    80   65       bug     steel   \n\n    total  alttotal                 type  \n0     670       575               normal  \n1     600       500     (flying, dragon)  \n2     600       520     (ground, dragon)  \n3     600       505     (steel, psychic)  \n4     600       505         (rock, dark)  \n5     555       455                 fire  \n6     545       495     (flying, normal)  \n7     540       445             electric  \n8     540       480      (flying, water)  \n9     540       445      (dragon, water)  \n10    540       480                water  \n11    535       465     (poison, flying)  \n12    535       450         (ice, water)  \n13    535       465    (steel, electric)  \n14    535       480       (ground, rock)  \n15    535       435                grass  \n16    534       430     (fighting, fire)  \n17    530       470        (steel, rock)  \n18    530       444       (steel, water)  \n19    530       460        (ground, ice)  \n20    525       460                ghost  \n21    525       460              psychic  \n22    525       465                  ice  \n23    525       457               ground  \n24    525       415    (fighting, steel)  \n25    525       450      (ground, grass)  \n26    525       465                 dark  \n27    525       443      (poison, grass)  \n28    520       425     (grass, psychic)  \n29    520       455    (ghost, electric)  \n30    520       445     (psychic, water)  \n31    518       453  (fighting, psychic)  \n32    515       455       (rock, flying)  \n33    515       445      (poison, water)  \n34    515       439        (bug, flying)  \n35    510       465     (ground, flying)  \n36    510       455      (steel, ground)  \n37    510       465          (ice, dark)  \n38    505       400       (flying, dark)  \n39    505       440             fighting  \n40    505       495          (bug, rock)  \n41    500       430    (ground, psychic)  \n42    500       440       (poison, dark)  \n43    500       435      (poison, ghost)  \n44    500       460      (bug, fighting)  \n45    500       410         (fire, dark)  \n46    500       435               poison  \n47    500       445                  bug  \n48    500       430    (fighting, water)  \n49    500       445         (bug, steel)  "
     },
     "metadata": {},
     "output_type": "display_data"
    },
    {
     "data": {
      "text/html": "<div>\n<style scoped>\n    .dataframe tbody tr th:only-of-type {\n        vertical-align: middle;\n    }\n\n    .dataframe tbody tr th {\n        vertical-align: top;\n    }\n\n    .dataframe thead th {\n        text-align: right;\n    }\n</style>\n<table border=\"1\" class=\"dataframe\">\n  <thead>\n    <tr style=\"text-align: right;\">\n      <th></th>\n      <th>rank</th>\n      <th>pokemon</th>\n      <th>hp</th>\n      <th>atk</th>\n      <th>def</th>\n      <th>satk</th>\n      <th>sdef</th>\n      <th>spd</th>\n      <th>type1</th>\n      <th>type2</th>\n      <th>total</th>\n      <th>alttotal</th>\n      <th>type</th>\n    </tr>\n  </thead>\n  <tbody>\n    <tr>\n      <th>0</th>\n      <td>13</td>\n      <td>Slaking</td>\n      <td>150</td>\n      <td>160</td>\n      <td>100</td>\n      <td>95</td>\n      <td>65</td>\n      <td>100</td>\n      <td>normal</td>\n      <td>0</td>\n      <td>670</td>\n      <td>575</td>\n      <td>normal</td>\n    </tr>\n    <tr>\n      <th>1</th>\n      <td>22</td>\n      <td>Garchomp</td>\n      <td>108</td>\n      <td>130</td>\n      <td>95</td>\n      <td>80</td>\n      <td>85</td>\n      <td>102</td>\n      <td>dragon</td>\n      <td>ground</td>\n      <td>600</td>\n      <td>520</td>\n      <td>(ground, dragon)</td>\n    </tr>\n    <tr>\n      <th>2</th>\n      <td>33</td>\n      <td>Tyranitar</td>\n      <td>100</td>\n      <td>134</td>\n      <td>110</td>\n      <td>95</td>\n      <td>100</td>\n      <td>61</td>\n      <td>rock</td>\n      <td>dark</td>\n      <td>600</td>\n      <td>505</td>\n      <td>(rock, dark)</td>\n    </tr>\n    <tr>\n      <th>3</th>\n      <td>28</td>\n      <td>Metagross</td>\n      <td>80</td>\n      <td>135</td>\n      <td>130</td>\n      <td>95</td>\n      <td>90</td>\n      <td>70</td>\n      <td>steel</td>\n      <td>psychic</td>\n      <td>600</td>\n      <td>505</td>\n      <td>(steel, psychic)</td>\n    </tr>\n    <tr>\n      <th>4</th>\n      <td>21</td>\n      <td>Dragonite</td>\n      <td>91</td>\n      <td>134</td>\n      <td>95</td>\n      <td>100</td>\n      <td>100</td>\n      <td>80</td>\n      <td>dragon</td>\n      <td>flying</td>\n      <td>600</td>\n      <td>500</td>\n      <td>(flying, dragon)</td>\n    </tr>\n    <tr>\n      <th>5</th>\n      <td>111</td>\n      <td>Shuckle</td>\n      <td>20</td>\n      <td>10</td>\n      <td>230</td>\n      <td>10</td>\n      <td>230</td>\n      <td>5</td>\n      <td>bug</td>\n      <td>rock</td>\n      <td>505</td>\n      <td>495</td>\n      <td>(bug, rock)</td>\n    </tr>\n    <tr>\n      <th>6</th>\n      <td>47</td>\n      <td>Togekiss</td>\n      <td>85</td>\n      <td>50</td>\n      <td>95</td>\n      <td>120</td>\n      <td>115</td>\n      <td>80</td>\n      <td>normal</td>\n      <td>flying</td>\n      <td>545</td>\n      <td>495</td>\n      <td>(flying, normal)</td>\n    </tr>\n    <tr>\n      <th>7</th>\n      <td>59</td>\n      <td>Rhyperior</td>\n      <td>115</td>\n      <td>140</td>\n      <td>130</td>\n      <td>55</td>\n      <td>55</td>\n      <td>40</td>\n      <td>ground</td>\n      <td>rock</td>\n      <td>535</td>\n      <td>480</td>\n      <td>(ground, rock)</td>\n    </tr>\n    <tr>\n      <th>8</th>\n      <td>50</td>\n      <td>Gyarados</td>\n      <td>95</td>\n      <td>125</td>\n      <td>79</td>\n      <td>60</td>\n      <td>100</td>\n      <td>81</td>\n      <td>water</td>\n      <td>flying</td>\n      <td>540</td>\n      <td>480</td>\n      <td>(flying, water)</td>\n    </tr>\n    <tr>\n      <th>9</th>\n      <td>53</td>\n      <td>Milotic</td>\n      <td>95</td>\n      <td>60</td>\n      <td>79</td>\n      <td>100</td>\n      <td>125</td>\n      <td>81</td>\n      <td>water</td>\n      <td>0</td>\n      <td>540</td>\n      <td>480</td>\n      <td>water</td>\n    </tr>\n    <tr>\n      <th>10</th>\n      <td>65</td>\n      <td>Aggron</td>\n      <td>70</td>\n      <td>110</td>\n      <td>180</td>\n      <td>60</td>\n      <td>60</td>\n      <td>50</td>\n      <td>steel</td>\n      <td>rock</td>\n      <td>530</td>\n      <td>470</td>\n      <td>(steel, rock)</td>\n    </tr>\n    <tr>\n      <th>11</th>\n      <td>106</td>\n      <td>Weavile</td>\n      <td>70</td>\n      <td>120</td>\n      <td>65</td>\n      <td>45</td>\n      <td>85</td>\n      <td>125</td>\n      <td>dark</td>\n      <td>ice</td>\n      <td>510</td>\n      <td>465</td>\n      <td>(ice, dark)</td>\n    </tr>\n    <tr>\n      <th>12</th>\n      <td>80</td>\n      <td>Leafeon</td>\n      <td>65</td>\n      <td>110</td>\n      <td>130</td>\n      <td>60</td>\n      <td>65</td>\n      <td>95</td>\n      <td>grass</td>\n      <td>0</td>\n      <td>525</td>\n      <td>465</td>\n      <td>grass</td>\n    </tr>\n    <tr>\n      <th>13</th>\n      <td>57</td>\n      <td>Magnezone</td>\n      <td>70</td>\n      <td>70</td>\n      <td>115</td>\n      <td>130</td>\n      <td>90</td>\n      <td>60</td>\n      <td>electric</td>\n      <td>steel</td>\n      <td>535</td>\n      <td>465</td>\n      <td>(steel, electric)</td>\n    </tr>\n    <tr>\n      <th>14</th>\n      <td>104</td>\n      <td>Gliscor</td>\n      <td>75</td>\n      <td>95</td>\n      <td>125</td>\n      <td>45</td>\n      <td>75</td>\n      <td>95</td>\n      <td>ground</td>\n      <td>flying</td>\n      <td>510</td>\n      <td>465</td>\n      <td>(ground, flying)</td>\n    </tr>\n    <tr>\n      <th>15</th>\n      <td>85</td>\n      <td>Umbreon</td>\n      <td>95</td>\n      <td>65</td>\n      <td>110</td>\n      <td>60</td>\n      <td>130</td>\n      <td>65</td>\n      <td>dark</td>\n      <td>0</td>\n      <td>525</td>\n      <td>465</td>\n      <td>dark</td>\n    </tr>\n    <tr>\n      <th>16</th>\n      <td>55</td>\n      <td>Crobat</td>\n      <td>85</td>\n      <td>90</td>\n      <td>80</td>\n      <td>70</td>\n      <td>80</td>\n      <td>130</td>\n      <td>poison</td>\n      <td>flying</td>\n      <td>535</td>\n      <td>465</td>\n      <td>(poison, flying)</td>\n    </tr>\n    <tr>\n      <th>17</th>\n      <td>77</td>\n      <td>Glaceon</td>\n      <td>65</td>\n      <td>60</td>\n      <td>110</td>\n      <td>130</td>\n      <td>95</td>\n      <td>65</td>\n      <td>ice</td>\n      <td>0</td>\n      <td>525</td>\n      <td>465</td>\n      <td>ice</td>\n    </tr>\n    <tr>\n      <th>18</th>\n      <td>74</td>\n      <td>Dusknoir</td>\n      <td>45</td>\n      <td>100</td>\n      <td>135</td>\n      <td>65</td>\n      <td>135</td>\n      <td>45</td>\n      <td>ghost</td>\n      <td>0</td>\n      <td>525</td>\n      <td>460</td>\n      <td>ghost</td>\n    </tr>\n    <tr>\n      <th>19</th>\n      <td>79</td>\n      <td>Jolteon</td>\n      <td>65</td>\n      <td>65</td>\n      <td>60</td>\n      <td>110</td>\n      <td>95</td>\n      <td>130</td>\n      <td>electric</td>\n      <td>0</td>\n      <td>525</td>\n      <td>460</td>\n      <td>electric</td>\n    </tr>\n    <tr>\n      <th>20</th>\n      <td>75</td>\n      <td>Espeon</td>\n      <td>65</td>\n      <td>65</td>\n      <td>60</td>\n      <td>130</td>\n      <td>95</td>\n      <td>110</td>\n      <td>psychic</td>\n      <td>0</td>\n      <td>525</td>\n      <td>460</td>\n      <td>psychic</td>\n    </tr>\n    <tr>\n      <th>21</th>\n      <td>70</td>\n      <td>Mamoswine</td>\n      <td>110</td>\n      <td>130</td>\n      <td>80</td>\n      <td>70</td>\n      <td>60</td>\n      <td>80</td>\n      <td>ice</td>\n      <td>ground</td>\n      <td>530</td>\n      <td>460</td>\n      <td>(ground, ice)</td>\n    </tr>\n    <tr>\n      <th>22</th>\n      <td>119</td>\n      <td>Heracross</td>\n      <td>80</td>\n      <td>125</td>\n      <td>75</td>\n      <td>40</td>\n      <td>95</td>\n      <td>85</td>\n      <td>bug</td>\n      <td>fighting</td>\n      <td>500</td>\n      <td>460</td>\n      <td>(bug, fighting)</td>\n    </tr>\n    <tr>\n      <th>23</th>\n      <td>78</td>\n      <td>Hippowdon</td>\n      <td>108</td>\n      <td>112</td>\n      <td>118</td>\n      <td>68</td>\n      <td>72</td>\n      <td>47</td>\n      <td>ground</td>\n      <td>0</td>\n      <td>525</td>\n      <td>457</td>\n      <td>ground</td>\n    </tr>\n    <tr>\n      <th>24</th>\n      <td>91</td>\n      <td>Rotom</td>\n      <td>50</td>\n      <td>65</td>\n      <td>107</td>\n      <td>105</td>\n      <td>107</td>\n      <td>86</td>\n      <td>electric</td>\n      <td>ghost</td>\n      <td>520</td>\n      <td>455</td>\n      <td>(ghost, electric)</td>\n    </tr>\n    <tr>\n      <th>25</th>\n      <td>105</td>\n      <td>Steelix</td>\n      <td>75</td>\n      <td>85</td>\n      <td>200</td>\n      <td>55</td>\n      <td>65</td>\n      <td>30</td>\n      <td>steel</td>\n      <td>ground</td>\n      <td>510</td>\n      <td>455</td>\n      <td>(steel, ground)</td>\n    </tr>\n    <tr>\n      <th>26</th>\n      <td>46</td>\n      <td>Arcanine</td>\n      <td>90</td>\n      <td>110</td>\n      <td>80</td>\n      <td>100</td>\n      <td>80</td>\n      <td>95</td>\n      <td>fire</td>\n      <td>0</td>\n      <td>555</td>\n      <td>455</td>\n      <td>fire</td>\n    </tr>\n    <tr>\n      <th>27</th>\n      <td>99</td>\n      <td>Aerodactyl</td>\n      <td>80</td>\n      <td>105</td>\n      <td>65</td>\n      <td>60</td>\n      <td>75</td>\n      <td>130</td>\n      <td>rock</td>\n      <td>flying</td>\n      <td>515</td>\n      <td>455</td>\n      <td>(rock, flying)</td>\n    </tr>\n    <tr>\n      <th>28</th>\n      <td>97</td>\n      <td>Gallade</td>\n      <td>68</td>\n      <td>125</td>\n      <td>65</td>\n      <td>65</td>\n      <td>115</td>\n      <td>80</td>\n      <td>psychic</td>\n      <td>fighting</td>\n      <td>518</td>\n      <td>453</td>\n      <td>(fighting, psychic)</td>\n    </tr>\n    <tr>\n      <th>29</th>\n      <td>56</td>\n      <td>Lapras</td>\n      <td>130</td>\n      <td>85</td>\n      <td>80</td>\n      <td>85</td>\n      <td>95</td>\n      <td>60</td>\n      <td>water</td>\n      <td>ice</td>\n      <td>535</td>\n      <td>450</td>\n      <td>(ice, water)</td>\n    </tr>\n    <tr>\n      <th>30</th>\n      <td>84</td>\n      <td>Torterra</td>\n      <td>95</td>\n      <td>109</td>\n      <td>105</td>\n      <td>75</td>\n      <td>85</td>\n      <td>56</td>\n      <td>grass</td>\n      <td>ground</td>\n      <td>525</td>\n      <td>450</td>\n      <td>(ground, grass)</td>\n    </tr>\n    <tr>\n      <th>31</th>\n      <td>96</td>\n      <td>Starmie</td>\n      <td>60</td>\n      <td>75</td>\n      <td>85</td>\n      <td>100</td>\n      <td>85</td>\n      <td>115</td>\n      <td>water</td>\n      <td>psychic</td>\n      <td>520</td>\n      <td>445</td>\n      <td>(psychic, water)</td>\n    </tr>\n    <tr>\n      <th>32</th>\n      <td>127</td>\n      <td>Scyther</td>\n      <td>70</td>\n      <td>110</td>\n      <td>80</td>\n      <td>55</td>\n      <td>80</td>\n      <td>105</td>\n      <td>bug</td>\n      <td>flying</td>\n      <td>500</td>\n      <td>445</td>\n      <td>(bug, flying)</td>\n    </tr>\n    <tr>\n      <th>33</th>\n      <td>51</td>\n      <td>Kingdra</td>\n      <td>75</td>\n      <td>95</td>\n      <td>95</td>\n      <td>95</td>\n      <td>95</td>\n      <td>85</td>\n      <td>water</td>\n      <td>dragon</td>\n      <td>540</td>\n      <td>445</td>\n      <td>(dragon, water)</td>\n    </tr>\n    <tr>\n      <th>34</th>\n      <td>126</td>\n      <td>Scizor</td>\n      <td>70</td>\n      <td>130</td>\n      <td>100</td>\n      <td>55</td>\n      <td>80</td>\n      <td>65</td>\n      <td>bug</td>\n      <td>steel</td>\n      <td>500</td>\n      <td>445</td>\n      <td>(bug, steel)</td>\n    </tr>\n    <tr>\n      <th>35</th>\n      <td>122</td>\n      <td>Pinsir</td>\n      <td>65</td>\n      <td>125</td>\n      <td>100</td>\n      <td>55</td>\n      <td>70</td>\n      <td>85</td>\n      <td>bug</td>\n      <td>0</td>\n      <td>500</td>\n      <td>445</td>\n      <td>bug</td>\n    </tr>\n    <tr>\n      <th>36</th>\n      <td>102</td>\n      <td>Tentacruel</td>\n      <td>80</td>\n      <td>70</td>\n      <td>65</td>\n      <td>80</td>\n      <td>120</td>\n      <td>100</td>\n      <td>water</td>\n      <td>poison</td>\n      <td>515</td>\n      <td>445</td>\n      <td>(poison, water)</td>\n    </tr>\n    <tr>\n      <th>37</th>\n      <td>68</td>\n      <td>Empoleon</td>\n      <td>84</td>\n      <td>86</td>\n      <td>88</td>\n      <td>111</td>\n      <td>101</td>\n      <td>60</td>\n      <td>water</td>\n      <td>steel</td>\n      <td>530</td>\n      <td>444</td>\n      <td>(steel, water)</td>\n    </tr>\n    <tr>\n      <th>38</th>\n      <td>87</td>\n      <td>Venusaur</td>\n      <td>80</td>\n      <td>82</td>\n      <td>83</td>\n      <td>100</td>\n      <td>100</td>\n      <td>80</td>\n      <td>grass</td>\n      <td>poison</td>\n      <td>525</td>\n      <td>443</td>\n      <td>(poison, grass)</td>\n    </tr>\n    <tr>\n      <th>39</th>\n      <td>156</td>\n      <td>Relicanth</td>\n      <td>100</td>\n      <td>90</td>\n      <td>130</td>\n      <td>45</td>\n      <td>65</td>\n      <td>55</td>\n      <td>water</td>\n      <td>rock</td>\n      <td>485</td>\n      <td>440</td>\n      <td>(rock, water)</td>\n    </tr>\n    <tr>\n      <th>40</th>\n      <td>108</td>\n      <td>Machamp</td>\n      <td>90</td>\n      <td>130</td>\n      <td>80</td>\n      <td>65</td>\n      <td>85</td>\n      <td>55</td>\n      <td>fighting</td>\n      <td>0</td>\n      <td>505</td>\n      <td>440</td>\n      <td>fighting</td>\n    </tr>\n    <tr>\n      <th>41</th>\n      <td>116</td>\n      <td>Drapion</td>\n      <td>70</td>\n      <td>90</td>\n      <td>110</td>\n      <td>60</td>\n      <td>75</td>\n      <td>95</td>\n      <td>poison</td>\n      <td>dark</td>\n      <td>500</td>\n      <td>440</td>\n      <td>(poison, dark)</td>\n    </tr>\n    <tr>\n      <th>42</th>\n      <td>117</td>\n      <td>Gengar</td>\n      <td>60</td>\n      <td>65</td>\n      <td>60</td>\n      <td>130</td>\n      <td>75</td>\n      <td>110</td>\n      <td>ghost</td>\n      <td>poison</td>\n      <td>500</td>\n      <td>435</td>\n      <td>(poison, ghost)</td>\n    </tr>\n    <tr>\n      <th>43</th>\n      <td>121</td>\n      <td>Muk</td>\n      <td>105</td>\n      <td>105</td>\n      <td>75</td>\n      <td>65</td>\n      <td>100</td>\n      <td>50</td>\n      <td>poison</td>\n      <td>0</td>\n      <td>500</td>\n      <td>435</td>\n      <td>poison</td>\n    </tr>\n    <tr>\n      <th>44</th>\n      <td>114</td>\n      <td>Claydol</td>\n      <td>60</td>\n      <td>70</td>\n      <td>105</td>\n      <td>70</td>\n      <td>120</td>\n      <td>75</td>\n      <td>ground</td>\n      <td>psychic</td>\n      <td>500</td>\n      <td>430</td>\n      <td>(ground, psychic)</td>\n    </tr>\n    <tr>\n      <th>45</th>\n      <td>124</td>\n      <td>Poliwrath</td>\n      <td>90</td>\n      <td>85</td>\n      <td>95</td>\n      <td>70</td>\n      <td>90</td>\n      <td>70</td>\n      <td>water</td>\n      <td>fighting</td>\n      <td>500</td>\n      <td>430</td>\n      <td>(fighting, water)</td>\n    </tr>\n    <tr>\n      <th>46</th>\n      <td>63</td>\n      <td>Infernape</td>\n      <td>76</td>\n      <td>104</td>\n      <td>71</td>\n      <td>104</td>\n      <td>71</td>\n      <td>108</td>\n      <td>fire</td>\n      <td>fighting</td>\n      <td>534</td>\n      <td>430</td>\n      <td>(fighting, fire)</td>\n    </tr>\n    <tr>\n      <th>47</th>\n      <td>141</td>\n      <td>Rampardos</td>\n      <td>97</td>\n      <td>165</td>\n      <td>60</td>\n      <td>65</td>\n      <td>50</td>\n      <td>58</td>\n      <td>rock</td>\n      <td>0</td>\n      <td>495</td>\n      <td>430</td>\n      <td>rock</td>\n    </tr>\n    <tr>\n      <th>48</th>\n      <td>195</td>\n      <td>Skarmory</td>\n      <td>65</td>\n      <td>80</td>\n      <td>140</td>\n      <td>40</td>\n      <td>70</td>\n      <td>70</td>\n      <td>steel</td>\n      <td>flying</td>\n      <td>465</td>\n      <td>425</td>\n      <td>(steel, flying)</td>\n    </tr>\n    <tr>\n      <th>49</th>\n      <td>89</td>\n      <td>Exeggutor</td>\n      <td>95</td>\n      <td>95</td>\n      <td>85</td>\n      <td>125</td>\n      <td>65</td>\n      <td>55</td>\n      <td>grass</td>\n      <td>psychic</td>\n      <td>520</td>\n      <td>425</td>\n      <td>(grass, psychic)</td>\n    </tr>\n  </tbody>\n</table>\n</div>",
      "text/plain": "    rank     pokemon   hp  atk  def  satk  sdef  spd     type1     type2  \\\n0     13     Slaking  150  160  100    95    65  100    normal         0   \n1     22    Garchomp  108  130   95    80    85  102    dragon    ground   \n2     33   Tyranitar  100  134  110    95   100   61      rock      dark   \n3     28   Metagross   80  135  130    95    90   70     steel   psychic   \n4     21   Dragonite   91  134   95   100   100   80    dragon    flying   \n5    111     Shuckle   20   10  230    10   230    5       bug      rock   \n6     47    Togekiss   85   50   95   120   115   80    normal    flying   \n7     59   Rhyperior  115  140  130    55    55   40    ground      rock   \n8     50    Gyarados   95  125   79    60   100   81     water    flying   \n9     53     Milotic   95   60   79   100   125   81     water         0   \n10    65      Aggron   70  110  180    60    60   50     steel      rock   \n11   106     Weavile   70  120   65    45    85  125      dark       ice   \n12    80     Leafeon   65  110  130    60    65   95     grass         0   \n13    57   Magnezone   70   70  115   130    90   60  electric     steel   \n14   104     Gliscor   75   95  125    45    75   95    ground    flying   \n15    85     Umbreon   95   65  110    60   130   65      dark         0   \n16    55      Crobat   85   90   80    70    80  130    poison    flying   \n17    77     Glaceon   65   60  110   130    95   65       ice         0   \n18    74    Dusknoir   45  100  135    65   135   45     ghost         0   \n19    79     Jolteon   65   65   60   110    95  130  electric         0   \n20    75      Espeon   65   65   60   130    95  110   psychic         0   \n21    70   Mamoswine  110  130   80    70    60   80       ice    ground   \n22   119   Heracross   80  125   75    40    95   85       bug  fighting   \n23    78   Hippowdon  108  112  118    68    72   47    ground         0   \n24    91       Rotom   50   65  107   105   107   86  electric     ghost   \n25   105     Steelix   75   85  200    55    65   30     steel    ground   \n26    46    Arcanine   90  110   80   100    80   95      fire         0   \n27    99  Aerodactyl   80  105   65    60    75  130      rock    flying   \n28    97     Gallade   68  125   65    65   115   80   psychic  fighting   \n29    56      Lapras  130   85   80    85    95   60     water       ice   \n30    84    Torterra   95  109  105    75    85   56     grass    ground   \n31    96     Starmie   60   75   85   100    85  115     water   psychic   \n32   127     Scyther   70  110   80    55    80  105       bug    flying   \n33    51     Kingdra   75   95   95    95    95   85     water    dragon   \n34   126      Scizor   70  130  100    55    80   65       bug     steel   \n35   122      Pinsir   65  125  100    55    70   85       bug         0   \n36   102  Tentacruel   80   70   65    80   120  100     water    poison   \n37    68    Empoleon   84   86   88   111   101   60     water     steel   \n38    87    Venusaur   80   82   83   100   100   80     grass    poison   \n39   156   Relicanth  100   90  130    45    65   55     water      rock   \n40   108     Machamp   90  130   80    65    85   55  fighting         0   \n41   116     Drapion   70   90  110    60    75   95    poison      dark   \n42   117      Gengar   60   65   60   130    75  110     ghost    poison   \n43   121         Muk  105  105   75    65   100   50    poison         0   \n44   114     Claydol   60   70  105    70   120   75    ground   psychic   \n45   124   Poliwrath   90   85   95    70    90   70     water  fighting   \n46    63   Infernape   76  104   71   104    71  108      fire  fighting   \n47   141   Rampardos   97  165   60    65    50   58      rock         0   \n48   195    Skarmory   65   80  140    40    70   70     steel    flying   \n49    89   Exeggutor   95   95   85   125    65   55     grass   psychic   \n\n    total  alttotal                 type  \n0     670       575               normal  \n1     600       520     (ground, dragon)  \n2     600       505         (rock, dark)  \n3     600       505     (steel, psychic)  \n4     600       500     (flying, dragon)  \n5     505       495          (bug, rock)  \n6     545       495     (flying, normal)  \n7     535       480       (ground, rock)  \n8     540       480      (flying, water)  \n9     540       480                water  \n10    530       470        (steel, rock)  \n11    510       465          (ice, dark)  \n12    525       465                grass  \n13    535       465    (steel, electric)  \n14    510       465     (ground, flying)  \n15    525       465                 dark  \n16    535       465     (poison, flying)  \n17    525       465                  ice  \n18    525       460                ghost  \n19    525       460             electric  \n20    525       460              psychic  \n21    530       460        (ground, ice)  \n22    500       460      (bug, fighting)  \n23    525       457               ground  \n24    520       455    (ghost, electric)  \n25    510       455      (steel, ground)  \n26    555       455                 fire  \n27    515       455       (rock, flying)  \n28    518       453  (fighting, psychic)  \n29    535       450         (ice, water)  \n30    525       450      (ground, grass)  \n31    520       445     (psychic, water)  \n32    500       445        (bug, flying)  \n33    540       445      (dragon, water)  \n34    500       445         (bug, steel)  \n35    500       445                  bug  \n36    515       445      (poison, water)  \n37    530       444       (steel, water)  \n38    525       443      (poison, grass)  \n39    485       440        (rock, water)  \n40    505       440             fighting  \n41    500       440       (poison, dark)  \n42    500       435      (poison, ghost)  \n43    500       435               poison  \n44    500       430    (ground, psychic)  \n45    500       430    (fighting, water)  \n46    534       430     (fighting, fire)  \n47    495       430                 rock  \n48    465       425      (steel, flying)  \n49    520       425     (grass, psychic)  "
     },
     "metadata": {},
     "output_type": "display_data"
    }
   ],
   "source": [
    "with pd.option_context('display.max_rows', 50):\r\n",
    "    #dis(pok_df.sort_values('total', ascending= False))\r\n",
    "    pok_dft = pok_df.groupby(['type']).apply(lambda x: x.nlargest(1, \"total\")).reset_index(drop=True).sort_values('rank').reset_index().drop('index', axis=1)\r\n",
    "    pok_dfat = pok_df.groupby(['type']).apply(lambda x: x.nlargest(1, \"alttotal\")).reset_index(drop=True).sort_values('alttotal', ascending=False).reset_index().drop('index', axis=1)\r\n",
    "    dis(pok_dft[:50], pok_dfat[:50])"
   ]
  },
  {
   "cell_type": "code",
   "execution_count": 57,
   "metadata": {},
   "outputs": [],
   "source": [
    "def choose_poks(limit = 20, pok_df = pok_dfat):\r\n",
    "    import collections\r\n",
    "\r\n",
    "    first6 = pd.DataFrame([], index=range(limit), columns=range(6))\r\n",
    "    saved_t = set()\r\n",
    "    limit = limit\r\n",
    "\r\n",
    "    for n in range(min(6,limit)):\r\n",
    "        for k in range(min(6,limit)):\r\n",
    "            if k <= n:\r\n",
    "                dict1 = {}\r\n",
    "                for comb in list(combinations(pok_df.iloc[:n+1]['type'],k+1)):\r\n",
    "                    dict1[comb] = scores_df[scores_df.index.isin(comb)].max(axis=0).values\r\n",
    "                first6.at[n,k] = [dict1]\r\n",
    "    for n in tqdm_notebook(range(6,limit)):\r\n",
    "        for k in range(6):\r\n",
    "            if (k == 0) and (n <= limit - 6):\r\n",
    "                dict1 = {}\r\n",
    "                for comb in list(combinations(pok_df.iloc[:n+1]['type'],k+1)):\r\n",
    "                    dict1[comb] = scores_df[scores_df.index.isin(comb)].max(axis=0).values\r\n",
    "                first6.at[n,k] = [dict1]\r\n",
    "            elif n - k < limit - 5:\r\n",
    "                first6.at[n,k] = first6.at[n-1,k]\r\n",
    "                last_comb = pok_df.iloc[n:n+1]['type']\r\n",
    "                last_comb_value = scores_df[scores_df.index.isin(last_comb)].max(axis=0).values\r\n",
    "                dict1 = {}\r\n",
    "                for comb in list(first6.at[n-1,k-1][0].keys()):\r\n",
    "                    new_comb = set(comb).union(set(last_comb))\r\n",
    "                    update_value = np.maximum(first6.at[n-1,k-1][0][comb], last_comb_value)\r\n",
    "                    if k == 5:\r\n",
    "                        if (0 not in update_value or collections.Counter(update_value)[0] < 4) and new_comb not in saved_t:\r\n",
    "                            saved_t.add(frozenset(new_comb))\r\n",
    "                            #print(new_comb)\r\n",
    "                    dict1[frozenset(new_comb)] = update_value\r\n",
    "                try:\r\n",
    "                    first6.at[n,k][0].update(dict1)\r\n",
    "                except KeyError:\r\n",
    "                    first6.at[n,k].update(dict1)\r\n",
    "    return saved_t"
   ]
  },
  {
   "cell_type": "code",
   "execution_count": 58,
   "metadata": {},
   "outputs": [],
   "source": [
    "def analyze_poks(saved_t):\r\n",
    "    pok_d = {'comb': [], 'pokemon': [], '0score': [], '2score': [], 'total': [], 'alttotal': []}\r\n",
    "\r\n",
    "    for comb in saved_t:\r\n",
    "        if scores_df[scores_df.index.isin(comb)].max(axis=0).value_counts()[2]:\r\n",
    "            test = scores_df[scores_df.index.isin(comb)].max(axis=0).value_counts()\r\n",
    "            test.index = test.index.astype(int)\r\n",
    "            if 0 not in test:\r\n",
    "                zeroes = 0\r\n",
    "                print('is_there')\r\n",
    "            else:\r\n",
    "                zeroes = test[0]\r\n",
    "            pok_d['comb'].append(comb)\r\n",
    "            pok_d['pokemon'].append([pok_dft[pok_dft['type'].isin(comb)]['pokemon']])\r\n",
    "            pok_d['2score'].append(test[2])\r\n",
    "            pok_d['0score'].append(zeroes)\r\n",
    "            pok_d['total'].append(pok_dft[pok_dft['type'].isin(comb)]['total'].sum())\r\n",
    "            pok_d['alttotal'].append(pok_dft[pok_dft['type'].isin(comb)]['alttotal'].sum())\r\n",
    "\r\n",
    "    ranking = pd.DataFrame.from_dict(pok_d)\r\n",
    "    return ranking"
   ]
  },
  {
   "cell_type": "code",
   "execution_count": 59,
   "metadata": {},
   "outputs": [
    {
     "name": "stderr",
     "output_type": "stream",
     "text": [
      "<ipython-input-57-e9d3c366f338>:15: TqdmDeprecationWarning: This function will be removed in tqdm==5.0.0\n",
      "Please use `tqdm.notebook.tqdm` instead of `tqdm.tqdm_notebook`\n",
      "  for n in tqdm_notebook(range(6,limit)):\n"
     ]
    },
    {
     "data": {
      "application/vnd.jupyter.widget-view+json": {
       "model_id": "5eb90445b83a48d6addad30f8fc58717",
       "version_major": 2,
       "version_minor": 0
      },
      "text/plain": "HBox(children=(HTML(value=''), FloatProgress(value=0.0, max=44.0), HTML(value='')))"
     },
     "metadata": {},
     "output_type": "display_data"
    }
   ],
   "source": [
    "ranking_t = analyze_poks(choose_poks(limit = 50, pok_df = pok_dft))\r\n",
    "ranking_at = analyze_poks(choose_poks(limit = 50, pok_df = pok_dfat))"
   ]
  },
  {
   "cell_type": "code",
   "execution_count": 311,
   "metadata": {},
   "outputs": [
    {
     "data": {
      "text/html": "<div>\n<style scoped>\n    .dataframe tbody tr th:only-of-type {\n        vertical-align: middle;\n    }\n\n    .dataframe tbody tr th {\n        vertical-align: top;\n    }\n\n    .dataframe thead th {\n        text-align: right;\n    }\n</style>\n<table border=\"1\" class=\"dataframe\">\n  <thead>\n    <tr style=\"text-align: right;\">\n      <th></th>\n      <th></th>\n      <th>comb</th>\n      <th>pokemon</th>\n      <th>0score</th>\n      <th>2score</th>\n      <th>total</th>\n      <th>alttotal</th>\n    </tr>\n    <tr>\n      <th>0score</th>\n      <th></th>\n      <th></th>\n      <th></th>\n      <th></th>\n      <th></th>\n      <th></th>\n      <th></th>\n    </tr>\n  </thead>\n  <tbody>\n    <tr>\n      <th rowspan=\"8\" valign=\"top\">2</th>\n      <th>116</th>\n      <td>((flying, dragon), (ground, grass), (fighting, fire), (steel, electric), (ice, water), (rock, dark))</td>\n      <td>[[Dragonite, Tyranitar, Lapras, Magnezone, Infernape, Torterra]]</td>\n      <td>2</td>\n      <td>29</td>\n      <td>3329</td>\n      <td>2800</td>\n    </tr>\n    <tr>\n      <th>13</th>\n      <td>((ground, grass), (fighting, fire), (steel, electric), (normal, flying), (ice, water), (rock, dark))</td>\n      <td>[[Tyranitar, Togekiss, Lapras, Magnezone, Infernape, Torterra]]</td>\n      <td>2</td>\n      <td>33</td>\n      <td>3274</td>\n      <td>2795</td>\n    </tr>\n    <tr>\n      <th>36</th>\n      <td>((ground, grass), (fighting, fire), (flying, water), (steel, electric), (ice, water), (rock, dark))</td>\n      <td>[[Tyranitar, Gyarados, Lapras, Magnezone, Infernape, Torterra]]</td>\n      <td>2</td>\n      <td>30</td>\n      <td>3269</td>\n      <td>2780</td>\n    </tr>\n    <tr>\n      <th>130</th>\n      <td>((fighting, fire), (flying, water), (steel, electric), (ground, grass), (rock, dark), (ground, ice))</td>\n      <td>[[Tyranitar, Gyarados, Magnezone, Infernape, Mamoswine, Torterra]]</td>\n      <td>2</td>\n      <td>29</td>\n      <td>3264</td>\n      <td>2790</td>\n    </tr>\n    <tr>\n      <th>44</th>\n      <td>((fighting, fire), (flying, water), (steel, electric), (ground, grass), (rock, dark), ice)</td>\n      <td>[[Tyranitar, Gyarados, Magnezone, Infernape, Glaceon, Torterra]]</td>\n      <td>2</td>\n      <td>28</td>\n      <td>3259</td>\n      <td>2795</td>\n    </tr>\n    <tr>\n      <th>92</th>\n      <td>((flying, dragon), (ground, grass), (fighting, fire), (steel, electric), dark, (ice, water))</td>\n      <td>[[Dragonite, Lapras, Magnezone, Infernape, Torterra, Umbreon]]</td>\n      <td>2</td>\n      <td>32</td>\n      <td>3254</td>\n      <td>2760</td>\n    </tr>\n    <tr>\n      <th>5</th>\n      <td>((fighting, fire), (poison, grass), (ground, flying), (steel, electric), (ice, water), (rock, dark))</td>\n      <td>[[Tyranitar, Lapras, Magnezone, Infernape, Venusaur, Gliscor]]</td>\n      <td>2</td>\n      <td>25</td>\n      <td>3239</td>\n      <td>2758</td>\n    </tr>\n    <tr>\n      <th>33</th>\n      <td>((ground, grass), (fighting, fire), (steel, electric), (normal, flying), (ice, water), dark)</td>\n      <td>[[Togekiss, Lapras, Magnezone, Infernape, Torterra, Umbreon]]</td>\n      <td>2</td>\n      <td>36</td>\n      <td>3199</td>\n      <td>2755</td>\n    </tr>\n    <tr>\n      <th rowspan=\"8\" valign=\"top\">3</th>\n      <th>51</th>\n      <td>((flying, dragon), (fighting, fire), (ground, dragon), (steel, electric), (ice, water), (rock, dark))</td>\n      <td>[[Dragonite, Garchomp, Tyranitar, Lapras, Magnezone, Infernape]]</td>\n      <td>3</td>\n      <td>30</td>\n      <td>3404</td>\n      <td>2870</td>\n    </tr>\n    <tr>\n      <th>118</th>\n      <td>((fighting, fire), (ground, dragon), (normal, flying), (ice, water), (rock, dark), (steel, electric))</td>\n      <td>[[Garchomp, Tyranitar, Togekiss, Lapras, Magnezone, Infernape]]</td>\n      <td>3</td>\n      <td>34</td>\n      <td>3349</td>\n      <td>2865</td>\n    </tr>\n    <tr>\n      <th>91</th>\n      <td>((fighting, fire), (flying, water), (ground, dragon), (steel, electric), (ice, water), (rock, dark))</td>\n      <td>[[Garchomp, Tyranitar, Gyarados, Lapras, Magnezone, Infernape]]</td>\n      <td>3</td>\n      <td>30</td>\n      <td>3344</td>\n      <td>2850</td>\n    </tr>\n    <tr>\n      <th>105</th>\n      <td>((flying, dragon), (steel, fighting), (ground, grass), (ice, water), (rock, dark), fire)</td>\n      <td>[[Dragonite, Tyranitar, Arcanine, Lapras, Lucario, Torterra]]</td>\n      <td>3</td>\n      <td>36</td>\n      <td>3340</td>\n      <td>2775</td>\n    </tr>\n    <tr>\n      <th>2</th>\n      <td>((fighting, fire), (flying, water), (steel, electric), (ground, dragon), (rock, dark), (ground, ice))</td>\n      <td>[[Garchomp, Tyranitar, Gyarados, Magnezone, Infernape, Mamoswine]]</td>\n      <td>3</td>\n      <td>30</td>\n      <td>3339</td>\n      <td>2860</td>\n    </tr>\n    <tr>\n      <th>81</th>\n      <td>((fighting, fire), (flying, water), (steel, electric), (ground, dragon), (rock, dark), ice)</td>\n      <td>[[Garchomp, Tyranitar, Gyarados, Magnezone, Infernape, Glaceon]]</td>\n      <td>3</td>\n      <td>28</td>\n      <td>3334</td>\n      <td>2865</td>\n    </tr>\n    <tr>\n      <th>110</th>\n      <td>((flying, dragon), (fighting, fire), (steel, electric), (ground, dragon), (ice, water), dark)</td>\n      <td>[[Dragonite, Garchomp, Lapras, Magnezone, Infernape, Umbreon]]</td>\n      <td>3</td>\n      <td>32</td>\n      <td>3329</td>\n      <td>2830</td>\n    </tr>\n    <tr>\n      <th>63</th>\n      <td>((flying, dragon), (steel, fighting), (ground, grass), (ice, water), (rock, dark), electric)</td>\n      <td>[[Dragonite, Tyranitar, Electivire, Lapras, Lucario, Torterra]]</td>\n      <td>3</td>\n      <td>36</td>\n      <td>3325</td>\n      <td>2765</td>\n    </tr>\n  </tbody>\n</table>\n</div>",
      "text/plain": "                                                                                                             comb  \\\n0score                                                                                                              \n2      116  ((flying, dragon), (ground, grass), (fighting, fire), (steel, electric), (ice, water), (rock, dark))    \n       13   ((ground, grass), (fighting, fire), (steel, electric), (normal, flying), (ice, water), (rock, dark))    \n       36   ((ground, grass), (fighting, fire), (flying, water), (steel, electric), (ice, water), (rock, dark))     \n       130  ((fighting, fire), (flying, water), (steel, electric), (ground, grass), (rock, dark), (ground, ice))    \n       44   ((fighting, fire), (flying, water), (steel, electric), (ground, grass), (rock, dark), ice)              \n       92   ((flying, dragon), (ground, grass), (fighting, fire), (steel, electric), dark, (ice, water))            \n       5    ((fighting, fire), (poison, grass), (ground, flying), (steel, electric), (ice, water), (rock, dark))    \n       33   ((ground, grass), (fighting, fire), (steel, electric), (normal, flying), (ice, water), dark)            \n3      51   ((flying, dragon), (fighting, fire), (ground, dragon), (steel, electric), (ice, water), (rock, dark))   \n       118  ((fighting, fire), (ground, dragon), (normal, flying), (ice, water), (rock, dark), (steel, electric))   \n       91   ((fighting, fire), (flying, water), (ground, dragon), (steel, electric), (ice, water), (rock, dark))    \n       105  ((flying, dragon), (steel, fighting), (ground, grass), (ice, water), (rock, dark), fire)                \n       2    ((fighting, fire), (flying, water), (steel, electric), (ground, dragon), (rock, dark), (ground, ice))   \n       81   ((fighting, fire), (flying, water), (steel, electric), (ground, dragon), (rock, dark), ice)             \n       110  ((flying, dragon), (fighting, fire), (steel, electric), (ground, dragon), (ice, water), dark)           \n       63   ((flying, dragon), (steel, fighting), (ground, grass), (ice, water), (rock, dark), electric)            \n\n                                                                       pokemon  \\\n0score                                                                           \n2      116  [[Dragonite, Tyranitar, Lapras, Magnezone, Infernape, Torterra]]     \n       13   [[Tyranitar, Togekiss, Lapras, Magnezone, Infernape, Torterra]]      \n       36   [[Tyranitar, Gyarados, Lapras, Magnezone, Infernape, Torterra]]      \n       130  [[Tyranitar, Gyarados, Magnezone, Infernape, Mamoswine, Torterra]]   \n       44   [[Tyranitar, Gyarados, Magnezone, Infernape, Glaceon, Torterra]]     \n       92   [[Dragonite, Lapras, Magnezone, Infernape, Torterra, Umbreon]]       \n       5    [[Tyranitar, Lapras, Magnezone, Infernape, Venusaur, Gliscor]]       \n       33   [[Togekiss, Lapras, Magnezone, Infernape, Torterra, Umbreon]]        \n3      51   [[Dragonite, Garchomp, Tyranitar, Lapras, Magnezone, Infernape]]     \n       118  [[Garchomp, Tyranitar, Togekiss, Lapras, Magnezone, Infernape]]      \n       91   [[Garchomp, Tyranitar, Gyarados, Lapras, Magnezone, Infernape]]      \n       105  [[Dragonite, Tyranitar, Arcanine, Lapras, Lucario, Torterra]]        \n       2    [[Garchomp, Tyranitar, Gyarados, Magnezone, Infernape, Mamoswine]]   \n       81   [[Garchomp, Tyranitar, Gyarados, Magnezone, Infernape, Glaceon]]     \n       110  [[Dragonite, Garchomp, Lapras, Magnezone, Infernape, Umbreon]]       \n       63   [[Dragonite, Tyranitar, Electivire, Lapras, Lucario, Torterra]]      \n\n            0score  2score  total  alttotal  \n0score                                       \n2      116  2       29      3329   2800      \n       13   2       33      3274   2795      \n       36   2       30      3269   2780      \n       130  2       29      3264   2790      \n       44   2       28      3259   2795      \n       92   2       32      3254   2760      \n       5    2       25      3239   2758      \n       33   2       36      3199   2755      \n3      51   3       30      3404   2870      \n       118  3       34      3349   2865      \n       91   3       30      3344   2850      \n       105  3       36      3340   2775      \n       2    3       30      3339   2860      \n       81   3       28      3334   2865      \n       110  3       32      3329   2830      \n       63   3       36      3325   2765      "
     },
     "metadata": {},
     "output_type": "display_data"
    },
    {
     "data": {
      "text/html": "<div>\n<style scoped>\n    .dataframe tbody tr th:only-of-type {\n        vertical-align: middle;\n    }\n\n    .dataframe tbody tr th {\n        vertical-align: top;\n    }\n\n    .dataframe thead th {\n        text-align: right;\n    }\n</style>\n<table border=\"1\" class=\"dataframe\">\n  <thead>\n    <tr style=\"text-align: right;\">\n      <th></th>\n      <th></th>\n      <th>comb</th>\n      <th>pokemon</th>\n      <th>0score</th>\n      <th>2score</th>\n      <th>total</th>\n      <th>alttotal</th>\n    </tr>\n    <tr>\n      <th>0score</th>\n      <th></th>\n      <th></th>\n      <th></th>\n      <th></th>\n      <th></th>\n      <th></th>\n      <th></th>\n    </tr>\n  </thead>\n  <tbody>\n    <tr>\n      <th rowspan=\"2\" valign=\"top\">2</th>\n      <th>76</th>\n      <td>((flying, water), (steel, electric), (ground, grass), (bug, fighting), (ice, dark), fire)</td>\n      <td>[[Arcanine, Gyarados, Magnezone, Torterra, Weavile, Heracross]]</td>\n      <td>2</td>\n      <td>30</td>\n      <td>3165</td>\n      <td>2775</td>\n    </tr>\n    <tr>\n      <th>145</th>\n      <td>((flying, water), (steel, electric), (psychic, fighting), (ground, grass), (ice, dark), fire)</td>\n      <td>[[Arcanine, Gyarados, Magnezone, Torterra, Gallade, Weavile]]</td>\n      <td>2</td>\n      <td>31</td>\n      <td>3183</td>\n      <td>2768</td>\n    </tr>\n    <tr>\n      <th rowspan=\"2\" valign=\"top\">3</th>\n      <th>57</th>\n      <td>((flying, water), (steel, electric), (ground, grass), normal, (bug, fighting), (ice, dark))</td>\n      <td>[[Slaking, Gyarados, Magnezone, Torterra, Weavile, Heracross]]</td>\n      <td>3</td>\n      <td>32</td>\n      <td>3280</td>\n      <td>2895</td>\n    </tr>\n    <tr>\n      <th>206</th>\n      <td>((flying, water), (steel, electric), (psychic, fighting), (ground, grass), normal, (ice, dark))</td>\n      <td>[[Slaking, Gyarados, Magnezone, Torterra, Gallade, Weavile]]</td>\n      <td>3</td>\n      <td>34</td>\n      <td>3298</td>\n      <td>2888</td>\n    </tr>\n  </tbody>\n</table>\n</div>",
      "text/plain": "                                                                                                       comb  \\\n0score                                                                                                        \n2      76   ((flying, water), (steel, electric), (ground, grass), (bug, fighting), (ice, dark), fire)         \n       145  ((flying, water), (steel, electric), (psychic, fighting), (ground, grass), (ice, dark), fire)     \n3      57   ((flying, water), (steel, electric), (ground, grass), normal, (bug, fighting), (ice, dark))       \n       206  ((flying, water), (steel, electric), (psychic, fighting), (ground, grass), normal, (ice, dark))   \n\n                                                                    pokemon  \\\n0score                                                                        \n2      76   [[Arcanine, Gyarados, Magnezone, Torterra, Weavile, Heracross]]   \n       145  [[Arcanine, Gyarados, Magnezone, Torterra, Gallade, Weavile]]     \n3      57   [[Slaking, Gyarados, Magnezone, Torterra, Weavile, Heracross]]    \n       206  [[Slaking, Gyarados, Magnezone, Torterra, Gallade, Weavile]]      \n\n            0score  2score  total  alttotal  \n0score                                       \n2      76   2       30      3165   2775      \n       145  2       31      3183   2768      \n3      57   3       32      3280   2895      \n       206  3       34      3298   2888      "
     },
     "metadata": {},
     "output_type": "display_data"
    }
   ],
   "source": [
    "with pd.option_context('display.max_colwidth', -1, 'display.max_rows', 65):\r\n",
    "    #dis(ranking)\r\n",
    "    dis(ranking_t.groupby(by=['0score']).apply(lambda x: x.nlargest(8,'total'))) \r\n",
    "    dis(ranking_at.groupby(by=['0score']).apply(lambda x: x.nlargest(2,'alttotal')))"
   ]
  },
  {
   "cell_type": "code",
   "execution_count": null,
   "metadata": {},
   "outputs": [],
   "source": []
  },
  {
   "cell_type": "code",
   "execution_count": null,
   "metadata": {},
   "outputs": [],
   "source": []
  },
  {
   "cell_type": "code",
   "execution_count": 40,
   "metadata": {},
   "outputs": [
    {
     "data": {
      "text/plain": "5    fire\nName: type, dtype: object"
     },
     "execution_count": 40,
     "metadata": {},
     "output_type": "execute_result"
    }
   ],
   "source": [
    "pok_dft.iloc[n:n+1]['type']"
   ]
  },
  {
   "cell_type": "code",
   "execution_count": 35,
   "metadata": {},
   "outputs": [
    {
     "name": "stdout",
     "output_type": "stream",
     "text": [
      "0 0\n",
      "0 1\n",
      "0 2\n",
      "0 3\n",
      "0 4\n",
      "0 5\n",
      "0 6\n",
      "1 0\n",
      "2 0\n",
      "3 0\n",
      "4 0\n",
      "5 0\n",
      "6 0\n"
     ]
    },
    {
     "data": {
      "text/html": "<div>\n<style scoped>\n    .dataframe tbody tr th:only-of-type {\n        vertical-align: middle;\n    }\n\n    .dataframe tbody tr th {\n        vertical-align: top;\n    }\n\n    .dataframe thead th {\n        text-align: right;\n    }\n</style>\n<table border=\"1\" class=\"dataframe\">\n  <thead>\n    <tr style=\"text-align: right;\">\n      <th></th>\n      <th>0</th>\n      <th>1</th>\n      <th>2</th>\n      <th>3</th>\n      <th>4</th>\n      <th>5</th>\n      <th>6</th>\n    </tr>\n  </thead>\n  <tbody>\n    <tr>\n      <th>0</th>\n      <td>{('normal',): [0.0, 0.0, 0.0, 0.0, 0.0, 0.0, 0...</td>\n      <td>{}</td>\n      <td>{}</td>\n      <td>{}</td>\n      <td>{}</td>\n      <td>{}</td>\n      <td>{}</td>\n    </tr>\n    <tr>\n      <th>1</th>\n      <td>[{('normal',): [0.0, 0.0, 0.0, 0.0, 0.0, 0.0, ...</td>\n      <td>NaN</td>\n      <td>NaN</td>\n      <td>NaN</td>\n      <td>NaN</td>\n      <td>NaN</td>\n      <td>NaN</td>\n    </tr>\n    <tr>\n      <th>2</th>\n      <td>[{('normal',): [0.0, 0.0, 0.0, 0.0, 0.0, 0.0, ...</td>\n      <td>NaN</td>\n      <td>NaN</td>\n      <td>NaN</td>\n      <td>NaN</td>\n      <td>NaN</td>\n      <td>NaN</td>\n    </tr>\n    <tr>\n      <th>3</th>\n      <td>[{('normal',): [0.0, 0.0, 0.0, 0.0, 0.0, 0.0, ...</td>\n      <td>NaN</td>\n      <td>NaN</td>\n      <td>NaN</td>\n      <td>NaN</td>\n      <td>NaN</td>\n      <td>NaN</td>\n    </tr>\n    <tr>\n      <th>4</th>\n      <td>[{('normal',): [0.0, 0.0, 0.0, 0.0, 0.0, 0.0, ...</td>\n      <td>NaN</td>\n      <td>NaN</td>\n      <td>NaN</td>\n      <td>NaN</td>\n      <td>NaN</td>\n      <td>NaN</td>\n    </tr>\n    <tr>\n      <th>5</th>\n      <td>[{('normal',): [0.0, 0.0, 0.0, 0.0, 0.0, 0.0, ...</td>\n      <td>NaN</td>\n      <td>NaN</td>\n      <td>NaN</td>\n      <td>NaN</td>\n      <td>NaN</td>\n      <td>NaN</td>\n    </tr>\n    <tr>\n      <th>6</th>\n      <td>[{('normal',): [0.0, 0.0, 0.0, 0.0, 0.0, 0.0, ...</td>\n      <td>NaN</td>\n      <td>NaN</td>\n      <td>NaN</td>\n      <td>NaN</td>\n      <td>NaN</td>\n      <td>NaN</td>\n    </tr>\n  </tbody>\n</table>\n</div>",
      "text/plain": "                                                   0    1    2    3    4    5  \\\n0  {('normal',): [0.0, 0.0, 0.0, 0.0, 0.0, 0.0, 0...   {}   {}   {}   {}   {}   \n1  [{('normal',): [0.0, 0.0, 0.0, 0.0, 0.0, 0.0, ...  NaN  NaN  NaN  NaN  NaN   \n2  [{('normal',): [0.0, 0.0, 0.0, 0.0, 0.0, 0.0, ...  NaN  NaN  NaN  NaN  NaN   \n3  [{('normal',): [0.0, 0.0, 0.0, 0.0, 0.0, 0.0, ...  NaN  NaN  NaN  NaN  NaN   \n4  [{('normal',): [0.0, 0.0, 0.0, 0.0, 0.0, 0.0, ...  NaN  NaN  NaN  NaN  NaN   \n5  [{('normal',): [0.0, 0.0, 0.0, 0.0, 0.0, 0.0, ...  NaN  NaN  NaN  NaN  NaN   \n6  [{('normal',): [0.0, 0.0, 0.0, 0.0, 0.0, 0.0, ...  NaN  NaN  NaN  NaN  NaN   \n\n     6  \n0   {}  \n1  NaN  \n2  NaN  \n3  NaN  \n4  NaN  \n5  NaN  \n6  NaN  "
     },
     "execution_count": 35,
     "metadata": {},
     "output_type": "execute_result"
    }
   ],
   "source": [
    "first6 = pd.DataFrame()\r\n",
    "limit = 7\r\n",
    "\r\n",
    "for n in range(limit):\r\n",
    "    for k in range(limit):\r\n",
    "        if n==0 or k==0:\r\n",
    "            print(n,k)\r\n",
    "            dict1 = {}\r\n",
    "            for comb in list(combinations(pok_dft.iloc[:n+1]['type'],k+1)):\r\n",
    "                dict1[comb] = scores_df[scores_df.index.isin(comb)].max(axis=0).values\r\n",
    "            first6.at[n,k] = [dict1]\r\n",
    "\r\n",
    "first6"
   ]
  },
  {
   "cell_type": "code",
   "execution_count": 314,
   "metadata": {},
   "outputs": [
    {
     "ename": "TypeError",
     "evalue": "'int' object is not callable",
     "output_type": "error",
     "traceback": [
      "\u001b[1;31m---------------------------------------------------------------------------\u001b[0m",
      "\u001b[1;31mTypeError\u001b[0m                                 Traceback (most recent call last)",
      "\u001b[1;32m<ipython-input-314-c070af2f44a7>\u001b[0m in \u001b[0;36m<module>\u001b[1;34m\u001b[0m\n\u001b[0;32m      1\u001b[0m \u001b[0mafter6\u001b[0m \u001b[1;33m=\u001b[0m \u001b[0mpd\u001b[0m\u001b[1;33m.\u001b[0m\u001b[0mDataFrame\u001b[0m\u001b[1;33m(\u001b[0m\u001b[1;33m)\u001b[0m\u001b[1;33m\u001b[0m\u001b[1;33m\u001b[0m\u001b[0m\n\u001b[0;32m      2\u001b[0m \u001b[0mr\u001b[0m\u001b[1;33m=\u001b[0m \u001b[1;36m3\u001b[0m\u001b[1;33m\u001b[0m\u001b[1;33m\u001b[0m\u001b[0m\n\u001b[1;32m----> 3\u001b[1;33m \u001b[1;32mfor\u001b[0m \u001b[0mn\u001b[0m \u001b[1;32min\u001b[0m \u001b[0mrange\u001b[0m\u001b[1;33m(\u001b[0m\u001b[1;36m6\u001b[0m\u001b[1;33m,\u001b[0m\u001b[0mr\u001b[0m\u001b[1;33m+\u001b[0m\u001b[1;36m6\u001b[0m\u001b[1;33m)\u001b[0m\u001b[1;33m:\u001b[0m\u001b[1;33m\u001b[0m\u001b[1;33m\u001b[0m\u001b[0m\n\u001b[0m\u001b[0;32m      4\u001b[0m     \u001b[1;32mfor\u001b[0m \u001b[0mk\u001b[0m \u001b[1;32min\u001b[0m \u001b[0mrange\u001b[0m\u001b[1;33m(\u001b[0m\u001b[1;36m1\u001b[0m\u001b[1;33m,\u001b[0m\u001b[0mr\u001b[0m\u001b[1;33m+\u001b[0m\u001b[1;36m1\u001b[0m\u001b[1;33m)\u001b[0m\u001b[1;33m:\u001b[0m\u001b[1;33m\u001b[0m\u001b[1;33m\u001b[0m\u001b[0m\n\u001b[0;32m      5\u001b[0m         \u001b[1;32mif\u001b[0m \u001b[0mk\u001b[0m \u001b[1;33m<=\u001b[0m \u001b[0mn\u001b[0m\u001b[1;33m-\u001b[0m\u001b[1;36m6\u001b[0m\u001b[1;33m:\u001b[0m\u001b[1;33m\u001b[0m\u001b[1;33m\u001b[0m\u001b[0m\n",
      "\u001b[1;31mTypeError\u001b[0m: 'int' object is not callable"
     ]
    }
   ],
   "source": [
    "after6 = pd.DataFrame()\r\n",
    "r = 3\r\n",
    "for n in range(6,r+6):\r\n",
    "    for k in range(1,r+1):\r\n",
    "        if k <= n-6:\r\n",
    "            dict1 = {}\r\n",
    "            print(n,k)\r\n",
    "            for comb in list(combinations(pok_dft.iloc[6:n+k-1]['type'],k)):\r\n",
    "                dict1[comb] = scores_df[scores_df.index.isin(comb)].max(axis=0).values\r\n",
    "                print(comb)\r\n",
    "            after6.at[n-6,k] = [dict1]\r\n",
    "\r\n",
    "after6\r\n"
   ]
  },
  {
   "cell_type": "code",
   "execution_count": 317,
   "metadata": {},
   "outputs": [
    {
     "ename": "TypeError",
     "evalue": "'int' object is not callable",
     "output_type": "error",
     "traceback": [
      "\u001b[1;31m---------------------------------------------------------------------------\u001b[0m",
      "\u001b[1;31mTypeError\u001b[0m                                 Traceback (most recent call last)",
      "\u001b[1;32m<ipython-input-317-a924af88f7eb>\u001b[0m in \u001b[0;36m<module>\u001b[1;34m\u001b[0m\n\u001b[0;32m      1\u001b[0m \u001b[0mfirst6\u001b[0m \u001b[1;33m=\u001b[0m \u001b[0mpd\u001b[0m\u001b[1;33m.\u001b[0m\u001b[0mDataFrame\u001b[0m\u001b[1;33m(\u001b[0m\u001b[1;33m)\u001b[0m\u001b[1;33m\u001b[0m\u001b[1;33m\u001b[0m\u001b[0m\n\u001b[0;32m      2\u001b[0m \u001b[0mn\u001b[0m\u001b[1;33m=\u001b[0m \u001b[1;34m'a'\u001b[0m\u001b[1;33m\u001b[0m\u001b[1;33m\u001b[0m\u001b[0m\n\u001b[1;32m----> 3\u001b[1;33m \u001b[1;32mfor\u001b[0m \u001b[0mn\u001b[0m \u001b[1;32min\u001b[0m \u001b[0mrange\u001b[0m\u001b[1;33m(\u001b[0m\u001b[1;36m1\u001b[0m\u001b[1;33m,\u001b[0m\u001b[1;36m7\u001b[0m\u001b[1;33m)\u001b[0m\u001b[1;33m:\u001b[0m\u001b[1;33m\u001b[0m\u001b[1;33m\u001b[0m\u001b[0m\n\u001b[0m\u001b[0;32m      4\u001b[0m     \u001b[1;32mfor\u001b[0m \u001b[0mk\u001b[0m \u001b[1;32min\u001b[0m \u001b[0mrange\u001b[0m\u001b[1;33m(\u001b[0m\u001b[1;36m1\u001b[0m\u001b[1;33m,\u001b[0m\u001b[1;36m7\u001b[0m\u001b[1;33m)\u001b[0m\u001b[1;33m:\u001b[0m\u001b[1;33m\u001b[0m\u001b[1;33m\u001b[0m\u001b[0m\n\u001b[0;32m      5\u001b[0m         \u001b[1;32mif\u001b[0m \u001b[0mk\u001b[0m \u001b[1;33m<=\u001b[0m \u001b[0mn\u001b[0m\u001b[1;33m:\u001b[0m\u001b[1;33m\u001b[0m\u001b[1;33m\u001b[0m\u001b[0m\n",
      "\u001b[1;31mTypeError\u001b[0m: 'int' object is not callable"
     ]
    }
   ],
   "source": [
    "first6 = pd.DataFrame()\r\n",
    "for n in range(1,7):\r\n",
    "    for k in range(1,7):\r\n",
    "        if k <= n:\r\n",
    "            dict1 = {}\r\n",
    "            for comb in list(combinations(pok_dft.iloc[:n]['type'],k)):\r\n",
    "                dict1[comb] = scores_df[scores_df.index.isin(comb)].max(axis=0).values\r\n",
    "            first6.at[n-1,k-1] = [dict1]\r\n",
    "\r\n",
    "first6"
   ]
  },
  {
   "cell_type": "code",
   "execution_count": 129,
   "metadata": {},
   "outputs": [
    {
     "name": "stderr",
     "output_type": "stream",
     "text": [
      "<ipython-input-129-007e7ac9333b>:6: TqdmDeprecationWarning: This function will be removed in tqdm==5.0.0\n",
      "Please use `tqdm.notebook.tqdm` instead of `tqdm.tqdm_notebook`\n",
      "  for i in tqdm_notebook(range(23,28)):\n"
     ]
    },
    {
     "data": {
      "application/vnd.jupyter.widget-view+json": {
       "model_id": "d515c576ddaf45938cfa717540643adc",
       "version_major": 2,
       "version_minor": 0
      },
      "text/plain": "HBox(children=(HTML(value=''), FloatProgress(value=0.0, max=5.0), HTML(value='')))"
     },
     "metadata": {},
     "output_type": "display_data"
    },
    {
     "name": "stdout",
     "output_type": "stream",
     "text": [
      "2      Garchomp\n",
      "4     Tyranitar\n",
      "6      Togekiss\n",
      "8      Gyarados\n",
      "13    Magnezone\n",
      "16    Infernape\n",
      "Name: pokemon, dtype: object Counter({4.0: 42, 2.0: 32, 8.0: 13, 16.0: 1, 0.0: 1})\n",
      "2      Garchomp\n",
      "4     Tyranitar\n",
      "6      Togekiss\n",
      "9       Kingdra\n",
      "13    Magnezone\n",
      "16    Infernape\n",
      "Name: pokemon, dtype: object Counter({4.0: 38, 2.0: 36, 8.0: 13, 16.0: 1, 0.0: 1})\n",
      "2      Garchomp\n",
      "4     Tyranitar\n",
      "6      Togekiss\n",
      "10      Milotic\n",
      "13    Magnezone\n",
      "16    Infernape\n",
      "Name: pokemon, dtype: object Counter({4.0: 39, 2.0: 36, 8.0: 12, 16.0: 1, 0.0: 1})\n",
      "2      Garchomp\n",
      "4     Tyranitar\n",
      "6      Togekiss\n",
      "12       Lapras\n",
      "13    Magnezone\n",
      "16    Infernape\n",
      "Name: pokemon, dtype: object Counter({4.0: 40, 2.0: 35, 8.0: 12, 16.0: 1, 0.0: 1})\n",
      "2      Garchomp\n",
      "4     Tyranitar\n",
      "6      Togekiss\n",
      "8      Gyarados\n",
      "13    Magnezone\n",
      "16    Infernape\n",
      "Name: pokemon, dtype: object Counter({4.0: 42, 2.0: 32, 8.0: 13, 16.0: 1, 0.0: 1})\n",
      "2      Garchomp\n",
      "4     Tyranitar\n",
      "6      Togekiss\n",
      "9       Kingdra\n",
      "13    Magnezone\n",
      "16    Infernape\n",
      "Name: pokemon, dtype: object Counter({4.0: 38, 2.0: 36, 8.0: 13, 16.0: 1, 0.0: 1})\n",
      "2      Garchomp\n",
      "4     Tyranitar\n",
      "6      Togekiss\n",
      "10      Milotic\n",
      "13    Magnezone\n",
      "16    Infernape\n",
      "Name: pokemon, dtype: object Counter({4.0: 39, 2.0: 36, 8.0: 12, 16.0: 1, 0.0: 1})\n",
      "2      Garchomp\n",
      "4     Tyranitar\n",
      "6      Togekiss\n",
      "12       Lapras\n",
      "13    Magnezone\n",
      "16    Infernape\n",
      "Name: pokemon, dtype: object Counter({4.0: 40, 2.0: 35, 8.0: 12, 16.0: 1, 0.0: 1})\n",
      "2      Garchomp\n",
      "4     Tyranitar\n",
      "6      Togekiss\n",
      "8      Gyarados\n",
      "13    Magnezone\n",
      "16    Infernape\n",
      "Name: pokemon, dtype: object Counter({4.0: 42, 2.0: 32, 8.0: 13, 16.0: 1, 0.0: 1})\n",
      "2      Garchomp\n",
      "4     Tyranitar\n",
      "6      Togekiss\n",
      "9       Kingdra\n",
      "13    Magnezone\n",
      "16    Infernape\n",
      "Name: pokemon, dtype: object Counter({4.0: 38, 2.0: 36, 8.0: 13, 16.0: 1, 0.0: 1})\n",
      "2      Garchomp\n",
      "4     Tyranitar\n",
      "6      Togekiss\n",
      "10      Milotic\n",
      "13    Magnezone\n",
      "16    Infernape\n",
      "Name: pokemon, dtype: object Counter({4.0: 39, 2.0: 36, 8.0: 12, 16.0: 1, 0.0: 1})\n",
      "2      Garchomp\n",
      "4     Tyranitar\n",
      "6      Togekiss\n",
      "12       Lapras\n",
      "13    Magnezone\n",
      "16    Infernape\n",
      "Name: pokemon, dtype: object Counter({4.0: 40, 2.0: 35, 8.0: 12, 16.0: 1, 0.0: 1})\n",
      "2      Garchomp\n",
      "4     Tyranitar\n",
      "6      Togekiss\n",
      "8      Gyarados\n",
      "13    Magnezone\n",
      "16    Infernape\n",
      "Name: pokemon, dtype: object Counter({4.0: 42, 2.0: 32, 8.0: 13, 16.0: 1, 0.0: 1})\n",
      "2      Garchomp\n",
      "4     Tyranitar\n",
      "6      Togekiss\n",
      "9       Kingdra\n",
      "13    Magnezone\n",
      "16    Infernape\n",
      "Name: pokemon, dtype: object Counter({4.0: 38, 2.0: 36, 8.0: 13, 16.0: 1, 0.0: 1})\n",
      "2      Garchomp\n",
      "4     Tyranitar\n",
      "6      Togekiss\n",
      "10      Milotic\n",
      "13    Magnezone\n",
      "16    Infernape\n",
      "Name: pokemon, dtype: object Counter({4.0: 39, 2.0: 36, 8.0: 12, 16.0: 1, 0.0: 1})\n",
      "2      Garchomp\n",
      "4     Tyranitar\n",
      "6      Togekiss\n",
      "12       Lapras\n",
      "13    Magnezone\n",
      "16    Infernape\n",
      "Name: pokemon, dtype: object Counter({4.0: 40, 2.0: 35, 8.0: 12, 16.0: 1, 0.0: 1})\n",
      "4     Tyranitar\n",
      "5      Arcanine\n",
      "6      Togekiss\n",
      "8      Gyarados\n",
      "13    Magnezone\n",
      "25     Torterra\n",
      "Name: pokemon, dtype: object Counter({4.0: 45, 2.0: 30, 8.0: 12, 0.0: 1, 16.0: 1})\n",
      "4     Tyranitar\n",
      "5      Arcanine\n",
      "6      Togekiss\n",
      "8      Gyarados\n",
      "24      Lucario\n",
      "25     Torterra\n",
      "Name: pokemon, dtype: object Counter({2.0: 39, 4.0: 33, 8.0: 14, 16.0: 2, 0.0: 1})\n",
      "4     Tyranitar\n",
      "5      Arcanine\n",
      "6      Togekiss\n",
      "9       Kingdra\n",
      "13    Magnezone\n",
      "25     Torterra\n",
      "Name: pokemon, dtype: object Counter({4.0: 42, 2.0: 33, 8.0: 12, 0.0: 1, 16.0: 1})\n",
      "4     Tyranitar\n",
      "5      Arcanine\n",
      "6      Togekiss\n",
      "9       Kingdra\n",
      "24      Lucario\n",
      "25     Torterra\n",
      "Name: pokemon, dtype: object Counter({2.0: 42, 4.0: 30, 8.0: 14, 16.0: 2, 0.0: 1})\n",
      "4     Tyranitar\n",
      "5      Arcanine\n",
      "6      Togekiss\n",
      "10      Milotic\n",
      "13    Magnezone\n",
      "25     Torterra\n",
      "Name: pokemon, dtype: object Counter({4.0: 43, 2.0: 33, 8.0: 11, 0.0: 1, 16.0: 1})\n",
      "4     Tyranitar\n",
      "5      Arcanine\n",
      "6      Togekiss\n",
      "10      Milotic\n",
      "24      Lucario\n",
      "25     Torterra\n",
      "Name: pokemon, dtype: object Counter({2.0: 42, 4.0: 31, 8.0: 13, 16.0: 2, 0.0: 1})\n",
      "4     Tyranitar\n",
      "5      Arcanine\n",
      "6      Togekiss\n",
      "12       Lapras\n",
      "13    Magnezone\n",
      "25     Torterra\n",
      "Name: pokemon, dtype: object Counter({4.0: 44, 2.0: 32, 8.0: 11, 0.0: 1, 16.0: 1})\n",
      "4     Tyranitar\n",
      "5      Arcanine\n",
      "6      Togekiss\n",
      "12       Lapras\n",
      "24      Lucario\n",
      "25     Torterra\n",
      "Name: pokemon, dtype: object Counter({2.0: 41, 4.0: 32, 8.0: 13, 16.0: 2, 0.0: 1})\n",
      "4      Tyranitar\n",
      "6       Togekiss\n",
      "7     Electivire\n",
      "8       Gyarados\n",
      "24       Lucario\n",
      "25      Torterra\n",
      "Name: pokemon, dtype: object Counter({2.0: 39, 4.0: 35, 8.0: 12, 16.0: 2, 0.0: 1})\n",
      "4     Tyranitar\n",
      "6      Togekiss\n",
      "8      Gyarados\n",
      "13    Magnezone\n",
      "16    Infernape\n",
      "25     Torterra\n",
      "Name: pokemon, dtype: object Counter({4.0: 43, 2.0: 32, 8.0: 13, 16.0: 1})\n",
      "4     Tyranitar\n",
      "6      Togekiss\n",
      "8      Gyarados\n",
      "13    Magnezone\n",
      "24      Lucario\n",
      "25     Torterra\n",
      "Name: pokemon, dtype: object Counter({4.0: 40, 2.0: 31, 8.0: 15, 16.0: 2, 0.0: 1})\n",
      "4     Tyranitar\n",
      "6      Togekiss\n",
      "9       Kingdra\n",
      "13    Magnezone\n",
      "16    Infernape\n",
      "25     Torterra\n",
      "Name: pokemon, dtype: object Counter({4.0: 40, 2.0: 35, 8.0: 13, 16.0: 1})\n",
      "4     Tyranitar\n",
      "6      Togekiss\n",
      "10      Milotic\n",
      "13    Magnezone\n",
      "16    Infernape\n",
      "25     Torterra\n",
      "Name: pokemon, dtype: object Counter({4.0: 41, 2.0: 35, 8.0: 12, 16.0: 1})\n",
      "4     Tyranitar\n",
      "6      Togekiss\n",
      "12       Lapras\n",
      "13    Magnezone\n",
      "16    Infernape\n",
      "25     Torterra\n",
      "Name: pokemon, dtype: object Counter({4.0: 42, 2.0: 34, 8.0: 12, 16.0: 1})\n",
      "2      Garchomp\n",
      "4     Tyranitar\n",
      "6      Togekiss\n",
      "8      Gyarados\n",
      "13    Magnezone\n",
      "16    Infernape\n",
      "Name: pokemon, dtype: object Counter({4.0: 42, 2.0: 32, 8.0: 13, 16.0: 1, 0.0: 1})\n",
      "2      Garchomp\n",
      "4     Tyranitar\n",
      "6      Togekiss\n",
      "9       Kingdra\n",
      "13    Magnezone\n",
      "16    Infernape\n",
      "Name: pokemon, dtype: object Counter({4.0: 38, 2.0: 36, 8.0: 13, 16.0: 1, 0.0: 1})\n",
      "2      Garchomp\n",
      "4     Tyranitar\n",
      "6      Togekiss\n",
      "10      Milotic\n",
      "13    Magnezone\n",
      "16    Infernape\n",
      "Name: pokemon, dtype: object Counter({4.0: 39, 2.0: 36, 8.0: 12, 16.0: 1, 0.0: 1})\n",
      "2      Garchomp\n",
      "4     Tyranitar\n",
      "6      Togekiss\n",
      "12       Lapras\n",
      "13    Magnezone\n",
      "16    Infernape\n",
      "Name: pokemon, dtype: object Counter({4.0: 40, 2.0: 35, 8.0: 12, 16.0: 1, 0.0: 1})\n",
      "2      Garchomp\n",
      "6      Togekiss\n",
      "8      Gyarados\n",
      "13    Magnezone\n",
      "16    Infernape\n",
      "26      Umbreon\n",
      "Name: pokemon, dtype: object Counter({4.0: 40, 2.0: 34, 8.0: 13, 16.0: 1, 0.0: 1})\n",
      "2      Garchomp\n",
      "6      Togekiss\n",
      "9       Kingdra\n",
      "13    Magnezone\n",
      "16    Infernape\n",
      "26      Umbreon\n",
      "Name: pokemon, dtype: object Counter({2.0: 38, 4.0: 36, 8.0: 13, 16.0: 1, 0.0: 1})\n",
      "2      Garchomp\n",
      "6      Togekiss\n",
      "10      Milotic\n",
      "13    Magnezone\n",
      "16    Infernape\n",
      "26      Umbreon\n",
      "Name: pokemon, dtype: object Counter({2.0: 38, 4.0: 37, 8.0: 12, 16.0: 1, 0.0: 1})\n",
      "2      Garchomp\n",
      "6      Togekiss\n",
      "12       Lapras\n",
      "13    Magnezone\n",
      "16    Infernape\n",
      "26      Umbreon\n",
      "Name: pokemon, dtype: object Counter({4.0: 38, 2.0: 37, 8.0: 12, 16.0: 1, 0.0: 1})\n",
      "4     Tyranitar\n",
      "5      Arcanine\n",
      "6      Togekiss\n",
      "8      Gyarados\n",
      "13    Magnezone\n",
      "25     Torterra\n",
      "Name: pokemon, dtype: object Counter({4.0: 45, 2.0: 30, 8.0: 12, 0.0: 1, 16.0: 1})\n",
      "4     Tyranitar\n",
      "5      Arcanine\n",
      "6      Togekiss\n",
      "8      Gyarados\n",
      "24      Lucario\n",
      "25     Torterra\n",
      "Name: pokemon, dtype: object Counter({2.0: 39, 4.0: 33, 8.0: 14, 16.0: 2, 0.0: 1})\n",
      "4     Tyranitar\n",
      "5      Arcanine\n",
      "6      Togekiss\n",
      "9       Kingdra\n",
      "13    Magnezone\n",
      "25     Torterra\n",
      "Name: pokemon, dtype: object Counter({4.0: 42, 2.0: 33, 8.0: 12, 0.0: 1, 16.0: 1})\n",
      "4     Tyranitar\n",
      "5      Arcanine\n",
      "6      Togekiss\n",
      "9       Kingdra\n",
      "24      Lucario\n",
      "25     Torterra\n",
      "Name: pokemon, dtype: object Counter({2.0: 42, 4.0: 30, 8.0: 14, 16.0: 2, 0.0: 1})\n",
      "4     Tyranitar\n",
      "5      Arcanine\n",
      "6      Togekiss\n",
      "10      Milotic\n",
      "13    Magnezone\n",
      "25     Torterra\n",
      "Name: pokemon, dtype: object Counter({4.0: 43, 2.0: 33, 8.0: 11, 0.0: 1, 16.0: 1})\n",
      "4     Tyranitar\n",
      "5      Arcanine\n",
      "6      Togekiss\n",
      "10      Milotic\n",
      "24      Lucario\n",
      "25     Torterra\n",
      "Name: pokemon, dtype: object Counter({2.0: 42, 4.0: 31, 8.0: 13, 16.0: 2, 0.0: 1})\n",
      "4     Tyranitar\n",
      "5      Arcanine\n",
      "6      Togekiss\n",
      "12       Lapras\n",
      "13    Magnezone\n",
      "25     Torterra\n",
      "Name: pokemon, dtype: object Counter({4.0: 44, 2.0: 32, 8.0: 11, 0.0: 1, 16.0: 1})\n",
      "4     Tyranitar\n",
      "5      Arcanine\n",
      "6      Togekiss\n",
      "12       Lapras\n",
      "24      Lucario\n",
      "25     Torterra\n",
      "Name: pokemon, dtype: object Counter({2.0: 41, 4.0: 32, 8.0: 13, 16.0: 2, 0.0: 1})\n",
      "4      Tyranitar\n",
      "6       Togekiss\n",
      "7     Electivire\n",
      "8       Gyarados\n",
      "24       Lucario\n",
      "25      Torterra\n",
      "Name: pokemon, dtype: object Counter({2.0: 39, 4.0: 35, 8.0: 12, 16.0: 2, 0.0: 1})\n",
      "4     Tyranitar\n",
      "6      Togekiss\n",
      "8      Gyarados\n",
      "13    Magnezone\n",
      "16    Infernape\n",
      "25     Torterra\n",
      "Name: pokemon, dtype: object Counter({4.0: 43, 2.0: 32, 8.0: 13, 16.0: 1})\n",
      "4     Tyranitar\n",
      "6      Togekiss\n",
      "8      Gyarados\n",
      "13    Magnezone\n",
      "24      Lucario\n",
      "25     Torterra\n",
      "Name: pokemon, dtype: object Counter({4.0: 40, 2.0: 31, 8.0: 15, 16.0: 2, 0.0: 1})\n",
      "4     Tyranitar\n",
      "6      Togekiss\n",
      "9       Kingdra\n",
      "13    Magnezone\n",
      "16    Infernape\n",
      "25     Torterra\n",
      "Name: pokemon, dtype: object Counter({4.0: 40, 2.0: 35, 8.0: 13, 16.0: 1})\n",
      "4     Tyranitar\n",
      "6      Togekiss\n",
      "10      Milotic\n",
      "13    Magnezone\n",
      "16    Infernape\n",
      "25     Torterra\n",
      "Name: pokemon, dtype: object Counter({4.0: 41, 2.0: 35, 8.0: 12, 16.0: 1})\n",
      "4     Tyranitar\n",
      "6      Togekiss\n",
      "12       Lapras\n",
      "13    Magnezone\n",
      "16    Infernape\n",
      "25     Torterra\n",
      "Name: pokemon, dtype: object Counter({4.0: 42, 2.0: 34, 8.0: 12, 16.0: 1})\n",
      "5      Arcanine\n",
      "6      Togekiss\n",
      "8      Gyarados\n",
      "13    Magnezone\n",
      "25     Torterra\n",
      "26      Umbreon\n",
      "Name: pokemon, dtype: object Counter({4.0: 42, 2.0: 33, 8.0: 12, 0.0: 1, 16.0: 1})\n",
      "5      Arcanine\n",
      "6      Togekiss\n",
      "9       Kingdra\n",
      "13    Magnezone\n",
      "25     Torterra\n",
      "26      Umbreon\n",
      "Name: pokemon, dtype: object Counter({4.0: 39, 2.0: 36, 8.0: 12, 0.0: 1, 16.0: 1})\n",
      "5      Arcanine\n",
      "6      Togekiss\n",
      "10      Milotic\n",
      "13    Magnezone\n",
      "25     Torterra\n",
      "26      Umbreon\n",
      "Name: pokemon, dtype: object Counter({4.0: 40, 2.0: 36, 8.0: 11, 0.0: 1, 16.0: 1})\n",
      "5      Arcanine\n",
      "6      Togekiss\n",
      "12       Lapras\n",
      "13    Magnezone\n",
      "25     Torterra\n",
      "26      Umbreon\n",
      "Name: pokemon, dtype: object Counter({4.0: 40, 2.0: 36, 8.0: 11, 0.0: 1, 16.0: 1})\n",
      "5     Arcanine\n",
      "6     Togekiss\n",
      "12      Lapras\n",
      "24     Lucario\n",
      "25    Torterra\n",
      "26     Umbreon\n",
      "Name: pokemon, dtype: object Counter({2.0: 52, 4.0: 21, 8.0: 13, 16.0: 2, 0.0: 1})\n",
      "6       Togekiss\n",
      "7     Electivire\n",
      "8       Gyarados\n",
      "24       Lucario\n",
      "25      Torterra\n",
      "26       Umbreon\n",
      "Name: pokemon, dtype: object Counter({2.0: 48, 4.0: 26, 8.0: 12, 16.0: 2, 0.0: 1})\n",
      "6      Togekiss\n",
      "8      Gyarados\n",
      "13    Magnezone\n",
      "16    Infernape\n",
      "25     Torterra\n",
      "26      Umbreon\n",
      "Name: pokemon, dtype: object Counter({4.0: 41, 2.0: 34, 8.0: 13, 16.0: 1})\n",
      "6      Togekiss\n",
      "8      Gyarados\n",
      "13    Magnezone\n",
      "24      Lucario\n",
      "25     Torterra\n",
      "26      Umbreon\n",
      "Name: pokemon, dtype: object Counter({4.0: 37, 2.0: 34, 8.0: 15, 16.0: 2, 0.0: 1})\n",
      "6      Togekiss\n",
      "9       Kingdra\n",
      "13    Magnezone\n",
      "16    Infernape\n",
      "25     Torterra\n",
      "26      Umbreon\n",
      "Name: pokemon, dtype: object Counter({4.0: 38, 2.0: 37, 8.0: 13, 16.0: 1})\n",
      "6      Togekiss\n",
      "10      Milotic\n",
      "13    Magnezone\n",
      "16    Infernape\n",
      "25     Torterra\n",
      "26      Umbreon\n",
      "Name: pokemon, dtype: object Counter({4.0: 39, 2.0: 37, 8.0: 12, 16.0: 1})\n",
      "6      Togekiss\n",
      "12       Lapras\n",
      "13    Magnezone\n",
      "16    Infernape\n",
      "25     Torterra\n",
      "26      Umbreon\n",
      "Name: pokemon, dtype: object Counter({4.0: 39, 2.0: 37, 8.0: 12, 16.0: 1})\n",
      "\n"
     ]
    },
    {
     "data": {
      "text/plain": "(8, 0, 26)"
     },
     "execution_count": 129,
     "metadata": {},
     "output_type": "execute_result"
    }
   ],
   "source": [
    "no_zeroes_t = set()\r\n",
    "# one_zeroes_t = set()\r\n",
    "no_twos_t = set()\r\n",
    "\r\n",
    "\r\n",
    "for i in tqdm_notebook(range(23,28)):\r\n",
    "    slice = pok_dft.iloc[:i,:]\r\n",
    "    combs = list(combinations(slice.type, 6))\r\n",
    "    for comb in combs:\r\n",
    "        scores = scores_df[scores_df.index.isin(comb)].max(axis=0).values\r\n",
    "        if 2 not in scores:\r\n",
    "            no_twos_t.add(comb)\r\n",
    "            print(pok_dft[pok_dft['type'].isin(comb)]['pokemon'], collections.Counter(scores))\r\n",
    "        elif 0 not in scores:\r\n",
    "            no_zeroes_t.add(comb)\r\n",
    "            print(pok_dft[pok_dft['type'].isin(comb)]['pokemon'], collections.Counter(scores))\r\n",
    "        elif collections.Counter(scores)[0] == 1:\r\n",
    "            one_zeroes_t.add(comb)\r\n",
    "            print(pok_dft[pok_dft['type'].isin(comb)]['pokemon'], collections.Counter(scores))\r\n",
    "\r\n",
    "len(no_zeroes_t), len(no_twos_t), len(one_zeroes_t)"
   ]
  },
  {
   "cell_type": "code",
   "execution_count": 130,
   "metadata": {},
   "outputs": [
    {
     "name": "stderr",
     "output_type": "stream",
     "text": [
      "<ipython-input-130-9b9623828882>:5: TqdmDeprecationWarning: This function will be removed in tqdm==5.0.0\n",
      "Please use `tqdm.notebook.tqdm` instead of `tqdm.tqdm_notebook`\n",
      "  for i in tqdm_notebook(range(23,28)):\n"
     ]
    },
    {
     "data": {
      "application/vnd.jupyter.widget-view+json": {
       "model_id": "bcde0dd0c19e4a159efa264288907bf8",
       "version_major": 2,
       "version_minor": 0
      },
      "text/plain": "HBox(children=(HTML(value=''), FloatProgress(value=0.0, max=5.0), HTML(value='')))"
     },
     "metadata": {},
     "output_type": "display_data"
    },
    {
     "name": "stdout",
     "output_type": "stream",
     "text": [
      "6      Togekiss\n",
      "13    Magnezone\n",
      "15    Tangrowth\n",
      "36      Gliscor\n",
      "38      Weavile\n",
      "45    Heracross\n",
      "Name: pokemon, dtype: object Counter({4.0: 45, 2.0: 32, 8.0: 10, 16.0: 1, 0.0: 1})\n",
      "6      Togekiss\n",
      "13    Magnezone\n",
      "15    Tangrowth\n",
      "36      Gliscor\n",
      "38      Weavile\n",
      "45    Heracross\n",
      "Name: pokemon, dtype: object Counter({4.0: 45, 2.0: 32, 8.0: 10, 16.0: 1, 0.0: 1})\n",
      "6      Togekiss\n",
      "13    Magnezone\n",
      "15    Tangrowth\n",
      "36      Gliscor\n",
      "38      Weavile\n",
      "45    Heracross\n",
      "Name: pokemon, dtype: object Counter({4.0: 45, 2.0: 32, 8.0: 10, 16.0: 1, 0.0: 1})\n",
      "6      Togekiss\n",
      "13    Magnezone\n",
      "15    Tangrowth\n",
      "36      Gliscor\n",
      "38      Weavile\n",
      "45    Heracross\n",
      "Name: pokemon, dtype: object Counter({4.0: 45, 2.0: 32, 8.0: 10, 16.0: 1, 0.0: 1})\n",
      "2      Garchomp\n",
      "5      Arcanine\n",
      "6      Togekiss\n",
      "13    Magnezone\n",
      "38      Weavile\n",
      "45    Heracross\n",
      "Name: pokemon, dtype: object Counter({4.0: 38, 2.0: 37, 8.0: 12, 16.0: 1, 0.0: 1})\n",
      "6      Togekiss\n",
      "13    Magnezone\n",
      "15    Tangrowth\n",
      "36      Gliscor\n",
      "38      Weavile\n",
      "45    Heracross\n",
      "Name: pokemon, dtype: object Counter({4.0: 45, 2.0: 32, 8.0: 10, 16.0: 1, 0.0: 1})\n",
      "\n"
     ]
    },
    {
     "data": {
      "text/plain": "(0, 0, 2)"
     },
     "execution_count": 130,
     "metadata": {},
     "output_type": "execute_result"
    }
   ],
   "source": [
    "no_zeroes_at = set()\r\n",
    "# one_zeroes_at = set()\r\n",
    "no_twos_at = set()\r\n",
    "\r\n",
    "for i in tqdm_notebook(range(23,28)):\r\n",
    "    slice = pok_dfat.iloc[:i,:]\r\n",
    "    combs = list(combinations(slice.type, 6))\r\n",
    "    for comb in combs:\r\n",
    "        scores = scores_df[scores_df.index.isin(comb)].max(axis=0).values\r\n",
    "        if 2 not in scores:\r\n",
    "            no_twos_at.add(comb)\r\n",
    "            print(pok_dft[pok_dft['type'].isin(comb)]['pokemon'], collections.Counter(scores))\r\n",
    "        elif 0 not in scores:\r\n",
    "            no_zeroes_at.add(comb)\r\n",
    "            print(pok_dft[pok_dft['type'].isin(comb)]['pokemon'], collections.Counter(scores))\r\n",
    "        elif collections.Counter(scores)[0] == 1:\r\n",
    "            one_zeroes_at.add(comb)\r\n",
    "            print(pok_dft[pok_dft['type'].isin(comb)]['pokemon'], collections.Counter(scores))\r\n",
    "\r\n",
    "len(no_zeroes_at), len(no_twos_at), len(one_zeroes_at)"
   ]
  },
  {
   "cell_type": "code",
   "execution_count": 105,
   "metadata": {},
   "outputs": [
    {
     "data": {
      "text/plain": "Index([('bug', 'fighting')], dtype='object')"
     },
     "metadata": {},
     "output_type": "display_data"
    },
    {
     "data": {
      "text/plain": "4     42\n2     32\n8     14\n0      1\n16     1\ndtype: int64"
     },
     "metadata": {},
     "output_type": "display_data"
    },
    {
     "data": {
      "text/plain": "Index([('bug', 'fighting')], dtype='object')"
     },
     "metadata": {},
     "output_type": "display_data"
    },
    {
     "data": {
      "text/plain": "4     38\n2     36\n8     14\n0      1\n16     1\ndtype: int64"
     },
     "metadata": {},
     "output_type": "display_data"
    },
    {
     "data": {
      "text/plain": "Index([('bug', 'fighting')], dtype='object')"
     },
     "metadata": {},
     "output_type": "display_data"
    },
    {
     "data": {
      "text/plain": "4     40\n2     35\n8     13\n0      1\n16     1\ndtype: int64"
     },
     "metadata": {},
     "output_type": "display_data"
    },
    {
     "data": {
      "text/plain": "Index([('bug', 'fighting')], dtype='object')"
     },
     "metadata": {},
     "output_type": "display_data"
    },
    {
     "data": {
      "text/plain": "4     39\n2     36\n8     13\n0      1\n16     1\ndtype: int64"
     },
     "metadata": {},
     "output_type": "display_data"
    }
   ],
   "source": [
    "for comb in one_zeroes_t:\r\n",
    "    if scores_df[scores_df.index.isin(comb)].max(axis=0).value_counts()[2] < 40:\r\n",
    "        dis(scores_df.columns[scores_df[scores_df.index.isin(comb)].max(axis= 0) == 16])\r\n",
    "        test = scores_df[scores_df.index.isin(comb)].max(axis=0).value_counts()\r\n",
    "        test.index = test.index.astype(int)\r\n",
    "        dis(test)"
   ]
  },
  {
   "cell_type": "code",
   "execution_count": 104,
   "metadata": {},
   "outputs": [
    {
     "data": {
      "text/plain": "normal                 1.0\nfire                   0.5\nwater                  1.0\nelectric               0.0\ngrass                  4.0\nice                    1.0\nfighting               1.0\npoison                 0.5\nground                 1.0\nflying                 1.0\npsychic                1.0\nbug                    1.0\nrock                   0.5\nghost                  1.0\ndragon                 1.0\ndark                   1.0\nsteel                  0.5\nfairy                  1.0\n(dragon, flying)       1.0\n(dragon, ground)       1.0\n(psychic, steel)       1.0\n(rock, dark)           1.0\n(fairy, flying)        1.0\n(water, flying)        1.0\n(dragon, water)        1.0\n(poison, flying)       1.0\n(ice, water)           1.0\n(steel, electric)      0.5\n(rock, ground)         1.0\n(fire, flying)         1.0\n(fire, fighting)       1.0\n(steel, rock)          0.5\n(steel, water)         1.0\n(ice, ground)          1.0\n(steel, fighting)      1.0\n(grass, ground)        4.0\n(grass, poison)        4.0\n(grass, psychic)       4.0\n(ghost, electric)      1.0\n(psychic, water)       1.0\n(psychic, fighting)    1.0\n(psychic, fairy)       1.0\n(flying, rock)         1.0\n(poison, water)        1.0\n(bug, flying)          1.0\n(flying, ground)       1.0\n(steel, ground)        1.0\n(ice, dark)            1.0\n(flying, dark)         1.0\n(bug, rock)            1.0\n(psychic, ground)      1.0\n(poison, dark)         1.0\n(poison, ghost)        1.0\n(bug, fighting)        1.0\n(fire, dark)           1.0\n(water, fighting)      1.0\n(bug, steel)           1.0\n(flying, ghost)        1.0\n(grass, rock)          4.0\n(water, rock)          1.0\n(poison, ground)       1.0\n(ice, grass)           4.0\n(poison, fighting)     1.0\n(dark, ghost)          1.0\n(ice, ghost)           1.0\n(grass, water)         4.0\n(grass, dark)          4.0\n(water, ground)        1.0\n(normal, flying)       1.0\n(psychic, flying)      1.0\n(water, dark)          1.0\n(steel, flying)        1.0\n(grass, fighting)      4.0\n(fire, ground)         1.0\n(water, electric)      1.0\n(grass, flying)        4.0\n(psychic, normal)      1.0\n(ice, psychic)         1.0\n(bug, poison)          1.0\n(psychic, rock)        1.0\n(fairy, normal)        1.0\n(bug, grass)           4.0\n(fairy, water)         1.0\n(water, normal)        1.0\n(fire, rock)           0.5\n(steel, fairy)         1.0\n(ice, flying)          1.0\n(bug, water)           1.0\n(bug, ground)          1.0\n(bug, ghost)           1.0\nName: (water, ground), dtype: float64"
     },
     "metadata": {},
     "output_type": "display_data"
    }
   ],
   "source": [
    "with pd.option_context('display.max_rows', 90):\r\n",
    "    dis(type_chart_joined[frozenset({'water', 'ground'})])"
   ]
  },
  {
   "cell_type": "code",
   "execution_count": 68,
   "metadata": {},
   "outputs": [],
   "source": [
    "pok_d = {'comb': [], 'pokemon': [], '2score': [], 'total': [], 'alttotal': []}\r\n",
    "\r\n",
    "for comb in one_zeroes_t:\r\n",
    "    if scores_df[scores_df.index.isin(comb)].max(axis=0).value_counts()[2]:\r\n",
    "        test = scores_df[scores_df.index.isin(comb)].max(axis=0).value_counts()\r\n",
    "        test.index = test.index.astype(int)\r\n",
    "        #dis(test.sort_index(), pok_dft[pok_dft['type'].isin(comb)]['pokemon'])\r\n",
    "        pok_d['comb'].append(comb)\r\n",
    "        pok_d['pokemon'].append([pok_dft[pok_dft['type'].isin(comb)]['pokemon']])\r\n",
    "        pok_d['2score'].append(test[2])\r\n",
    "        pok_d['total'].append(pok_dft[pok_dft['type'].isin(comb)]['total'].sum())\r\n",
    "        pok_d['alttotal'].append(pok_dft[pok_dft['type'].isin(comb)]['alttotal'].sum())\r\n",
    "\r\n",
    "ranking = pd.DataFrame.from_dict(pok_d)"
   ]
  },
  {
   "cell_type": "code",
   "execution_count": 70,
   "metadata": {},
   "outputs": [
    {
     "data": {
      "text/html": "<div>\n<style scoped>\n    .dataframe tbody tr th:only-of-type {\n        vertical-align: middle;\n    }\n\n    .dataframe tbody tr th {\n        vertical-align: top;\n    }\n\n    .dataframe thead th {\n        text-align: right;\n    }\n</style>\n<table border=\"1\" class=\"dataframe\">\n  <thead>\n    <tr style=\"text-align: right;\">\n      <th></th>\n      <th>comb</th>\n      <th>pokemon</th>\n      <th>2score</th>\n      <th>total</th>\n      <th>alttotal</th>\n    </tr>\n  </thead>\n  <tbody>\n    <tr>\n      <th>0</th>\n      <td>((dragon, ground), (rock, dark), (fairy, flying), (water, flying), (steel, electric), (fire, fighting))</td>\n      <td>[[Garchomp, Tyranitar, Togekiss, Gyarados, Magnezone, Infernape]]</td>\n      <td>32</td>\n      <td>3354</td>\n      <td>2895</td>\n    </tr>\n    <tr>\n      <th>1</th>\n      <td>((dragon, ground), (rock, dark), (fairy, flying), (dragon, water), (steel, electric), (fire, fighting))</td>\n      <td>[[Garchomp, Tyranitar, Togekiss, Kingdra, Magnezone, Infernape]]</td>\n      <td>36</td>\n      <td>3354</td>\n      <td>2860</td>\n    </tr>\n    <tr>\n      <th>2</th>\n      <td>((dragon, ground), (rock, dark), (fairy, flying), (ice, water), (steel, electric), (fire, fighting))</td>\n      <td>[[Garchomp, Tyranitar, Togekiss, Lapras, Magnezone, Infernape]]</td>\n      <td>35</td>\n      <td>3349</td>\n      <td>2865</td>\n    </tr>\n    <tr>\n      <th>3</th>\n      <td>((dragon, ground), (rock, dark), (fairy, flying), water, (steel, electric), (fire, fighting))</td>\n      <td>[[Garchomp, Tyranitar, Togekiss, Milotic, Magnezone, Infernape]]</td>\n      <td>36</td>\n      <td>3354</td>\n      <td>2895</td>\n    </tr>\n  </tbody>\n</table>\n</div>",
      "text/plain": "                                                                                                      comb  \\\n0  ((dragon, ground), (rock, dark), (fairy, flying), (water, flying), (steel, electric), (fire, fighting))   \n1  ((dragon, ground), (rock, dark), (fairy, flying), (dragon, water), (steel, electric), (fire, fighting))   \n2  ((dragon, ground), (rock, dark), (fairy, flying), (ice, water), (steel, electric), (fire, fighting))      \n3  ((dragon, ground), (rock, dark), (fairy, flying), water, (steel, electric), (fire, fighting))             \n\n                                                             pokemon  2score  \\\n0  [[Garchomp, Tyranitar, Togekiss, Gyarados, Magnezone, Infernape]]  32       \n1  [[Garchomp, Tyranitar, Togekiss, Kingdra, Magnezone, Infernape]]   36       \n2  [[Garchomp, Tyranitar, Togekiss, Lapras, Magnezone, Infernape]]    35       \n3  [[Garchomp, Tyranitar, Togekiss, Milotic, Magnezone, Infernape]]   36       \n\n   total  alttotal  \n0  3354   2895      \n1  3354   2860      \n2  3349   2865      \n3  3354   2895      "
     },
     "metadata": {},
     "output_type": "display_data"
    },
    {
     "data": {
      "text/html": "<div>\n<style scoped>\n    .dataframe tbody tr th:only-of-type {\n        vertical-align: middle;\n    }\n\n    .dataframe tbody tr th {\n        vertical-align: top;\n    }\n\n    .dataframe thead th {\n        text-align: right;\n    }\n</style>\n<table border=\"1\" class=\"dataframe\">\n  <thead>\n    <tr style=\"text-align: right;\">\n      <th></th>\n      <th></th>\n      <th>comb</th>\n      <th>pokemon</th>\n      <th>2score</th>\n      <th>total</th>\n      <th>alttotal</th>\n    </tr>\n    <tr>\n      <th>2score</th>\n      <th></th>\n      <th></th>\n      <th></th>\n      <th></th>\n      <th></th>\n      <th></th>\n    </tr>\n  </thead>\n  <tbody>\n    <tr>\n      <th>32</th>\n      <th>0</th>\n      <td>((dragon, ground), (rock, dark), (fairy, flying), (water, flying), (steel, electric), (fire, fighting))</td>\n      <td>[[Garchomp, Tyranitar, Togekiss, Gyarados, Magnezone, Infernape]]</td>\n      <td>32</td>\n      <td>3354</td>\n      <td>2895</td>\n    </tr>\n    <tr>\n      <th>35</th>\n      <th>2</th>\n      <td>((dragon, ground), (rock, dark), (fairy, flying), (ice, water), (steel, electric), (fire, fighting))</td>\n      <td>[[Garchomp, Tyranitar, Togekiss, Lapras, Magnezone, Infernape]]</td>\n      <td>35</td>\n      <td>3349</td>\n      <td>2865</td>\n    </tr>\n    <tr>\n      <th>36</th>\n      <th>1</th>\n      <td>((dragon, ground), (rock, dark), (fairy, flying), (dragon, water), (steel, electric), (fire, fighting))</td>\n      <td>[[Garchomp, Tyranitar, Togekiss, Kingdra, Magnezone, Infernape]]</td>\n      <td>36</td>\n      <td>3354</td>\n      <td>2860</td>\n    </tr>\n  </tbody>\n</table>\n</div>",
      "text/plain": "                                                                                                             comb  \\\n2score                                                                                                              \n32     0  ((dragon, ground), (rock, dark), (fairy, flying), (water, flying), (steel, electric), (fire, fighting))   \n35     2  ((dragon, ground), (rock, dark), (fairy, flying), (ice, water), (steel, electric), (fire, fighting))      \n36     1  ((dragon, ground), (rock, dark), (fairy, flying), (dragon, water), (steel, electric), (fire, fighting))   \n\n                                                                    pokemon  \\\n2score                                                                        \n32     0  [[Garchomp, Tyranitar, Togekiss, Gyarados, Magnezone, Infernape]]   \n35     2  [[Garchomp, Tyranitar, Togekiss, Lapras, Magnezone, Infernape]]     \n36     1  [[Garchomp, Tyranitar, Togekiss, Kingdra, Magnezone, Infernape]]    \n\n          2score  total  alttotal  \n2score                             \n32     0  32      3354   2895      \n35     2  35      3349   2865      \n36     1  36      3354   2860      "
     },
     "metadata": {},
     "output_type": "display_data"
    }
   ],
   "source": [
    "with pd.option_context('display.max_colwidth', -1):\r\n",
    "    dis(ranking)\r\n",
    "    dis(ranking.sort_values('2score').groupby(by='2score').apply(lambda x: x.nlargest(1,'total')))\r\n",
    "    ranking.sort_values('total', ascending=False)"
   ]
  },
  {
   "cell_type": "code",
   "execution_count": 21,
   "metadata": {},
   "outputs": [
    {
     "data": {
      "text/plain": "normal                 1.0\n(dragon, flying)       2.0\n(psychic, steel)       1.0\n(dragon, water)        1.0\n(ice, water)           1.0\n(fire, fighting)       2.0\n(steel, water)         2.0\n(ice, ground)          1.0\n(steel, fighting)      2.0\n(grass, poison)        1.0\n(grass, psychic)       1.0\n(ghost, electric)      2.0\n(psychic, water)       2.0\n(psychic, fighting)    1.0\n(poison, water)        2.0\n(flying, ground)       1.0\n(steel, ground)        1.0\n(psychic, ground)      2.0\n(poison, dark)         1.0\n(water, fighting)      2.0\n(poison, ground)       1.0\n(poison, fighting)     1.0\n(dark, ghost)          1.0\n(grass, water)         1.0\n(water, dark)          3.0\n(grass, flying)        1.0\n(bug, poison)          1.0\n(fairy, water)         2.0\n(water, normal)        2.0\n(steel, fairy)         2.0\n(bug, water)           2.0\n(bug, ghost)           2.0\ndtype: float64"
     },
     "metadata": {},
     "output_type": "display_data"
    }
   ],
   "source": [
    "for comb in ranking['comb'][:2]:\r\n",
    "    type_df = scores_df[scores_df.index.isin(comb)]\r\n",
    "    #dis(type_df.columns[type_df[type_df[type_df.max()[type_df.max() == 2].index] == 2].count() < 2].shape[0])\r\n",
    "    dis(type_df[type_df.max()[type_df.max() == 2].index].sum()/2)\r\n"
   ]
  },
  {
   "cell_type": "code",
   "execution_count": 22,
   "metadata": {},
   "outputs": [
    {
     "ename": "SyntaxError",
     "evalue": "invalid syntax (<ipython-input-22-eaf083cb72bb>, line 1)",
     "output_type": "error",
     "traceback": [
      "\u001b[1;36m  File \u001b[1;32m\"<ipython-input-22-eaf083cb72bb>\"\u001b[1;36m, line \u001b[1;32m1\u001b[0m\n\u001b[1;33m    for\u001b[0m\n\u001b[1;37m        ^\u001b[0m\n\u001b[1;31mSyntaxError\u001b[0m\u001b[1;31m:\u001b[0m invalid syntax\n"
     ]
    }
   ],
   "source": [
    "for "
   ]
  },
  {
   "cell_type": "code",
   "execution_count": null,
   "metadata": {},
   "outputs": [
    {
     "data": {
      "text/html": "<div>\n<style scoped>\n    .dataframe tbody tr th:only-of-type {\n        vertical-align: middle;\n    }\n\n    .dataframe tbody tr th {\n        vertical-align: top;\n    }\n\n    .dataframe thead th {\n        text-align: right;\n    }\n</style>\n<table border=\"1\" class=\"dataframe\">\n  <thead>\n    <tr style=\"text-align: right;\">\n      <th></th>\n      <th>df</th>\n      <th>dsf</th>\n    </tr>\n  </thead>\n  <tbody>\n    <tr>\n      <th>0</th>\n      <td>1</td>\n      <td>12</td>\n    </tr>\n    <tr>\n      <th>1</th>\n      <td>2</td>\n      <td>31</td>\n    </tr>\n  </tbody>\n</table>\n</div>",
      "text/plain": "   df  dsf\n0   1   12\n1   2   31"
     },
     "execution_count": 40,
     "metadata": {},
     "output_type": "execute_result"
    }
   ],
   "source": [
    "dict1 = {'df': [1,2], 'dsf':[12,31]}\r\n",
    "pd.DataFrame.from_dict(dict1)"
   ]
  },
  {
   "cell_type": "code",
   "execution_count": null,
   "metadata": {},
   "outputs": [
    {
     "data": {
      "text/plain": "0              normal\n1    (flying, dragon)\n2    (ground, dragon)\n3    (steel, psychic)\n4    (flying, dragon)\n5        (rock, dark)\nName: type, dtype: object"
     },
     "metadata": {},
     "output_type": "display_data"
    },
    {
     "data": {
      "text/plain": "normal                 2.0\nfire                   4.0\nwater                  2.0\nelectric               4.0\ngrass                  8.0\nice                    4.0\nfighting               4.0\npoison                 4.0\nground                 4.0\nflying                 4.0\npsychic                4.0\nbug                    4.0\nrock                   4.0\nghost                  4.0\ndragon                 2.0\ndark                   2.0\nsteel                  2.0\nfairy                  4.0\n(flying, dragon)       2.0\n(ground, dragon)       0.0\n(steel, psychic)       2.0\n(rock, dark)           2.0\n(fairy, flying)        4.0\n(water, flying)        0.0\n(water, dragon)        0.0\n(flying, poison)       4.0\n(ice, water)           0.0\n(electric, steel)      4.0\n(rock, ground)         2.0\n(water, ground)        2.0\n(flying, fire)         8.0\n(fighting, fire)       4.0\n(steel, rock)          4.0\n(steel, water)         2.0\n(ice, ground)          0.0\n(steel, fighting)      2.0\n(ground, grass)        8.0\n(poison, grass)        4.0\n(psychic, grass)       2.0\n(electric, ghost)      2.0\n(water, psychic)       0.0\n(fighting, psychic)    2.0\n(fairy, psychic)       4.0\n(rock, flying)         4.0\n(water, poison)        2.0\n(bug, flying)          2.0\n(ground, flying)       0.0\n(steel, ground)        2.0\n(ice, dark)            2.0\n(flying, dark)         4.0\n(rock, bug)            2.0\n(ground, psychic)      0.0\n(poison, dark)         2.0\n(poison, ghost)        4.0\n(bug, fighting)        8.0\n(dark, fire)           4.0\n(water, fighting)      4.0\n(steel, bug)           0.0\n(flying, ghost)        4.0\n(rock, grass)          4.0\n(rock, water)          2.0\n(ground, poison)       2.0\n(ice, grass)           4.0\n(poison, fighting)     4.0\n(dark, ghost)          2.0\n(ice, ghost)           2.0\n(water, grass)         4.0\n(dark, grass)          2.0\n(flying, normal)       4.0\n(flying, psychic)      4.0\n(water, dark)          0.0\n(steel, flying)        0.0\n(fighting, grass)      8.0\n(ground, fire)         2.0\n(electric, water)      2.0\n(flying, grass)        2.0\n(normal, psychic)      4.0\n(ice, psychic)         4.0\n(bug, poison)          2.0\n(rock, psychic)        4.0\n(fairy, normal)        4.0\n(bug, grass)           8.0\n(water, fairy)         0.0\n(water, normal)        0.0\n(rock, fire)           8.0\n(steel, fairy)         2.0\n(ice, flying)          4.0\n(water, bug)           4.0\n(ground, bug)          4.0\n(bug, ghost)           2.0\ndtype: float64"
     },
     "metadata": {},
     "output_type": "display_data"
    }
   ],
   "source": [
    "for i in range(6,7):\r\n",
    "    with pd.option_context('display.max_rows', 100, 'display.max_columns', 90):\r\n",
    "        dis(pok_df.iloc[:i,:]['type'])\r\n",
    "        dis(scores_df[scores_df.index.isin(pok_df.iloc[:i,:]['type'])].max(axis=0))"
   ]
  },
  {
   "cell_type": "code",
   "execution_count": null,
   "metadata": {},
   "outputs": [
    {
     "ename": "NameError",
     "evalue": "name 'frozenlist' is not defined",
     "output_type": "error",
     "traceback": [
      "\u001b[1;31m---------------------------------------------------------------------------\u001b[0m",
      "\u001b[1;31mNameError\u001b[0m                                 Traceback (most recent call last)",
      "\u001b[1;32m<ipython-input-18-78194cfbc255>\u001b[0m in \u001b[0;36m<module>\u001b[1;34m\u001b[0m\n\u001b[0;32m      1\u001b[0m \u001b[0mpok_df\u001b[0m\u001b[1;33m[\u001b[0m\u001b[1;34m'score'\u001b[0m\u001b[1;33m]\u001b[0m \u001b[1;33m=\u001b[0m \u001b[0mnp\u001b[0m\u001b[1;33m.\u001b[0m\u001b[0mnan\u001b[0m\u001b[1;33m\u001b[0m\u001b[1;33m\u001b[0m\u001b[0m\n\u001b[0;32m      2\u001b[0m \u001b[1;32mfor\u001b[0m \u001b[0mi\u001b[0m\u001b[1;33m,\u001b[0m\u001b[0mpok\u001b[0m \u001b[1;32min\u001b[0m \u001b[0menumerate\u001b[0m\u001b[1;33m(\u001b[0m\u001b[0mpok_df\u001b[0m\u001b[1;33m[\u001b[0m\u001b[1;33m:\u001b[0m\u001b[1;36m6\u001b[0m\u001b[1;33m]\u001b[0m\u001b[1;33m.\u001b[0m\u001b[0mitertuples\u001b[0m\u001b[1;33m(\u001b[0m\u001b[1;33m)\u001b[0m\u001b[1;33m)\u001b[0m\u001b[1;33m:\u001b[0m\u001b[1;33m\u001b[0m\u001b[1;33m\u001b[0m\u001b[0m\n\u001b[1;32m----> 3\u001b[1;33m     \u001b[0mpok_df\u001b[0m\u001b[1;33m.\u001b[0m\u001b[0mat\u001b[0m\u001b[1;33m[\u001b[0m\u001b[0mi\u001b[0m\u001b[1;33m,\u001b[0m \u001b[1;34m'score'\u001b[0m\u001b[1;33m]\u001b[0m \u001b[1;33m=\u001b[0m \u001b[0mfrozenlist\u001b[0m\u001b[1;33m(\u001b[0m\u001b[0mscores_df\u001b[0m\u001b[1;33m.\u001b[0m\u001b[0mloc\u001b[0m\u001b[1;33m[\u001b[0m\u001b[0mpok\u001b[0m\u001b[1;33m.\u001b[0m\u001b[0mtype\u001b[0m\u001b[1;33m,\u001b[0m\u001b[1;33m:\u001b[0m\u001b[1;33m]\u001b[0m\u001b[1;33m.\u001b[0m\u001b[0mtolist\u001b[0m\u001b[1;33m(\u001b[0m\u001b[1;33m)\u001b[0m\u001b[1;33m)\u001b[0m\u001b[1;33m\u001b[0m\u001b[1;33m\u001b[0m\u001b[0m\n\u001b[0m\u001b[0;32m      4\u001b[0m \u001b[1;33m\u001b[0m\u001b[0m\n\u001b[0;32m      5\u001b[0m \u001b[0mpok_df\u001b[0m\u001b[1;33m\u001b[0m\u001b[1;33m\u001b[0m\u001b[0m\n",
      "\u001b[1;31mNameError\u001b[0m: name 'frozenlist' is not defined"
     ]
    }
   ],
   "source": [
    "pok_df['score'] = np.nan\r\n",
    "for i,pok in enumerate(pok_df[:6].itertuples()):\r\n",
    "    pok_df.at[i, 'score'] = frozenlist(scores_df.loc[pok.type,:].tolist())\r\n",
    "\r\n",
    "pok_df"
   ]
  },
  {
   "cell_type": "code",
   "execution_count": null,
   "metadata": {},
   "outputs": [],
   "source": []
  }
 ],
 "metadata": {
  "kernelspec": {
   "display_name": "Python 3.8.5 64-bit ('base': conda)",
   "name": "python385jvsc74a57bd06d46af94c2bbce495f1e668725902fa517c90b1782bcfe2fce0dd9868df553d3"
  },
  "language_info": {
   "codemirror_mode": {
    "name": "ipython",
    "version": 3
   },
   "file_extension": ".py",
   "mimetype": "text/x-python",
   "name": "python",
   "nbconvert_exporter": "python",
   "pygments_lexer": "ipython3",
   "version": "3.8.5"
  },
  "orig_nbformat": 2
 },
 "nbformat": 4,
 "nbformat_minor": 2
}